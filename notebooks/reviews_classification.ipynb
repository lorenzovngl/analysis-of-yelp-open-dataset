{
 "cells": [
  {
   "cell_type": "markdown",
   "metadata": {},
   "source": [
    "# Reviews classification"
   ]
  },
  {
   "cell_type": "markdown",
   "metadata": {},
   "source": [
    "#### Data loading\n",
    "\n",
    "* review.json is 6.3 GB and only first 500.000 records will be loaded."
   ]
  },
  {
   "cell_type": "code",
   "execution_count": 1,
   "metadata": {},
   "outputs": [],
   "source": [
    "import json \n",
    "import numpy as np\n",
    "import pandas as pd"
   ]
  },
  {
   "cell_type": "code",
   "execution_count": 41,
   "metadata": {},
   "outputs": [
    {
     "name": "stdout",
     "output_type": "stream",
     "text": [
      "50000 records loaded from review.json, each composed by 9 columns.\n"
     ]
    }
   ],
   "source": [
    "data_size_review = 50000\n",
    "\n",
    "with open(\"../yelp_dataset/yelp_academic_dataset_review.json\", 'r') as f:\n",
    "    review_head = [next(f) for x in range(data_size_review)]\n",
    "f.close()\n",
    "\n",
    "review_data = []\n",
    "for line in review_head:\n",
    "    review_data.append(json.loads(line))\n",
    "\n",
    "df = pd.DataFrame(review_data)\n",
    "\n",
    "print(\"%i records loaded from review.json, each composed by %i columns.\" % (df.shape[0], df.shape[1]))"
   ]
  },
  {
   "cell_type": "markdown",
   "metadata": {},
   "source": [
    "#### Data preview"
   ]
  },
  {
   "cell_type": "code",
   "execution_count": 42,
   "metadata": {
    "scrolled": false
   },
   "outputs": [
    {
     "data": {
      "text/html": [
       "<div>\n",
       "<style scoped>\n",
       "    .dataframe tbody tr th:only-of-type {\n",
       "        vertical-align: middle;\n",
       "    }\n",
       "\n",
       "    .dataframe tbody tr th {\n",
       "        vertical-align: top;\n",
       "    }\n",
       "\n",
       "    .dataframe thead th {\n",
       "        text-align: right;\n",
       "    }\n",
       "</style>\n",
       "<table border=\"1\" class=\"dataframe\">\n",
       "  <thead>\n",
       "    <tr style=\"text-align: right;\">\n",
       "      <th></th>\n",
       "      <th>business_id</th>\n",
       "      <th>cool</th>\n",
       "      <th>date</th>\n",
       "      <th>funny</th>\n",
       "      <th>review_id</th>\n",
       "      <th>stars</th>\n",
       "      <th>text</th>\n",
       "      <th>useful</th>\n",
       "      <th>user_id</th>\n",
       "    </tr>\n",
       "  </thead>\n",
       "  <tbody>\n",
       "    <tr>\n",
       "      <th>0</th>\n",
       "      <td>-MhfebM0QIsKt87iDN-FNw</td>\n",
       "      <td>0</td>\n",
       "      <td>2015-04-15 05:21:16</td>\n",
       "      <td>0</td>\n",
       "      <td>xQY8N_XvtGbearJ5X4QryQ</td>\n",
       "      <td>2.0</td>\n",
       "      <td>As someone who has worked with many museums, I...</td>\n",
       "      <td>5</td>\n",
       "      <td>OwjRMXRC0KyPrIlcjaXeFQ</td>\n",
       "    </tr>\n",
       "    <tr>\n",
       "      <th>1</th>\n",
       "      <td>lbrU8StCq3yDfr-QMnGrmQ</td>\n",
       "      <td>0</td>\n",
       "      <td>2013-12-07 03:16:52</td>\n",
       "      <td>1</td>\n",
       "      <td>UmFMZ8PyXZTY2QcwzsfQYA</td>\n",
       "      <td>1.0</td>\n",
       "      <td>I am actually horrified this place is still in...</td>\n",
       "      <td>1</td>\n",
       "      <td>nIJD_7ZXHq-FX8byPMOkMQ</td>\n",
       "    </tr>\n",
       "    <tr>\n",
       "      <th>2</th>\n",
       "      <td>HQl28KMwrEKHqhFrrDqVNQ</td>\n",
       "      <td>0</td>\n",
       "      <td>2015-12-05 03:18:11</td>\n",
       "      <td>0</td>\n",
       "      <td>LG2ZaYiOgpr2DK_90pYjNw</td>\n",
       "      <td>5.0</td>\n",
       "      <td>I love Deagan's. I do. I really do. The atmosp...</td>\n",
       "      <td>1</td>\n",
       "      <td>V34qejxNsCbcgD8C0HVk-Q</td>\n",
       "    </tr>\n",
       "    <tr>\n",
       "      <th>3</th>\n",
       "      <td>5JxlZaqCnk1MnbgRirs40Q</td>\n",
       "      <td>0</td>\n",
       "      <td>2011-05-27 05:30:52</td>\n",
       "      <td>0</td>\n",
       "      <td>i6g_oA9Yf9Y31qt0wibXpw</td>\n",
       "      <td>1.0</td>\n",
       "      <td>Dismal, lukewarm, defrosted-tasting \"TexMex\" g...</td>\n",
       "      <td>0</td>\n",
       "      <td>ofKDkJKXSKZXu5xJNGiiBQ</td>\n",
       "    </tr>\n",
       "    <tr>\n",
       "      <th>4</th>\n",
       "      <td>IS4cv902ykd8wj1TR0N3-A</td>\n",
       "      <td>0</td>\n",
       "      <td>2017-01-14 21:56:57</td>\n",
       "      <td>0</td>\n",
       "      <td>6TdNDKywdbjoTkizeMce8A</td>\n",
       "      <td>4.0</td>\n",
       "      <td>Oh happy day, finally have a Canes near my cas...</td>\n",
       "      <td>0</td>\n",
       "      <td>UgMW8bLE0QMJDCkQ1Ax5Mg</td>\n",
       "    </tr>\n",
       "  </tbody>\n",
       "</table>\n",
       "</div>"
      ],
      "text/plain": [
       "              business_id  cool                 date  funny  \\\n",
       "0  -MhfebM0QIsKt87iDN-FNw     0  2015-04-15 05:21:16      0   \n",
       "1  lbrU8StCq3yDfr-QMnGrmQ     0  2013-12-07 03:16:52      1   \n",
       "2  HQl28KMwrEKHqhFrrDqVNQ     0  2015-12-05 03:18:11      0   \n",
       "3  5JxlZaqCnk1MnbgRirs40Q     0  2011-05-27 05:30:52      0   \n",
       "4  IS4cv902ykd8wj1TR0N3-A     0  2017-01-14 21:56:57      0   \n",
       "\n",
       "                review_id  stars  \\\n",
       "0  xQY8N_XvtGbearJ5X4QryQ    2.0   \n",
       "1  UmFMZ8PyXZTY2QcwzsfQYA    1.0   \n",
       "2  LG2ZaYiOgpr2DK_90pYjNw    5.0   \n",
       "3  i6g_oA9Yf9Y31qt0wibXpw    1.0   \n",
       "4  6TdNDKywdbjoTkizeMce8A    4.0   \n",
       "\n",
       "                                                text  useful  \\\n",
       "0  As someone who has worked with many museums, I...       5   \n",
       "1  I am actually horrified this place is still in...       1   \n",
       "2  I love Deagan's. I do. I really do. The atmosp...       1   \n",
       "3  Dismal, lukewarm, defrosted-tasting \"TexMex\" g...       0   \n",
       "4  Oh happy day, finally have a Canes near my cas...       0   \n",
       "\n",
       "                  user_id  \n",
       "0  OwjRMXRC0KyPrIlcjaXeFQ  \n",
       "1  nIJD_7ZXHq-FX8byPMOkMQ  \n",
       "2  V34qejxNsCbcgD8C0HVk-Q  \n",
       "3  ofKDkJKXSKZXu5xJNGiiBQ  \n",
       "4  UgMW8bLE0QMJDCkQ1Ax5Mg  "
      ]
     },
     "execution_count": 42,
     "metadata": {},
     "output_type": "execute_result"
    }
   ],
   "source": [
    "df.head()"
   ]
  },
  {
   "cell_type": "markdown",
   "metadata": {},
   "source": [
    "#### Building the prediction model\n",
    "\n",
    "We want to build a deep neural network that can rate from 1 to 5 a review given in input. The model will be trained on the review data from Yelp Dataset, in which each review is associated to a star rank from 1 (bad) to 5 (good)."
   ]
  },
  {
   "cell_type": "code",
   "execution_count": 43,
   "metadata": {},
   "outputs": [],
   "source": [
    "import math\n",
    "import tensorflow as tf\n",
    "from tensorflow import keras\n",
    "from tensorflow.keras.preprocessing.text import Tokenizer\n",
    "from tensorflow.keras.preprocessing.sequence import pad_sequences"
   ]
  },
  {
   "cell_type": "code",
   "execution_count": 44,
   "metadata": {},
   "outputs": [
    {
     "name": "stdout",
     "output_type": "stream",
     "text": [
      "(50000, 50000)\n"
     ]
    }
   ],
   "source": [
    "# to train the model we need (input, output) pairs: \n",
    "# sentences is the array of inputs and labels is the array of outputs.\n",
    "sentences = []\n",
    "for text in df.text:\n",
    "    sentences.append(text)\n",
    "    \n",
    "labels = []\n",
    "for star in df.stars:\n",
    "    labels.append(star)\n",
    "    \n",
    "print(len(sentences), len(labels))"
   ]
  },
  {
   "cell_type": "code",
   "execution_count": 45,
   "metadata": {},
   "outputs": [
    {
     "name": "stdout",
     "output_type": "stream",
     "text": [
      "(50000, 45000)\n"
     ]
    }
   ],
   "source": [
    "size = 50000\n",
    "train_size = int(size*0.9)\n",
    "print(size, train_size)"
   ]
  },
  {
   "cell_type": "code",
   "execution_count": 46,
   "metadata": {},
   "outputs": [
    {
     "name": "stdout",
     "output_type": "stream",
     "text": [
      "(50000, 50000)\n",
      "((45000,), (5000,))\n",
      "((45000,), (5000,))\n"
     ]
    }
   ],
   "source": [
    "sentences = sentences[:size]\n",
    "labels = labels[:size]\n",
    "\n",
    "print(len(sentences), len(labels))\n",
    "\n",
    "# split the data in (train_data, test_data)\n",
    "train_sentences = sentences[:train_size]\n",
    "test_sentences = sentences[train_size:]\n",
    "\n",
    "# it's better to normalize output values to have them between 0 and 1\n",
    "train_labels = np.array(labels[:train_size])/5\n",
    "test_labels = np.array(labels[train_size:])/5\n",
    "\n",
    "print(np.shape(train_sentences), np.shape(test_sentences))\n",
    "print(np.shape(train_labels), np.shape(test_labels))"
   ]
  },
  {
   "cell_type": "code",
   "execution_count": 71,
   "metadata": {},
   "outputs": [],
   "source": [
    "vocab_size = 10000\n",
    "embedding_dim = 16\n",
    "max_length = 100"
   ]
  },
  {
   "cell_type": "code",
   "execution_count": 72,
   "metadata": {},
   "outputs": [
    {
     "name": "stdout",
     "output_type": "stream",
     "text": [
      "(45000, 100)\n",
      "(5000, 100)\n"
     ]
    }
   ],
   "source": [
    "# tokenization phase, may takes few minutes\n",
    "\n",
    "tokenizer = Tokenizer(num_words=vocab_size, oov_token=\"OOV\")\n",
    "tokenizer.fit_on_texts(train_sentences)\n",
    "    \n",
    "train_sequences = tokenizer.texts_to_sequences(train_sentences)\n",
    "train_padded = pad_sequences(train_sequences, maxlen=max_length,\n",
    "                             padding='post')\n",
    "\n",
    "test_sequences = tokenizer.texts_to_sequences(test_sentences)\n",
    "test_padded = pad_sequences(test_sequences, maxlen=max_length,\n",
    "                            padding='post')\n",
    "\n",
    "print(np.shape(train_padded))\n",
    "print(np.shape(test_padded))"
   ]
  },
  {
   "cell_type": "code",
   "execution_count": 73,
   "metadata": {},
   "outputs": [
    {
     "name": "stdout",
     "output_type": "stream",
     "text": [
      "Model: \"sequential_11\"\n",
      "_________________________________________________________________\n",
      "Layer (type)                 Output Shape              Param #   \n",
      "=================================================================\n",
      "embedding_11 (Embedding)     (None, 100, 16)           160000    \n",
      "_________________________________________________________________\n",
      "global_average_pooling1d_11  (None, 16)                0         \n",
      "_________________________________________________________________\n",
      "dense_50 (Dense)             (None, 24)                408       \n",
      "_________________________________________________________________\n",
      "dense_51 (Dense)             (None, 1)                 25        \n",
      "=================================================================\n",
      "Total params: 160,433\n",
      "Trainable params: 160,433\n",
      "Non-trainable params: 0\n",
      "_________________________________________________________________\n"
     ]
    }
   ],
   "source": [
    "# compose the model\n",
    "\n",
    "model = tf.keras.Sequential([\n",
    "    tf.keras.layers.Embedding(vocab_size, embedding_dim, input_length=max_length),\n",
    "    tf.keras.layers.GlobalAveragePooling1D(),\n",
    "    tf.keras.layers.Dense(24, activation='relu'),\n",
    "    tf.keras.layers.Dense(1, activation='sigmoid')\n",
    "])\n",
    "\n",
    "model.compile(loss='binary_crossentropy', optimizer='adam', metrics=['accuracy'])\n",
    "\n",
    "model.save_weights('my_model_weights.h5')\n",
    "\n",
    "model.summary()"
   ]
  },
  {
   "cell_type": "code",
   "execution_count": 74,
   "metadata": {},
   "outputs": [
    {
     "name": "stdout",
     "output_type": "stream",
     "text": [
      "Train on 45000 samples, validate on 5000 samples\n",
      "Epoch 1/30\n",
      "45000/45000 - 6s - loss: 0.4660 - accuracy: 0.4364 - val_loss: 0.4152 - val_accuracy: 0.4410\n",
      "Epoch 2/30\n",
      "45000/45000 - 5s - loss: 0.4060 - accuracy: 0.4360 - val_loss: 0.4048 - val_accuracy: 0.4412\n",
      "Epoch 3/30\n",
      "45000/45000 - 6s - loss: 0.3956 - accuracy: 0.4366 - val_loss: 0.4002 - val_accuracy: 0.4408\n",
      "Epoch 4/30\n",
      "45000/45000 - 5s - loss: 0.3882 - accuracy: 0.4369 - val_loss: 0.3992 - val_accuracy: 0.4406\n",
      "Epoch 5/30\n",
      "45000/45000 - 5s - loss: 0.3829 - accuracy: 0.4370 - val_loss: 0.3991 - val_accuracy: 0.4402\n",
      "Epoch 6/30\n",
      "45000/45000 - 5s - loss: 0.3787 - accuracy: 0.4373 - val_loss: 0.4002 - val_accuracy: 0.4404\n",
      "Epoch 7/30\n",
      "45000/45000 - 5s - loss: 0.3752 - accuracy: 0.4374 - val_loss: 0.4050 - val_accuracy: 0.4392\n",
      "Epoch 8/30\n",
      "45000/45000 - 6s - loss: 0.3722 - accuracy: 0.4376 - val_loss: 0.4042 - val_accuracy: 0.4396\n",
      "Epoch 9/30\n",
      "45000/45000 - 6s - loss: 0.3695 - accuracy: 0.4377 - val_loss: 0.4073 - val_accuracy: 0.4398\n",
      "Epoch 10/30\n",
      "45000/45000 - 6s - loss: 0.3670 - accuracy: 0.4380 - val_loss: 0.4113 - val_accuracy: 0.4372\n",
      "Epoch 11/30\n",
      "45000/45000 - 6s - loss: 0.3649 - accuracy: 0.4379 - val_loss: 0.4137 - val_accuracy: 0.4384\n",
      "Epoch 12/30\n",
      "45000/45000 - 5s - loss: 0.3629 - accuracy: 0.4380 - val_loss: 0.4165 - val_accuracy: 0.4370\n",
      "Epoch 13/30\n",
      "45000/45000 - 5s - loss: 0.3611 - accuracy: 0.4380 - val_loss: 0.4193 - val_accuracy: 0.4368\n",
      "Epoch 14/30\n",
      "45000/45000 - 5s - loss: 0.3595 - accuracy: 0.4380 - val_loss: 0.4237 - val_accuracy: 0.4378\n",
      "Epoch 15/30\n",
      "45000/45000 - 5s - loss: 0.3579 - accuracy: 0.4380 - val_loss: 0.4282 - val_accuracy: 0.4376\n",
      "Epoch 16/30\n",
      "45000/45000 - 5s - loss: 0.3565 - accuracy: 0.4381 - val_loss: 0.4310 - val_accuracy: 0.4364\n",
      "Epoch 17/30\n",
      "45000/45000 - 5s - loss: 0.3552 - accuracy: 0.4382 - val_loss: 0.4309 - val_accuracy: 0.4356\n",
      "Epoch 18/30\n",
      "45000/45000 - 5s - loss: 0.3539 - accuracy: 0.4382 - val_loss: 0.4346 - val_accuracy: 0.4362\n",
      "Epoch 19/30\n",
      "45000/45000 - 5s - loss: 0.3527 - accuracy: 0.4382 - val_loss: 0.4373 - val_accuracy: 0.4348\n",
      "Epoch 20/30\n",
      "45000/45000 - 5s - loss: 0.3516 - accuracy: 0.4382 - val_loss: 0.4395 - val_accuracy: 0.4332\n",
      "Epoch 21/30\n",
      "45000/45000 - 5s - loss: 0.3506 - accuracy: 0.4383 - val_loss: 0.4442 - val_accuracy: 0.4336\n",
      "Epoch 22/30\n",
      "45000/45000 - 5s - loss: 0.3494 - accuracy: 0.4382 - val_loss: 0.4445 - val_accuracy: 0.4334\n",
      "Epoch 23/30\n",
      "45000/45000 - 5s - loss: 0.3484 - accuracy: 0.4383 - val_loss: 0.4460 - val_accuracy: 0.4326\n",
      "Epoch 24/30\n",
      "45000/45000 - 5s - loss: 0.3474 - accuracy: 0.4383 - val_loss: 0.4501 - val_accuracy: 0.4314\n",
      "Epoch 25/30\n",
      "45000/45000 - 6s - loss: 0.3463 - accuracy: 0.4384 - val_loss: 0.4530 - val_accuracy: 0.4318\n",
      "Epoch 26/30\n",
      "45000/45000 - 5s - loss: 0.3455 - accuracy: 0.4383 - val_loss: 0.4563 - val_accuracy: 0.4314\n",
      "Epoch 27/30\n",
      "45000/45000 - 5s - loss: 0.3447 - accuracy: 0.4384 - val_loss: 0.4607 - val_accuracy: 0.4300\n",
      "Epoch 28/30\n",
      "45000/45000 - 5s - loss: 0.3439 - accuracy: 0.4384 - val_loss: 0.4656 - val_accuracy: 0.4304\n",
      "Epoch 29/30\n",
      "45000/45000 - 5s - loss: 0.3432 - accuracy: 0.4383 - val_loss: 0.4730 - val_accuracy: 0.4316\n",
      "Epoch 30/30\n",
      "45000/45000 - 5s - loss: 0.3425 - accuracy: 0.4384 - val_loss: 0.4725 - val_accuracy: 0.4300\n"
     ]
    }
   ],
   "source": [
    "# train the model\n",
    "\n",
    "epochs = [30]\n",
    "history = []\n",
    "\n",
    "for ep in epochs:\n",
    "    model.load_weights('my_model_weights.h5')\n",
    "    history.append(model.fit(np.array(train_padded), np.array(train_labels), epochs=ep,\n",
    "                       validation_data=(test_padded, test_labels), verbose=2))"
   ]
  },
  {
   "cell_type": "code",
   "execution_count": 75,
   "metadata": {
    "scrolled": false
   },
   "outputs": [
    {
     "data": {
      "image/png": "[encoded data removed]",
      "text/plain": [
       "<Figure size 1152x360 with 2 Axes>"
      ]
     },
     "metadata": {
      "needs_background": "light"
     },
     "output_type": "display_data"
    }
   ],
   "source": [
    "# print results\n",
    "\n",
    "import matplotlib.pyplot as plt\n",
    "from matplotlib.ticker import FuncFormatter\n",
    "\n",
    "\n",
    "for i in range(len(history)):\n",
    "\n",
    "    fig, axes = plt.subplots(1, 2, figsize=(16,5))\n",
    "    fig.suptitle('Results after training on %i samples and testing on %i samples for %i epochs' \n",
    "                 % (train_size, size-train_size, epochs[i]), fontsize=16)\n",
    "\n",
    "    # summarize history for accuracy\n",
    "    axes[0].plot(history[i].history['accuracy'])\n",
    "    axes[0].plot(history[i].history['val_accuracy'])\n",
    "    axes[0].set_title('Model accuracy')\n",
    "    axes[0].set_ylabel('Accuracy')\n",
    "    axes[0].yaxis.set_major_formatter(FuncFormatter(lambda y, _: '{:.2%}'.format(y)))\n",
    "    axes[0].set_xlabel('Epoch')\n",
    "    axes[0].legend(['Train', 'Test'], loc='upper left')\n",
    "\n",
    "    # summarize history for loss\n",
    "    axes[1].plot(history[i].history['loss'])\n",
    "    axes[1].plot(history[i].history['val_loss'])\n",
    "    axes[1].set_title('Model loss')\n",
    "    axes[1].set_ylabel('Loss')\n",
    "    axes[1].set_xlabel('Epoch')\n",
    "    axes[1].legend(['Train', 'Test'], loc='upper left')\n",
    "\n",
    "    plt.show()"
   ]
  },
  {
   "cell_type": "code",
   "execution_count": null,
   "metadata": {},
   "outputs": [],
   "source": [
    "# make prediction\n",
    "\n",
    "sentences_p = [\n",
    "    \"Horrible, this is a bad place. Disgusting\",\n",
    "    \"I recommed to all to have a dinner here!\"\n",
    "]\n",
    "\n",
    "sequences_p = tokenizer.texts_to_sequences(sentences_p)\n",
    "padded_p = pad_sequences(sequences_p, maxlen=max_length, padding='post')\n",
    "\n",
    "result = model.predict(padded_p)\n",
    "\n",
    "for i in range(len(result)):\n",
    "    print('\"%s\" rating prediction is %i stars.' % (sentences_p[i], round(result[i]*5)))"
   ]
  },
  {
   "cell_type": "code",
   "execution_count": 113,
   "metadata": {},
   "outputs": [
    {
     "name": "stdout",
     "output_type": "stream",
     "text": [
      "Accuracy on train data: 86.968889.\n",
      "Error 1 on train data: 12.742222.\n",
      "Error 2 on train data: 0.271111.\n",
      "Accuracy on test data: 28.060000.\n",
      "Error 1 on test data: 28.840000.\n",
      "Error 2 on test data: 17.360000.\n",
      "Error 3 on test data: 14.700000.\n"
     ]
    }
   ],
   "source": [
    "sequences_p = tokenizer.texts_to_sequences(train_sentences)\n",
    "padded_p = pad_sequences(sequences_p, maxlen=max_length, padding='post')\n",
    "result = model.predict(padded_p)\n",
    "\n",
    "correct = 0\n",
    "error1 = 0\n",
    "error2 = 0\n",
    "for i in range(len(result)):\n",
    "    pred = round(result[i]*5)\n",
    "    real = round(train_labels[i]*5)\n",
    "    if pred == real:\n",
    "        correct = correct + 1\n",
    "    elif abs(pred-real) == 1:\n",
    "        error1 = error1 + 1\n",
    "    elif abs(pred-real) == 2:\n",
    "        error2 = error2 + 1\n",
    "\n",
    "print('Accuracy on train data: %f.' % (float(correct)/float(len(train_sentences))*100))\n",
    "print('Error 1 on train data: %f.' % (float(error1)/float(len(train_sentences))*100))\n",
    "print('Error 2 on train data: %f.' % (float(error2)/float(len(train_sentences))*100))\n",
    "\n",
    "\n",
    "sequences_p = tokenizer.texts_to_sequences(test_sentences)\n",
    "padded_p = pad_sequences(sequences_p, maxlen=max_length, padding='post')\n",
    "result = model.predict(padded_p)\n",
    "\n",
    "correct = 0\n",
    "error1 = 0\n",
    "error2 = 0\n",
    "error3 = 0\n",
    "for i in range(len(result)):\n",
    "    pred = round(result[i]*5)\n",
    "    real = round(train_labels[i]*5)\n",
    "    if pred == real:\n",
    "        correct = correct + 1\n",
    "    elif abs(pred-real) == 1:\n",
    "        error1 = error1 + 1\n",
    "    elif abs(pred-real) == 2:\n",
    "        error2 = error2 + 1\n",
    "    elif abs(pred-real) == 3:\n",
    "        error3 = error3 + 1\n",
    "\n",
    "print('Accuracy on test data: %f.' % (float(correct)/float(len(test_sentences))*100))\n",
    "print('Error 1 on test data: %f.' % (float(error1)/float(len(test_sentences))*100))\n",
    "print('Error 2 on test data: %f.' % (float(error2)/float(len(test_sentences))*100))\n",
    "print('Error 3 on test data: %f.' % (float(error3)/float(len(test_sentences))*100))"
   ]
  },
  {
   "cell_type": "code",
   "execution_count": 127,
   "metadata": {},
   "outputs": [
    {
     "name": "stdout",
     "output_type": "stream",
     "text": [
      "True\n"
     ]
    }
   ],
   "source": [
    "# try dropout to improve results\n",
    "\n",
    "def dropout(sentence, label):\n",
    "    sequences_p = tokenizer.texts_to_sequences([sentence])\n",
    "    padded_p = pad_sequences(sequences_p, maxlen=max_length, padding='post')\n",
    "    result = model.predict(padded_p)\n",
    "    return round(result[0][0]*5) == label*5\n",
    "\n",
    "print(dropout(train_sentences[0], train_labels[0]))"
   ]
  },
  {
   "cell_type": "code",
   "execution_count": null,
   "metadata": {},
   "outputs": [],
   "source": []
  }
 ],
 "metadata": {
  "kernelspec": {
   "display_name": "Python 2",
   "language": "python",
   "name": "python2"
  },
  "language_info": {
   "codemirror_mode": {
    "name": "ipython",
    "version": 2
   },
   "file_extension": ".py",
   "mimetype": "text/x-python",
   "name": "python",
   "nbconvert_exporter": "python",
   "pygments_lexer": "ipython2",
   "version": "2.7.18rc1"
  }
 },
 "nbformat": 4,
 "nbformat_minor": 2
}
