{
 "cells": [
  {
   "cell_type": "markdown",
   "metadata": {},
   "source": [
    "# Reviews classification"
   ]
  },
  {
   "cell_type": "markdown",
   "metadata": {},
   "source": [
    "#### Data loading\n",
    "\n",
    "* review.json is 6.3 GB and only first 500.000 records will be loaded."
   ]
  },
  {
   "cell_type": "code",
   "execution_count": 1,
   "metadata": {},
   "outputs": [],
   "source": [
    "import json \n",
    "import numpy as np\n",
    "import pandas as pd"
   ]
  },
  {
   "cell_type": "code",
   "execution_count": 2,
   "metadata": {},
   "outputs": [
    {
     "name": "stdout",
     "output_type": "stream",
     "text": [
      "100000 records loaded from review.json, each composed by 9 columns.\n"
     ]
    }
   ],
   "source": [
    "data_size_review = 100000\n",
    "\n",
    "with open(\"../yelp_dataset/yelp_academic_dataset_review.json\", 'r') as f:\n",
    "    review_head = [next(f) for x in range(data_size_review)]\n",
    "f.close()\n",
    "\n",
    "review_data = []\n",
    "for line in review_head:\n",
    "    review_data.append(json.loads(line))\n",
    "\n",
    "df = pd.DataFrame(review_data)\n",
    "\n",
    "print(\"%i records loaded from review.json, each composed by %i columns.\" % (df.shape[0], df.shape[1]))"
   ]
  },
  {
   "cell_type": "markdown",
   "metadata": {},
   "source": [
    "#### Data preview"
   ]
  },
  {
   "cell_type": "code",
   "execution_count": 3,
   "metadata": {
    "scrolled": false
   },
   "outputs": [
    {
     "data": {
      "text/html": [
       "<div>\n",
       "<style scoped>\n",
       "    .dataframe tbody tr th:only-of-type {\n",
       "        vertical-align: middle;\n",
       "    }\n",
       "\n",
       "    .dataframe tbody tr th {\n",
       "        vertical-align: top;\n",
       "    }\n",
       "\n",
       "    .dataframe thead th {\n",
       "        text-align: right;\n",
       "    }\n",
       "</style>\n",
       "<table border=\"1\" class=\"dataframe\">\n",
       "  <thead>\n",
       "    <tr style=\"text-align: right;\">\n",
       "      <th></th>\n",
       "      <th>business_id</th>\n",
       "      <th>cool</th>\n",
       "      <th>date</th>\n",
       "      <th>funny</th>\n",
       "      <th>review_id</th>\n",
       "      <th>stars</th>\n",
       "      <th>text</th>\n",
       "      <th>useful</th>\n",
       "      <th>user_id</th>\n",
       "    </tr>\n",
       "  </thead>\n",
       "  <tbody>\n",
       "    <tr>\n",
       "      <th>0</th>\n",
       "      <td>-MhfebM0QIsKt87iDN-FNw</td>\n",
       "      <td>0</td>\n",
       "      <td>2015-04-15 05:21:16</td>\n",
       "      <td>0</td>\n",
       "      <td>xQY8N_XvtGbearJ5X4QryQ</td>\n",
       "      <td>2.0</td>\n",
       "      <td>As someone who has worked with many museums, I...</td>\n",
       "      <td>5</td>\n",
       "      <td>OwjRMXRC0KyPrIlcjaXeFQ</td>\n",
       "    </tr>\n",
       "    <tr>\n",
       "      <th>1</th>\n",
       "      <td>lbrU8StCq3yDfr-QMnGrmQ</td>\n",
       "      <td>0</td>\n",
       "      <td>2013-12-07 03:16:52</td>\n",
       "      <td>1</td>\n",
       "      <td>UmFMZ8PyXZTY2QcwzsfQYA</td>\n",
       "      <td>1.0</td>\n",
       "      <td>I am actually horrified this place is still in...</td>\n",
       "      <td>1</td>\n",
       "      <td>nIJD_7ZXHq-FX8byPMOkMQ</td>\n",
       "    </tr>\n",
       "    <tr>\n",
       "      <th>2</th>\n",
       "      <td>HQl28KMwrEKHqhFrrDqVNQ</td>\n",
       "      <td>0</td>\n",
       "      <td>2015-12-05 03:18:11</td>\n",
       "      <td>0</td>\n",
       "      <td>LG2ZaYiOgpr2DK_90pYjNw</td>\n",
       "      <td>5.0</td>\n",
       "      <td>I love Deagan's. I do. I really do. The atmosp...</td>\n",
       "      <td>1</td>\n",
       "      <td>V34qejxNsCbcgD8C0HVk-Q</td>\n",
       "    </tr>\n",
       "    <tr>\n",
       "      <th>3</th>\n",
       "      <td>5JxlZaqCnk1MnbgRirs40Q</td>\n",
       "      <td>0</td>\n",
       "      <td>2011-05-27 05:30:52</td>\n",
       "      <td>0</td>\n",
       "      <td>i6g_oA9Yf9Y31qt0wibXpw</td>\n",
       "      <td>1.0</td>\n",
       "      <td>Dismal, lukewarm, defrosted-tasting \"TexMex\" g...</td>\n",
       "      <td>0</td>\n",
       "      <td>ofKDkJKXSKZXu5xJNGiiBQ</td>\n",
       "    </tr>\n",
       "    <tr>\n",
       "      <th>4</th>\n",
       "      <td>IS4cv902ykd8wj1TR0N3-A</td>\n",
       "      <td>0</td>\n",
       "      <td>2017-01-14 21:56:57</td>\n",
       "      <td>0</td>\n",
       "      <td>6TdNDKywdbjoTkizeMce8A</td>\n",
       "      <td>4.0</td>\n",
       "      <td>Oh happy day, finally have a Canes near my cas...</td>\n",
       "      <td>0</td>\n",
       "      <td>UgMW8bLE0QMJDCkQ1Ax5Mg</td>\n",
       "    </tr>\n",
       "  </tbody>\n",
       "</table>\n",
       "</div>"
      ],
      "text/plain": [
       "              business_id  cool                 date  funny  \\\n",
       "0  -MhfebM0QIsKt87iDN-FNw     0  2015-04-15 05:21:16      0   \n",
       "1  lbrU8StCq3yDfr-QMnGrmQ     0  2013-12-07 03:16:52      1   \n",
       "2  HQl28KMwrEKHqhFrrDqVNQ     0  2015-12-05 03:18:11      0   \n",
       "3  5JxlZaqCnk1MnbgRirs40Q     0  2011-05-27 05:30:52      0   \n",
       "4  IS4cv902ykd8wj1TR0N3-A     0  2017-01-14 21:56:57      0   \n",
       "\n",
       "                review_id  stars  \\\n",
       "0  xQY8N_XvtGbearJ5X4QryQ    2.0   \n",
       "1  UmFMZ8PyXZTY2QcwzsfQYA    1.0   \n",
       "2  LG2ZaYiOgpr2DK_90pYjNw    5.0   \n",
       "3  i6g_oA9Yf9Y31qt0wibXpw    1.0   \n",
       "4  6TdNDKywdbjoTkizeMce8A    4.0   \n",
       "\n",
       "                                                text  useful  \\\n",
       "0  As someone who has worked with many museums, I...       5   \n",
       "1  I am actually horrified this place is still in...       1   \n",
       "2  I love Deagan's. I do. I really do. The atmosp...       1   \n",
       "3  Dismal, lukewarm, defrosted-tasting \"TexMex\" g...       0   \n",
       "4  Oh happy day, finally have a Canes near my cas...       0   \n",
       "\n",
       "                  user_id  \n",
       "0  OwjRMXRC0KyPrIlcjaXeFQ  \n",
       "1  nIJD_7ZXHq-FX8byPMOkMQ  \n",
       "2  V34qejxNsCbcgD8C0HVk-Q  \n",
       "3  ofKDkJKXSKZXu5xJNGiiBQ  \n",
       "4  UgMW8bLE0QMJDCkQ1Ax5Mg  "
      ]
     },
     "execution_count": 3,
     "metadata": {},
     "output_type": "execute_result"
    }
   ],
   "source": [
    "df.head()"
   ]
  },
  {
   "cell_type": "code",
   "execution_count": 81,
   "metadata": {},
   "outputs": [
    {
     "name": "stdout",
     "output_type": "stream",
     "text": [
      "(10000, 6000)\n"
     ]
    }
   ],
   "source": [
    "size = 10000\n",
    "train_size = int(size*0.6)\n",
    "print(size, train_size)"
   ]
  },
  {
   "cell_type": "code",
   "execution_count": 82,
   "metadata": {},
   "outputs": [
    {
     "data": {
      "text/plain": [
       "<matplotlib.axes._subplots.AxesSubplot at 0x7fcf4fa0c0d0>"
      ]
     },
     "execution_count": 82,
     "metadata": {},
     "output_type": "execute_result"
    },
    {
     "data": {
      "image/png": "[encoded data removed]",
      "text/plain": [
       "<Figure size 432x288 with 1 Axes>"
      ]
     },
     "metadata": {
      "needs_background": "light"
     },
     "output_type": "display_data"
    }
   ],
   "source": [
    "df_count = df[:size].groupby('stars')['stars'].agg(['count'])\n",
    "df_count.plot.bar()"
   ]
  },
  {
   "cell_type": "code",
   "execution_count": 83,
   "metadata": {},
   "outputs": [
    {
     "data": {
      "text/plain": [
       "{0: 3.0809084457061746,\n",
       " 1: 5.161712247324614,\n",
       " 2: 3.97163769441903,\n",
       " 3: 1.8743523316062176,\n",
       " 4: 1.0}"
      ]
     },
     "execution_count": 83,
     "metadata": {},
     "output_type": "execute_result"
    }
   ],
   "source": [
    "val_max = max(df_count.values)[0]\n",
    "class_weights = {0: val_max/float(df_count.values[0][0]), \n",
    "                 1: val_max/float(df_count.values[1][0]), \n",
    "                 2: val_max/float(df_count.values[2][0]), \n",
    "                 3: val_max/float(df_count.values[3][0]), \n",
    "                 4: val_max/float(df_count.values[4][0])}\n",
    "class_weights"
   ]
  },
  {
   "cell_type": "markdown",
   "metadata": {},
   "source": [
    "#### Building the prediction model\n",
    "\n",
    "We want to build a deep neural network that can rate from 1 to 5 a review given in input. The model will be trained on the review data from Yelp Dataset, in which each review is associated to a star rank from 1 (bad) to 5 (good)."
   ]
  },
  {
   "cell_type": "code",
   "execution_count": 84,
   "metadata": {},
   "outputs": [],
   "source": [
    "import math\n",
    "import tensorflow as tf\n",
    "from tensorflow import keras\n",
    "from tensorflow.keras.preprocessing.text import Tokenizer\n",
    "from tensorflow.keras.preprocessing.sequence import pad_sequences"
   ]
  },
  {
   "cell_type": "code",
   "execution_count": 85,
   "metadata": {},
   "outputs": [
    {
     "name": "stdout",
     "output_type": "stream",
     "text": [
      "(100000, 100000)\n"
     ]
    }
   ],
   "source": [
    "# to train the model we need (input, output) pairs: \n",
    "# sentences is the array of inputs and labels is the array of outputs.\n",
    "sentences = []\n",
    "for text in df.text:\n",
    "    sentences.append(text)\n",
    "    \n",
    "labels = []\n",
    "for star in df.stars:\n",
    "    array = [0 for i in range(5)]\n",
    "    array[int(star)-1] = 1\n",
    "    labels.append(array)\n",
    "    \n",
    "print(len(sentences), len(labels))"
   ]
  },
  {
   "cell_type": "code",
   "execution_count": 86,
   "metadata": {},
   "outputs": [
    {
     "name": "stdout",
     "output_type": "stream",
     "text": [
      "(10000, 10000)\n",
      "((6000,), (4000,))\n",
      "((6000, 5), (4000, 5))\n"
     ]
    }
   ],
   "source": [
    "sentences = sentences[:size]\n",
    "labels = labels[:size]\n",
    "\n",
    "print(len(sentences), len(labels))\n",
    "\n",
    "# split the data in (train_data, test_data)\n",
    "train_sentences = sentences[:train_size]\n",
    "test_sentences = sentences[train_size:]\n",
    "\n",
    "train_labels = np.array(labels[:train_size])\n",
    "test_labels = np.array(labels[train_size:])\n",
    "\n",
    "print(np.shape(train_sentences), np.shape(test_sentences))\n",
    "print(np.shape(train_labels), np.shape(test_labels))"
   ]
  },
  {
   "cell_type": "code",
   "execution_count": 105,
   "metadata": {},
   "outputs": [],
   "source": [
    "vocab_size = 10000\n",
    "embedding_dim = 64\n",
    "max_length = 1000"
   ]
  },
  {
   "cell_type": "code",
   "execution_count": 106,
   "metadata": {},
   "outputs": [
    {
     "name": "stdout",
     "output_type": "stream",
     "text": [
      "(6000, 1000)\n",
      "(4000, 1000)\n"
     ]
    }
   ],
   "source": [
    "# tokenization phase, may takes few minutes\n",
    "\n",
    "tokenizer = Tokenizer(num_words=vocab_size, oov_token=\"OOV\")\n",
    "tokenizer.fit_on_texts(train_sentences)\n",
    "    \n",
    "train_sequences = tokenizer.texts_to_sequences(train_sentences)\n",
    "train_padded = pad_sequences(train_sequences, maxlen=max_length,\n",
    "                             padding='post')\n",
    "\n",
    "test_sequences = tokenizer.texts_to_sequences(test_sentences)\n",
    "test_padded = pad_sequences(test_sequences, maxlen=max_length,\n",
    "                            padding='post')\n",
    "\n",
    "print(np.shape(train_padded))\n",
    "print(np.shape(test_padded))"
   ]
  },
  {
   "cell_type": "code",
   "execution_count": 107,
   "metadata": {},
   "outputs": [
    {
     "name": "stdout",
     "output_type": "stream",
     "text": [
      "Model: \"sequential_15\"\n",
      "_________________________________________________________________\n",
      "Layer (type)                 Output Shape              Param #   \n",
      "=================================================================\n",
      "embedding_15 (Embedding)     (None, 1000, 64)          640000    \n",
      "_________________________________________________________________\n",
      "global_average_pooling1d_15  (None, 64)                0         \n",
      "_________________________________________________________________\n",
      "dense_24 (Dense)             (None, 5)                 325       \n",
      "=================================================================\n",
      "Total params: 640,325\n",
      "Trainable params: 640,325\n",
      "Non-trainable params: 0\n",
      "_________________________________________________________________\n"
     ]
    }
   ],
   "source": [
    "# compose the model\n",
    "\n",
    "model = tf.keras.Sequential([\n",
    "    tf.keras.layers.Embedding(vocab_size, embedding_dim, input_length=max_length),\n",
    "    tf.keras.layers.GlobalAveragePooling1D(),\n",
    "    #tf.keras.layers.Dense(64, activation='sigmoid'),\n",
    "    #tf.keras.layers.Dense(, activation='sigmoid'),\n",
    "    #tf.keras.layers.Dense(32, activation='sigmoid'),\n",
    "    tf.keras.layers.Dense(5, activation='softmax')\n",
    "])\n",
    "\n",
    "model.compile(loss='categorical_crossentropy', optimizer='adam', metrics=['accuracy'])\n",
    "\n",
    "model.summary()"
   ]
  },
  {
   "cell_type": "code",
   "execution_count": 108,
   "metadata": {
    "scrolled": true
   },
   "outputs": [
    {
     "name": "stdout",
     "output_type": "stream",
     "text": [
      "Train on 6000 samples, validate on 4000 samples\n",
      "Epoch 1/100\n",
      "6000/6000 - 5s - loss: 1.4525 - accuracy: 0.4307 - val_loss: 1.4262 - val_accuracy: 0.4238\n",
      "Epoch 2/100\n",
      "6000/6000 - 5s - loss: 1.4000 - accuracy: 0.4420 - val_loss: 1.4150 - val_accuracy: 0.4225\n",
      "Epoch 3/100\n",
      "6000/6000 - 4s - loss: 1.3880 - accuracy: 0.4437 - val_loss: 1.4057 - val_accuracy: 0.4255\n",
      "Epoch 4/100\n",
      "6000/6000 - 4s - loss: 1.3742 - accuracy: 0.4490 - val_loss: 1.3902 - val_accuracy: 0.4313\n",
      "Epoch 5/100\n",
      "6000/6000 - 4s - loss: 1.3569 - accuracy: 0.4567 - val_loss: 1.3751 - val_accuracy: 0.4372\n",
      "Epoch 6/100\n",
      "6000/6000 - 4s - loss: 1.3358 - accuracy: 0.4633 - val_loss: 1.3543 - val_accuracy: 0.4507\n",
      "Epoch 7/100\n",
      "6000/6000 - 4s - loss: 1.3124 - accuracy: 0.4752 - val_loss: 1.3302 - val_accuracy: 0.4570\n",
      "Epoch 8/100\n",
      "6000/6000 - 4s - loss: 1.2853 - accuracy: 0.4815 - val_loss: 1.3085 - val_accuracy: 0.4590\n",
      "Epoch 9/100\n",
      "6000/6000 - 4s - loss: 1.2552 - accuracy: 0.4943 - val_loss: 1.2773 - val_accuracy: 0.4740\n",
      "Epoch 10/100\n",
      "6000/6000 - 4s - loss: 1.2231 - accuracy: 0.5048 - val_loss: 1.2480 - val_accuracy: 0.4873\n",
      "Epoch 11/100\n",
      "6000/6000 - 4s - loss: 1.1908 - accuracy: 0.5150 - val_loss: 1.2247 - val_accuracy: 0.4815\n",
      "Epoch 12/100\n",
      "6000/6000 - 4s - loss: 1.1565 - accuracy: 0.5270 - val_loss: 1.1906 - val_accuracy: 0.5048\n",
      "Epoch 13/100\n",
      "6000/6000 - 4s - loss: 1.1230 - accuracy: 0.5395 - val_loss: 1.1664 - val_accuracy: 0.5060\n",
      "Epoch 14/100\n",
      "6000/6000 - 4s - loss: 1.0913 - accuracy: 0.5505 - val_loss: 1.1398 - val_accuracy: 0.5175\n",
      "Epoch 15/100\n",
      "6000/6000 - 4s - loss: 1.0618 - accuracy: 0.5612 - val_loss: 1.1189 - val_accuracy: 0.5180\n",
      "Epoch 16/100\n",
      "6000/6000 - 4s - loss: 1.0340 - accuracy: 0.5730 - val_loss: 1.0957 - val_accuracy: 0.5580\n",
      "Epoch 17/100\n",
      "6000/6000 - 4s - loss: 1.0057 - accuracy: 0.5888 - val_loss: 1.0794 - val_accuracy: 0.5477\n",
      "Epoch 18/100\n",
      "6000/6000 - 4s - loss: 0.9795 - accuracy: 0.5997 - val_loss: 1.0586 - val_accuracy: 0.5803\n",
      "Epoch 19/100\n",
      "6000/6000 - 4s - loss: 0.9577 - accuracy: 0.6118 - val_loss: 1.0409 - val_accuracy: 0.5727\n",
      "Epoch 20/100\n",
      "6000/6000 - 4s - loss: 0.9345 - accuracy: 0.6208 - val_loss: 1.0258 - val_accuracy: 0.5738\n",
      "Epoch 21/100\n",
      "6000/6000 - 4s - loss: 0.9126 - accuracy: 0.6345 - val_loss: 1.0175 - val_accuracy: 0.5688\n",
      "Epoch 22/100\n",
      "6000/6000 - 4s - loss: 0.8924 - accuracy: 0.6410 - val_loss: 1.0026 - val_accuracy: 0.5798\n",
      "Epoch 23/100\n",
      "6000/6000 - 4s - loss: 0.8742 - accuracy: 0.6527 - val_loss: 0.9907 - val_accuracy: 0.5982\n",
      "Epoch 24/100\n",
      "6000/6000 - 4s - loss: 0.8570 - accuracy: 0.6607 - val_loss: 0.9858 - val_accuracy: 0.6120\n",
      "Epoch 25/100\n",
      "6000/6000 - 4s - loss: 0.8420 - accuracy: 0.6707 - val_loss: 0.9743 - val_accuracy: 0.6150\n",
      "Epoch 26/100\n",
      "6000/6000 - 4s - loss: 0.8241 - accuracy: 0.6780 - val_loss: 0.9667 - val_accuracy: 0.6125\n",
      "Epoch 27/100\n",
      "6000/6000 - 4s - loss: 0.8071 - accuracy: 0.6860 - val_loss: 0.9562 - val_accuracy: 0.6135\n",
      "Epoch 28/100\n",
      "6000/6000 - 4s - loss: 0.7927 - accuracy: 0.6923 - val_loss: 0.9532 - val_accuracy: 0.6085\n",
      "Epoch 29/100\n",
      "6000/6000 - 4s - loss: 0.7779 - accuracy: 0.6958 - val_loss: 0.9484 - val_accuracy: 0.6105\n",
      "Epoch 30/100\n",
      "6000/6000 - 4s - loss: 0.7648 - accuracy: 0.7043 - val_loss: 0.9412 - val_accuracy: 0.6215\n",
      "Epoch 31/100\n",
      "6000/6000 - 4s - loss: 0.7500 - accuracy: 0.7110 - val_loss: 0.9353 - val_accuracy: 0.6225\n",
      "Epoch 32/100\n",
      "6000/6000 - 4s - loss: 0.7369 - accuracy: 0.7167 - val_loss: 0.9328 - val_accuracy: 0.6248\n",
      "Epoch 33/100\n",
      "6000/6000 - 4s - loss: 0.7242 - accuracy: 0.7225 - val_loss: 0.9262 - val_accuracy: 0.6295\n",
      "Epoch 34/100\n",
      "6000/6000 - 4s - loss: 0.7122 - accuracy: 0.7298 - val_loss: 0.9225 - val_accuracy: 0.6330\n",
      "Epoch 35/100\n",
      "6000/6000 - 4s - loss: 0.6994 - accuracy: 0.7318 - val_loss: 0.9197 - val_accuracy: 0.6332\n",
      "Epoch 36/100\n",
      "6000/6000 - 4s - loss: 0.6876 - accuracy: 0.7407 - val_loss: 0.9154 - val_accuracy: 0.6367\n",
      "Epoch 37/100\n",
      "6000/6000 - 4s - loss: 0.6754 - accuracy: 0.7437 - val_loss: 0.9200 - val_accuracy: 0.6290\n",
      "Epoch 38/100\n",
      "6000/6000 - 4s - loss: 0.6637 - accuracy: 0.7540 - val_loss: 0.9130 - val_accuracy: 0.6342\n",
      "Epoch 39/100\n",
      "6000/6000 - 4s - loss: 0.6539 - accuracy: 0.7582 - val_loss: 0.9114 - val_accuracy: 0.6338\n",
      "Epoch 40/100\n",
      "6000/6000 - 4s - loss: 0.6420 - accuracy: 0.7637 - val_loss: 0.9174 - val_accuracy: 0.6308\n",
      "Epoch 41/100\n",
      "6000/6000 - 4s - loss: 0.6334 - accuracy: 0.7640 - val_loss: 0.9096 - val_accuracy: 0.6445\n",
      "Epoch 42/100\n",
      "6000/6000 - 4s - loss: 0.6200 - accuracy: 0.7747 - val_loss: 0.9071 - val_accuracy: 0.6380\n",
      "Epoch 43/100\n",
      "6000/6000 - 4s - loss: 0.6099 - accuracy: 0.7792 - val_loss: 0.9057 - val_accuracy: 0.6413\n",
      "Epoch 44/100\n",
      "6000/6000 - 4s - loss: 0.5991 - accuracy: 0.7835 - val_loss: 0.9154 - val_accuracy: 0.6325\n",
      "Epoch 45/100\n",
      "6000/6000 - 4s - loss: 0.5885 - accuracy: 0.7860 - val_loss: 0.9055 - val_accuracy: 0.6390\n",
      "Epoch 46/100\n",
      "6000/6000 - 4s - loss: 0.5780 - accuracy: 0.7935 - val_loss: 0.9061 - val_accuracy: 0.6380\n",
      "Epoch 47/100\n",
      "6000/6000 - 4s - loss: 0.5677 - accuracy: 0.7982 - val_loss: 0.9057 - val_accuracy: 0.6417\n",
      "Epoch 48/100\n",
      "6000/6000 - 4s - loss: 0.5575 - accuracy: 0.8038 - val_loss: 0.9160 - val_accuracy: 0.6475\n",
      "Epoch 49/100\n",
      "6000/6000 - 4s - loss: 0.5478 - accuracy: 0.8067 - val_loss: 0.9053 - val_accuracy: 0.6420\n",
      "Epoch 50/100\n",
      "6000/6000 - 4s - loss: 0.5408 - accuracy: 0.8087 - val_loss: 0.9167 - val_accuracy: 0.6450\n",
      "Epoch 51/100\n",
      "6000/6000 - 4s - loss: 0.5307 - accuracy: 0.8183 - val_loss: 0.9283 - val_accuracy: 0.6283\n",
      "Epoch 52/100\n",
      "6000/6000 - 4s - loss: 0.5228 - accuracy: 0.8160 - val_loss: 0.9143 - val_accuracy: 0.6380\n",
      "Epoch 53/100\n",
      "6000/6000 - 4s - loss: 0.5100 - accuracy: 0.8252 - val_loss: 0.9102 - val_accuracy: 0.6400\n",
      "Epoch 54/100\n",
      "6000/6000 - 4s - loss: 0.5011 - accuracy: 0.8298 - val_loss: 0.9190 - val_accuracy: 0.6378\n",
      "Epoch 55/100\n",
      "6000/6000 - 4s - loss: 0.4929 - accuracy: 0.8322 - val_loss: 0.9118 - val_accuracy: 0.6428\n",
      "Epoch 56/100\n",
      "6000/6000 - 4s - loss: 0.4848 - accuracy: 0.8365 - val_loss: 0.9143 - val_accuracy: 0.6423\n",
      "Epoch 57/100\n",
      "6000/6000 - 4s - loss: 0.4752 - accuracy: 0.8412 - val_loss: 0.9198 - val_accuracy: 0.6375\n",
      "Epoch 58/100\n",
      "6000/6000 - 4s - loss: 0.4656 - accuracy: 0.8443 - val_loss: 0.9208 - val_accuracy: 0.6430\n",
      "Epoch 59/100\n",
      "6000/6000 - 4s - loss: 0.4580 - accuracy: 0.8530 - val_loss: 0.9201 - val_accuracy: 0.6432\n",
      "Epoch 00059: early stopping\n"
     ]
    }
   ],
   "source": [
    "# train the model\n",
    "\n",
    "from tensorflow.keras.callbacks import EarlyStopping\n",
    "\n",
    "epochs = 100\n",
    "history = []\n",
    "\n",
    "es = EarlyStopping(monitor='val_loss', mode='min', verbose=1, patience=epochs/10)\n",
    "history.append(model.fit(np.array(train_padded), np.array(train_labels), epochs=epochs, \n",
    "                         #class_weight=class_weights,\n",
    "                       validation_data=(test_padded, test_labels), verbose=2, callbacks=[es]))\n",
    "model.save_weights('my_model_weights.h5')"
   ]
  },
  {
   "cell_type": "code",
   "execution_count": 109,
   "metadata": {},
   "outputs": [
    {
     "name": "stdout",
     "output_type": "stream",
     "text": [
      "Train: 85.9%, Test: 64.3%\n",
      "Average: 77.3%\n"
     ]
    }
   ],
   "source": [
    "# evaluate the model\n",
    "\n",
    "_, train_acc = model.evaluate(np.array(train_padded), np.array(train_labels), verbose=0)\n",
    "_, test_acc = model.evaluate(test_padded, test_labels, verbose=0)\n",
    "print('Train: %.1f%%, Test: %.1f%%' % (train_acc*100, test_acc*100))\n",
    "train_ratio = float(train_size)/size\n",
    "print('Average: %.1f%%' % float((train_acc*train_ratio + test_acc*(1-train_ratio))*100))"
   ]
  },
  {
   "cell_type": "code",
   "execution_count": 110,
   "metadata": {
    "scrolled": false
   },
   "outputs": [
    {
     "data": {
      "image/png": "[encoded data removed]",
      "text/plain": [
       "<Figure size 1152x360 with 2 Axes>"
      ]
     },
     "metadata": {
      "needs_background": "light"
     },
     "output_type": "display_data"
    }
   ],
   "source": [
    "# print results\n",
    "\n",
    "import matplotlib.pyplot as plt\n",
    "from matplotlib.ticker import FuncFormatter\n",
    "\n",
    "\n",
    "for i in range(len(history)):\n",
    "\n",
    "    fig, axes = plt.subplots(1, 2, figsize=(16,5))\n",
    "    fig.suptitle('Results after training on %i samples and testing on %i samples for %i epochs' \n",
    "                 % (train_size, size-train_size, epochs), fontsize=16)\n",
    "\n",
    "    # summarize history for accuracy\n",
    "    axes[0].plot(history[i].history['accuracy'])\n",
    "    axes[0].plot(history[i].history['val_accuracy'])\n",
    "    axes[0].set_title('Model accuracy')\n",
    "    axes[0].set_ylabel('Accuracy')\n",
    "    axes[0].yaxis.set_major_formatter(FuncFormatter(lambda y, _: '{:.0%}'.format(y)))\n",
    "    axes[0].set_xlabel('Epoch')\n",
    "    axes[0].legend(['Train', 'Test'], loc='lower right')\n",
    "\n",
    "    # summarize history for loss\n",
    "    axes[1].plot(history[i].history['loss'])\n",
    "    axes[1].plot(history[i].history['val_loss'])\n",
    "    axes[1].set_title('Model loss')\n",
    "    axes[1].set_ylabel('Loss')\n",
    "    axes[1].set_xlabel('Epoch')\n",
    "    axes[1].legend(['Train', 'Test'], loc='lower left')\n",
    "\n",
    "    plt.show()"
   ]
  },
  {
   "cell_type": "code",
   "execution_count": 161,
   "metadata": {
    "scrolled": false
   },
   "outputs": [
    {
     "name": "stdout",
     "output_type": "stream",
     "text": [
      "[[49, 1.4670699834823608], [63, 1.4625273942947388], [19, 1.440289855003357], [47, 1.2909579277038574], [53, 1.2123572826385498], [56, 1.2097984552383423], [98, 1.1188322305679321], [26, 1.0691765546798706], [80, 1.0527763366699219], [87, 0.9970080256462097]]\n"
     ]
    }
   ],
   "source": [
    "losses = []\n",
    "\n",
    "for i in range(100):\n",
    "    loss, _ = model.evaluate(np.array([train_padded[i]]), np.array([train_labels[i]]), verbose=0)\n",
    "    losses.append([i, loss])\n",
    "\n",
    "losses = sorted(losses, key=lambda el: -el[1])\n",
    "print(losses[:10])"
   ]
  },
  {
   "cell_type": "code",
   "execution_count": 141,
   "metadata": {},
   "outputs": [
    {
     "name": "stdout",
     "output_type": "stream",
     "text": [
      "(1, 1000)\n",
      "\"Horrible, this is a bad place. Disgusting\" rating prediction is:\n",
      "54% probability 1 star.\n",
      "15% probability 5 star.\n",
      "13% probability 2 star.\n",
      "9% probability 3 star.\n",
      "8% probability 4 star.\n"
     ]
    }
   ],
   "source": [
    "# make prediction\n",
    "\n",
    "sentences_p = [\n",
    "    \"Horrible, this is a bad place. Disgusting\",\n",
    "    \"I recommed to all to have a dinner here!\"\n",
    "]\n",
    "\n",
    "sequences_p = tokenizer.texts_to_sequences(sentences_p)\n",
    "padded_p = pad_sequences(sequences_p, maxlen=max_length, padding='post')\n",
    "\n",
    "result = model.predict(padded_p)\n",
    "\n",
    "for i in range(len(result)):\n",
    "    print('\"%s\" rating prediction is:' % sentences_p[i])\n",
    "    tmp = []\n",
    "    for j in range(5):\n",
    "        tmp.append((result[i][j], j+1))\n",
    "    tmp = sorted(tmp, key=lambda el: -el[0])\n",
    "    for j in range(5):\n",
    "        print('%.0f%% probability %i star.' % (tmp[j][0]*100, tmp[j][1]))"
   ]
  },
  {
   "cell_type": "code",
   "execution_count": null,
   "metadata": {},
   "outputs": [],
   "source": [
    "sequences_p = tokenizer.texts_to_sequences(train_sentences)\n",
    "padded_p = pad_sequences(sequences_p, maxlen=max_length, padding='post')\n",
    "result = model.predict(padded_p)\n",
    "\n",
    "correct = 0\n",
    "error1 = 0\n",
    "error2 = 0\n",
    "for i in range(len(result)):\n",
    "    pred = round(result[i]*5)\n",
    "    real = round(train_labels[i]*5)\n",
    "    if pred == real:\n",
    "        correct = correct + 1\n",
    "    elif abs(pred-real) == 1:\n",
    "        error1 = error1 + 1\n",
    "    elif abs(pred-real) == 2:\n",
    "        error2 = error2 + 1\n",
    "\n",
    "print('Accuracy on train data: %f.' % (float(correct)/float(len(train_sentences))*100))\n",
    "print('Error 1 on train data: %f.' % (float(error1)/float(len(train_sentences))*100))\n",
    "print('Error 2 on train data: %f.' % (float(error2)/float(len(train_sentences))*100))\n",
    "\n",
    "\n",
    "sequences_p = tokenizer.texts_to_sequences(test_sentences)\n",
    "padded_p = pad_sequences(sequences_p, maxlen=max_length, padding='post')\n",
    "result = model.predict(padded_p)\n",
    "\n",
    "correct = 0\n",
    "error1 = 0\n",
    "error2 = 0\n",
    "error3 = 0\n",
    "for i in range(len(result)):\n",
    "    pred = round(result[i]*5)\n",
    "    real = round(train_labels[i]*5)\n",
    "    if pred == real:\n",
    "        correct = correct + 1\n",
    "    elif abs(pred-real) == 1:\n",
    "        error1 = error1 + 1\n",
    "    elif abs(pred-real) == 2:\n",
    "        error2 = error2 + 1\n",
    "    elif abs(pred-real) == 3:\n",
    "        error3 = error3 + 1\n",
    "\n",
    "print('Accuracy on test data: %f.' % (float(correct)/float(len(test_sentences))*100))\n",
    "print('Error 1 on test data: %f.' % (float(error1)/float(len(test_sentences))*100))\n",
    "print('Error 2 on test data: %f.' % (float(error2)/float(len(test_sentences))*100))\n",
    "print('Error 3 on test data: %f.' % (float(error3)/float(len(test_sentences))*100))"
   ]
  },
  {
   "cell_type": "code",
   "execution_count": null,
   "metadata": {},
   "outputs": [],
   "source": [
    "# try dropout to improve results\n",
    "\n",
    "def dropout(sentence, label):\n",
    "    sequences_p = tokenizer.texts_to_sequences([sentence])\n",
    "    padded_p = pad_sequences(sequences_p, maxlen=max_length, padding='post')\n",
    "    result = model.predict(padded_p)\n",
    "    return round(result[0][0]*5) == label*5\n",
    "\n",
    "print(dropout(train_sentences[0], train_labels[0]))"
   ]
  },
  {
   "cell_type": "code",
   "execution_count": null,
   "metadata": {},
   "outputs": [],
   "source": []
  }
 ],
 "metadata": {
  "kernelspec": {
   "display_name": "Python 2",
   "language": "python",
   "name": "python2"
  },
  "language_info": {
   "codemirror_mode": {
    "name": "ipython",
    "version": 2
   },
   "file_extension": ".py",
   "mimetype": "text/x-python",
   "name": "python",
   "nbconvert_exporter": "python",
   "pygments_lexer": "ipython2",
   "version": "2.7.18rc1"
  }
 },
 "nbformat": 4,
 "nbformat_minor": 2
}
