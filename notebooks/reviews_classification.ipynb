{
 "cells": [
  {
   "cell_type": "markdown",
   "metadata": {},
   "source": [
    "# Reviews classification"
   ]
  },
  {
   "cell_type": "markdown",
   "metadata": {},
   "source": [
    "#### Data loading\n",
    "\n",
    "* review.json is 6.3 GB and only first 500.000 records will be loaded."
   ]
  },
  {
   "cell_type": "code",
   "execution_count": 1,
   "metadata": {},
   "outputs": [],
   "source": [
    "import json \n",
    "import numpy as np\n",
    "import pandas as pd"
   ]
  },
  {
   "cell_type": "code",
   "execution_count": 2,
   "metadata": {},
   "outputs": [
    {
     "name": "stdout",
     "output_type": "stream",
     "text": [
      "100000 records loaded from review.json, each composed by 9 columns.\n"
     ]
    }
   ],
   "source": [
    "data_size_review = 100000\n",
    "\n",
    "with open(\"../yelp_dataset/yelp_academic_dataset_review.json\", 'r') as f:\n",
    "    review_head = [next(f) for x in range(data_size_review)]\n",
    "f.close()\n",
    "\n",
    "review_data = []\n",
    "for line in review_head:\n",
    "    review_data.append(json.loads(line))\n",
    "\n",
    "df = pd.DataFrame(review_data)\n",
    "\n",
    "print(\"%i records loaded from review.json, each composed by %i columns.\" % (df.shape[0], df.shape[1]))"
   ]
  },
  {
   "cell_type": "markdown",
   "metadata": {},
   "source": [
    "#### Data preview"
   ]
  },
  {
   "cell_type": "code",
   "execution_count": 3,
   "metadata": {
    "scrolled": false
   },
   "outputs": [
    {
     "data": {
      "text/html": [
       "<div>\n",
       "<style scoped>\n",
       "    .dataframe tbody tr th:only-of-type {\n",
       "        vertical-align: middle;\n",
       "    }\n",
       "\n",
       "    .dataframe tbody tr th {\n",
       "        vertical-align: top;\n",
       "    }\n",
       "\n",
       "    .dataframe thead th {\n",
       "        text-align: right;\n",
       "    }\n",
       "</style>\n",
       "<table border=\"1\" class=\"dataframe\">\n",
       "  <thead>\n",
       "    <tr style=\"text-align: right;\">\n",
       "      <th></th>\n",
       "      <th>business_id</th>\n",
       "      <th>cool</th>\n",
       "      <th>date</th>\n",
       "      <th>funny</th>\n",
       "      <th>review_id</th>\n",
       "      <th>stars</th>\n",
       "      <th>text</th>\n",
       "      <th>useful</th>\n",
       "      <th>user_id</th>\n",
       "    </tr>\n",
       "  </thead>\n",
       "  <tbody>\n",
       "    <tr>\n",
       "      <th>0</th>\n",
       "      <td>-MhfebM0QIsKt87iDN-FNw</td>\n",
       "      <td>0</td>\n",
       "      <td>2015-04-15 05:21:16</td>\n",
       "      <td>0</td>\n",
       "      <td>xQY8N_XvtGbearJ5X4QryQ</td>\n",
       "      <td>2.0</td>\n",
       "      <td>As someone who has worked with many museums, I...</td>\n",
       "      <td>5</td>\n",
       "      <td>OwjRMXRC0KyPrIlcjaXeFQ</td>\n",
       "    </tr>\n",
       "    <tr>\n",
       "      <th>1</th>\n",
       "      <td>lbrU8StCq3yDfr-QMnGrmQ</td>\n",
       "      <td>0</td>\n",
       "      <td>2013-12-07 03:16:52</td>\n",
       "      <td>1</td>\n",
       "      <td>UmFMZ8PyXZTY2QcwzsfQYA</td>\n",
       "      <td>1.0</td>\n",
       "      <td>I am actually horrified this place is still in...</td>\n",
       "      <td>1</td>\n",
       "      <td>nIJD_7ZXHq-FX8byPMOkMQ</td>\n",
       "    </tr>\n",
       "    <tr>\n",
       "      <th>2</th>\n",
       "      <td>HQl28KMwrEKHqhFrrDqVNQ</td>\n",
       "      <td>0</td>\n",
       "      <td>2015-12-05 03:18:11</td>\n",
       "      <td>0</td>\n",
       "      <td>LG2ZaYiOgpr2DK_90pYjNw</td>\n",
       "      <td>5.0</td>\n",
       "      <td>I love Deagan's. I do. I really do. The atmosp...</td>\n",
       "      <td>1</td>\n",
       "      <td>V34qejxNsCbcgD8C0HVk-Q</td>\n",
       "    </tr>\n",
       "    <tr>\n",
       "      <th>3</th>\n",
       "      <td>5JxlZaqCnk1MnbgRirs40Q</td>\n",
       "      <td>0</td>\n",
       "      <td>2011-05-27 05:30:52</td>\n",
       "      <td>0</td>\n",
       "      <td>i6g_oA9Yf9Y31qt0wibXpw</td>\n",
       "      <td>1.0</td>\n",
       "      <td>Dismal, lukewarm, defrosted-tasting \"TexMex\" g...</td>\n",
       "      <td>0</td>\n",
       "      <td>ofKDkJKXSKZXu5xJNGiiBQ</td>\n",
       "    </tr>\n",
       "    <tr>\n",
       "      <th>4</th>\n",
       "      <td>IS4cv902ykd8wj1TR0N3-A</td>\n",
       "      <td>0</td>\n",
       "      <td>2017-01-14 21:56:57</td>\n",
       "      <td>0</td>\n",
       "      <td>6TdNDKywdbjoTkizeMce8A</td>\n",
       "      <td>4.0</td>\n",
       "      <td>Oh happy day, finally have a Canes near my cas...</td>\n",
       "      <td>0</td>\n",
       "      <td>UgMW8bLE0QMJDCkQ1Ax5Mg</td>\n",
       "    </tr>\n",
       "  </tbody>\n",
       "</table>\n",
       "</div>"
      ],
      "text/plain": [
       "              business_id  cool                 date  funny  \\\n",
       "0  -MhfebM0QIsKt87iDN-FNw     0  2015-04-15 05:21:16      0   \n",
       "1  lbrU8StCq3yDfr-QMnGrmQ     0  2013-12-07 03:16:52      1   \n",
       "2  HQl28KMwrEKHqhFrrDqVNQ     0  2015-12-05 03:18:11      0   \n",
       "3  5JxlZaqCnk1MnbgRirs40Q     0  2011-05-27 05:30:52      0   \n",
       "4  IS4cv902ykd8wj1TR0N3-A     0  2017-01-14 21:56:57      0   \n",
       "\n",
       "                review_id  stars  \\\n",
       "0  xQY8N_XvtGbearJ5X4QryQ    2.0   \n",
       "1  UmFMZ8PyXZTY2QcwzsfQYA    1.0   \n",
       "2  LG2ZaYiOgpr2DK_90pYjNw    5.0   \n",
       "3  i6g_oA9Yf9Y31qt0wibXpw    1.0   \n",
       "4  6TdNDKywdbjoTkizeMce8A    4.0   \n",
       "\n",
       "                                                text  useful  \\\n",
       "0  As someone who has worked with many museums, I...       5   \n",
       "1  I am actually horrified this place is still in...       1   \n",
       "2  I love Deagan's. I do. I really do. The atmosp...       1   \n",
       "3  Dismal, lukewarm, defrosted-tasting \"TexMex\" g...       0   \n",
       "4  Oh happy day, finally have a Canes near my cas...       0   \n",
       "\n",
       "                  user_id  \n",
       "0  OwjRMXRC0KyPrIlcjaXeFQ  \n",
       "1  nIJD_7ZXHq-FX8byPMOkMQ  \n",
       "2  V34qejxNsCbcgD8C0HVk-Q  \n",
       "3  ofKDkJKXSKZXu5xJNGiiBQ  \n",
       "4  UgMW8bLE0QMJDCkQ1Ax5Mg  "
      ]
     },
     "execution_count": 3,
     "metadata": {},
     "output_type": "execute_result"
    }
   ],
   "source": [
    "df.head()"
   ]
  },
  {
   "cell_type": "code",
   "execution_count": 471,
   "metadata": {},
   "outputs": [
    {
     "name": "stdout",
     "output_type": "stream",
     "text": [
      "(10000, 8000)\n"
     ]
    }
   ],
   "source": [
    "size = 10000\n",
    "train_size = int(size*0.8)\n",
    "test_size = size-train_size\n",
    "print(size, train_size)"
   ]
  },
  {
   "cell_type": "code",
   "execution_count": 472,
   "metadata": {},
   "outputs": [
    {
     "data": {
      "text/plain": [
       "<matplotlib.axes._subplots.AxesSubplot at 0x7fcf4bf2c190>"
      ]
     },
     "execution_count": 472,
     "metadata": {},
     "output_type": "execute_result"
    },
    {
     "data": {
      "image/png": "[encoded data removed]",
      "text/plain": [
       "<Figure size 432x288 with 1 Axes>"
      ]
     },
     "metadata": {
      "needs_background": "light"
     },
     "output_type": "display_data"
    }
   ],
   "source": [
    "df_count = df[:size].groupby('stars')['stars'].agg(['count'])\n",
    "df_count.plot.bar()"
   ]
  },
  {
   "cell_type": "code",
   "execution_count": 473,
   "metadata": {},
   "outputs": [
    {
     "data": {
      "text/plain": [
       "{0: 3.0809084457061746,\n",
       " 1: 5.161712247324614,\n",
       " 2: 3.97163769441903,\n",
       " 3: 1.8743523316062176,\n",
       " 4: 1.0}"
      ]
     },
     "execution_count": 473,
     "metadata": {},
     "output_type": "execute_result"
    }
   ],
   "source": [
    "val_max = max(df_count.values)[0]\n",
    "class_weights = {0: val_max/float(df_count.values[0][0]), \n",
    "                 1: val_max/float(df_count.values[1][0]), \n",
    "                 2: val_max/float(df_count.values[2][0]), \n",
    "                 3: val_max/float(df_count.values[3][0]), \n",
    "                 4: val_max/float(df_count.values[4][0])}\n",
    "class_weights"
   ]
  },
  {
   "cell_type": "markdown",
   "metadata": {},
   "source": [
    "#### Building the prediction model\n",
    "\n",
    "We want to build a deep neural network that can rate from 1 to 5 a review given in input. The model will be trained on the review data from Yelp Dataset, in which each review is associated to a star rank from 1 (bad) to 5 (good)."
   ]
  },
  {
   "cell_type": "code",
   "execution_count": 474,
   "metadata": {},
   "outputs": [],
   "source": [
    "import math\n",
    "import tensorflow as tf\n",
    "from tensorflow import keras\n",
    "from tensorflow.keras.preprocessing.text import Tokenizer\n",
    "from tensorflow.keras.preprocessing.sequence import pad_sequences"
   ]
  },
  {
   "cell_type": "code",
   "execution_count": 475,
   "metadata": {},
   "outputs": [
    {
     "name": "stdout",
     "output_type": "stream",
     "text": [
      "(100000, 100000)\n"
     ]
    }
   ],
   "source": [
    "# to train the model we need (input, output) pairs: \n",
    "# sentences is the array of inputs and labels is the array of outputs.\n",
    "sentences = []\n",
    "for text in df.text:\n",
    "    sentences.append(text)\n",
    "    \n",
    "labels = []\n",
    "for star in df.stars:\n",
    "    array = [0 for i in range(5)]\n",
    "    array[int(star)-1] = 1\n",
    "    labels.append(array)\n",
    "    \n",
    "print(len(sentences), len(labels))"
   ]
  },
  {
   "cell_type": "code",
   "execution_count": 476,
   "metadata": {},
   "outputs": [
    {
     "name": "stdout",
     "output_type": "stream",
     "text": [
      "(10000, 10000)\n",
      "((8000,), (2000,))\n",
      "((8000, 5), (2000, 5))\n"
     ]
    }
   ],
   "source": [
    "sentences = sentences[:size]\n",
    "labels = labels[:size]\n",
    "\n",
    "print(len(sentences), len(labels))\n",
    "\n",
    "# split the data in (train_data, test_data)\n",
    "train_sentences = sentences[:train_size]\n",
    "test_sentences = sentences[train_size:]\n",
    "\n",
    "train_labels = np.array(labels[:train_size])\n",
    "test_labels = np.array(labels[train_size:])\n",
    "\n",
    "print(np.shape(train_sentences), np.shape(test_sentences))\n",
    "print(np.shape(train_labels), np.shape(test_labels))"
   ]
  },
  {
   "cell_type": "code",
   "execution_count": 487,
   "metadata": {},
   "outputs": [],
   "source": [
    "vocab_size = 10000\n",
    "embedding_dim = 128\n",
    "max_length = 256"
   ]
  },
  {
   "cell_type": "code",
   "execution_count": 508,
   "metadata": {},
   "outputs": [
    {
     "name": "stdout",
     "output_type": "stream",
     "text": [
      "(7028, 256)\n",
      "(1341, 256)\n"
     ]
    }
   ],
   "source": [
    "# tokenization phase, may takes few minutes\n",
    "\n",
    "tokenizer = Tokenizer(num_words=vocab_size, oov_token=\"OOV\")\n",
    "tokenizer.fit_on_texts(train_sentences)\n",
    "    \n",
    "train_sequences = tokenizer.texts_to_sequences(train_sentences)\n",
    "train_padded = pad_sequences(train_sequences, maxlen=max_length,\n",
    "                             padding='post')\n",
    "\n",
    "test_sequences = tokenizer.texts_to_sequences(test_sentences)\n",
    "test_padded = pad_sequences(test_sequences, maxlen=max_length,\n",
    "                            padding='post')\n",
    "\n",
    "print(np.shape(train_padded))\n",
    "print(np.shape(test_padded))"
   ]
  },
  {
   "cell_type": "code",
   "execution_count": 509,
   "metadata": {},
   "outputs": [
    {
     "name": "stdout",
     "output_type": "stream",
     "text": [
      "Model: \"sequential_54\"\n",
      "_________________________________________________________________\n",
      "Layer (type)                 Output Shape              Param #   \n",
      "=================================================================\n",
      "embedding_54 (Embedding)     (None, 256, 128)          1280000   \n",
      "_________________________________________________________________\n",
      "global_average_pooling1d_54  (None, 128)               0         \n",
      "_________________________________________________________________\n",
      "dropout_13 (Dropout)         (None, 128)               0         \n",
      "_________________________________________________________________\n",
      "dense_86 (Dense)             (None, 5)                 645       \n",
      "=================================================================\n",
      "Total params: 1,280,645\n",
      "Trainable params: 1,280,645\n",
      "Non-trainable params: 0\n",
      "_________________________________________________________________\n"
     ]
    }
   ],
   "source": [
    "# compose the model\n",
    "\n",
    "model = tf.keras.Sequential([\n",
    "    tf.keras.layers.Embedding(vocab_size, embedding_dim, input_length=max_length),\n",
    "    tf.keras.layers.GlobalAveragePooling1D(),\n",
    "    tf.keras.layers.Dropout(0.4),\n",
    "    tf.keras.layers.Dense(5, activation='softmax')\n",
    "])\n",
    "\n",
    "model.compile(loss='categorical_crossentropy', optimizer='adam', metrics=['accuracy'])\n",
    "\n",
    "model.summary()"
   ]
  },
  {
   "cell_type": "code",
   "execution_count": 510,
   "metadata": {
    "scrolled": false
   },
   "outputs": [
    {
     "name": "stdout",
     "output_type": "stream",
     "text": [
      "Train on 7028 samples, validate on 1341 samples\n",
      "Epoch 1/500\n",
      "7028/7028 - 7s - loss: 1.3441 - accuracy: 0.4747 - val_loss: 1.1512 - val_accuracy: 0.5720\n",
      "Epoch 2/500\n",
      "7028/7028 - 5s - loss: 1.2453 - accuracy: 0.5087 - val_loss: 1.0828 - val_accuracy: 0.5884\n",
      "Epoch 3/500\n",
      "7028/7028 - 5s - loss: 1.1624 - accuracy: 0.5370 - val_loss: 0.9789 - val_accuracy: 0.6257\n",
      "Epoch 4/500\n",
      "7028/7028 - 6s - loss: 1.0595 - accuracy: 0.5693 - val_loss: 0.8679 - val_accuracy: 0.6726\n",
      "Epoch 5/500\n",
      "7028/7028 - 5s - loss: 0.9553 - accuracy: 0.6094 - val_loss: 0.7664 - val_accuracy: 0.7122\n",
      "Epoch 6/500\n",
      "7028/7028 - 5s - loss: 0.8668 - accuracy: 0.6463 - val_loss: 0.6851 - val_accuracy: 0.7256\n",
      "Epoch 7/500\n",
      "7028/7028 - 5s - loss: 0.7955 - accuracy: 0.6786 - val_loss: 0.6266 - val_accuracy: 0.7748\n",
      "Epoch 8/500\n",
      "7028/7028 - 5s - loss: 0.7366 - accuracy: 0.7080 - val_loss: 0.5730 - val_accuracy: 0.7919\n",
      "Epoch 9/500\n",
      "7028/7028 - 5s - loss: 0.6862 - accuracy: 0.7325 - val_loss: 0.5365 - val_accuracy: 0.8136\n",
      "Epoch 10/500\n",
      "7028/7028 - 5s - loss: 0.6420 - accuracy: 0.7511 - val_loss: 0.5026 - val_accuracy: 0.8270\n",
      "Epoch 11/500\n",
      "7028/7028 - 5s - loss: 0.6012 - accuracy: 0.7698 - val_loss: 0.4757 - val_accuracy: 0.8382\n",
      "Epoch 12/500\n",
      "7028/7028 - 5s - loss: 0.5648 - accuracy: 0.7809 - val_loss: 0.4504 - val_accuracy: 0.8374\n",
      "Epoch 13/500\n",
      "7028/7028 - 5s - loss: 0.5329 - accuracy: 0.7995 - val_loss: 0.4268 - val_accuracy: 0.8456\n",
      "Epoch 14/500\n",
      "7028/7028 - 5s - loss: 0.5008 - accuracy: 0.8162 - val_loss: 0.4129 - val_accuracy: 0.8471\n",
      "Epoch 15/500\n",
      "7028/7028 - 5s - loss: 0.4695 - accuracy: 0.8267 - val_loss: 0.3922 - val_accuracy: 0.8643\n",
      "Epoch 16/500\n",
      "7028/7028 - 5s - loss: 0.4406 - accuracy: 0.8412 - val_loss: 0.3752 - val_accuracy: 0.8688\n",
      "Epoch 17/500\n",
      "7028/7028 - 5s - loss: 0.4128 - accuracy: 0.8570 - val_loss: 0.3638 - val_accuracy: 0.8814\n",
      "Epoch 18/500\n",
      "7028/7028 - 5s - loss: 0.3868 - accuracy: 0.8685 - val_loss: 0.3507 - val_accuracy: 0.8837\n",
      "Epoch 19/500\n",
      "7028/7028 - 5s - loss: 0.3620 - accuracy: 0.8845 - val_loss: 0.3438 - val_accuracy: 0.8867\n",
      "Epoch 20/500\n",
      "7028/7028 - 5s - loss: 0.3391 - accuracy: 0.8947 - val_loss: 0.3320 - val_accuracy: 0.8896\n",
      "Epoch 21/500\n",
      "7028/7028 - 5s - loss: 0.3161 - accuracy: 0.9075 - val_loss: 0.3215 - val_accuracy: 0.8852\n",
      "Epoch 22/500\n",
      "7028/7028 - 5s - loss: 0.2956 - accuracy: 0.9121 - val_loss: 0.3121 - val_accuracy: 0.8956\n",
      "Epoch 23/500\n",
      "7028/7028 - 5s - loss: 0.2744 - accuracy: 0.9260 - val_loss: 0.3064 - val_accuracy: 0.8941\n",
      "Epoch 24/500\n",
      "7028/7028 - 6s - loss: 0.2548 - accuracy: 0.9353 - val_loss: 0.2942 - val_accuracy: 0.8852\n",
      "Epoch 25/500\n",
      "7028/7028 - 5s - loss: 0.2396 - accuracy: 0.9390 - val_loss: 0.2994 - val_accuracy: 0.8963\n",
      "Epoch 26/500\n",
      "7028/7028 - 5s - loss: 0.2206 - accuracy: 0.9475 - val_loss: 0.2878 - val_accuracy: 0.8971\n",
      "Epoch 27/500\n",
      "7028/7028 - 6s - loss: 0.2054 - accuracy: 0.9566 - val_loss: 0.2860 - val_accuracy: 0.8881\n",
      "Epoch 28/500\n",
      "7028/7028 - 5s - loss: 0.1920 - accuracy: 0.9612 - val_loss: 0.2779 - val_accuracy: 0.8986\n",
      "Epoch 29/500\n",
      "7028/7028 - 6s - loss: 0.1781 - accuracy: 0.9650 - val_loss: 0.2726 - val_accuracy: 0.8949\n",
      "Epoch 30/500\n",
      "7028/7028 - 6s - loss: 0.1664 - accuracy: 0.9696 - val_loss: 0.2702 - val_accuracy: 0.8934\n",
      "Epoch 31/500\n",
      "7028/7028 - 5s - loss: 0.1537 - accuracy: 0.9748 - val_loss: 0.2652 - val_accuracy: 0.8934\n",
      "Epoch 32/500\n",
      "7028/7028 - 6s - loss: 0.1431 - accuracy: 0.9765 - val_loss: 0.2612 - val_accuracy: 0.8911\n",
      "Epoch 33/500\n",
      "7028/7028 - 5s - loss: 0.1324 - accuracy: 0.9765 - val_loss: 0.2609 - val_accuracy: 0.8896\n",
      "Epoch 34/500\n",
      "7028/7028 - 6s - loss: 0.1244 - accuracy: 0.9797 - val_loss: 0.2586 - val_accuracy: 0.8904\n",
      "Epoch 35/500\n",
      "7028/7028 - 6s - loss: 0.1143 - accuracy: 0.9846 - val_loss: 0.2713 - val_accuracy: 0.8896\n",
      "Epoch 36/500\n",
      "7028/7028 - 6s - loss: 0.1065 - accuracy: 0.9846 - val_loss: 0.2606 - val_accuracy: 0.8919\n",
      "Epoch 37/500\n",
      "7028/7028 - 6s - loss: 0.0986 - accuracy: 0.9876 - val_loss: 0.2636 - val_accuracy: 0.8934\n",
      "Epoch 00037: early stopping\n"
     ]
    }
   ],
   "source": [
    "# train the model\n",
    "\n",
    "from tensorflow.keras.callbacks import EarlyStopping\n",
    "\n",
    "epochs = 500\n",
    "history = []\n",
    "\n",
    "es = EarlyStopping(monitor='val_loss', mode='min', verbose=1, patience=3)\n",
    "history.append(model.fit(np.array(train_padded), np.array(train_labels), epochs=epochs, \n",
    "                         #class_weight=class_weights,\n",
    "                       validation_data=(test_padded, test_labels), verbose=2, callbacks=[es]))\n",
    "model.save_weights('my_model_weights.h5')"
   ]
  },
  {
   "cell_type": "code",
   "execution_count": 511,
   "metadata": {},
   "outputs": [
    {
     "name": "stdout",
     "output_type": "stream",
     "text": [
      "Train: 99.3%, Test: 89.3%\n",
      "Average: 97.3%\n"
     ]
    }
   ],
   "source": [
    "# evaluate the model\n",
    "\n",
    "_, train_acc = model.evaluate(np.array(train_padded), np.array(train_labels), verbose=0)\n",
    "_, test_acc = model.evaluate(test_padded, test_labels, verbose=0)\n",
    "print('Train: %.1f%%, Test: %.1f%%' % (train_acc*100, test_acc*100))\n",
    "train_ratio = float(train_size)/size\n",
    "print('Average: %.1f%%' % float((train_acc*train_ratio + test_acc*(1-train_ratio))*100))"
   ]
  },
  {
   "cell_type": "code",
   "execution_count": 512,
   "metadata": {
    "scrolled": false
   },
   "outputs": [
    {
     "data": {
      "image/png": "[encoded data removed]",
      "text/plain": [
       "<Figure size 1152x360 with 2 Axes>"
      ]
     },
     "metadata": {
      "needs_background": "light"
     },
     "output_type": "display_data"
    }
   ],
   "source": [
    "# print results\n",
    "\n",
    "import matplotlib.pyplot as plt\n",
    "from matplotlib.ticker import FuncFormatter\n",
    "\n",
    "\n",
    "for i in range(len(history)):\n",
    "\n",
    "    fig, axes = plt.subplots(1, 2, figsize=(16,5))\n",
    "    fig.suptitle('Results after training on %i samples and testing on %i samples' \n",
    "                 % (len(train_padded), len(test_padded)), fontsize=16)\n",
    "\n",
    "    # summarize history for accuracy\n",
    "    axes[0].plot(history[i].history['accuracy'])\n",
    "    axes[0].plot(history[i].history['val_accuracy'])\n",
    "    axes[0].set_title('Model accuracy')\n",
    "    axes[0].set_ylabel('Accuracy')\n",
    "    axes[0].yaxis.set_major_formatter(FuncFormatter(lambda y, _: '{:.0%}'.format(y)))\n",
    "    axes[0].set_xlabel('Epoch')\n",
    "    axes[0].legend(['Train', 'Test'], loc='lower right')\n",
    "\n",
    "    # summarize history for loss\n",
    "    axes[1].plot(history[i].history['loss'])\n",
    "    axes[1].plot(history[i].history['val_loss'])\n",
    "    axes[1].set_title('Model loss')\n",
    "    axes[1].set_ylabel('Loss')\n",
    "    axes[1].set_xlabel('Epoch')\n",
    "    axes[1].legend(['Train', 'Test'], loc='lower left')\n",
    "\n",
    "    plt.show()"
   ]
  },
  {
   "cell_type": "code",
   "execution_count": 514,
   "metadata": {},
   "outputs": [
    {
     "name": "stdout",
     "output_type": "stream",
     "text": [
      "\"Horrible, this is a bad place. Disgusting\" rating prediction is:\n",
      "92% probability 1 star.\n",
      "3% probability 5 star.\n",
      "2% probability 2 star.\n",
      "2% probability 4 star.\n",
      "2% probability 3 star.\n",
      "\"I recommend to all to have a dinner here!\" rating prediction is:\n",
      "70% probability 5 star.\n",
      "19% probability 4 star.\n",
      "9% probability 1 star.\n",
      "2% probability 3 star.\n",
      "1% probability 2 star.\n"
     ]
    }
   ],
   "source": [
    "# make prediction\n",
    "\n",
    "sentences_p = [\n",
    "    \"Horrible, this is a bad place. Disgusting\",\n",
    "    \"I recommend to all to have a dinner here!\"\n",
    "]\n",
    "\n",
    "sequences_p = tokenizer.texts_to_sequences(sentences_p)\n",
    "padded_p = pad_sequences(sequences_p, maxlen=max_length, padding='post')\n",
    "\n",
    "result = model.predict(padded_p)\n",
    "\n",
    "for i in range(len(result)):\n",
    "    print('\"%s\" rating prediction is:' % sentences_p[i])\n",
    "    tmp = []\n",
    "    for j in range(5):\n",
    "        tmp.append((result[i][j], j+1))\n",
    "    tmp = sorted(tmp, key=lambda el: -el[0])\n",
    "    for j in range(5):\n",
    "        print('%.0f%% probability %i star.' % (tmp[j][0]*100, tmp[j][1]))"
   ]
  },
  {
   "cell_type": "code",
   "execution_count": 504,
   "metadata": {
    "scrolled": true
   },
   "outputs": [
    {
     "name": "stdout",
     "output_type": "stream",
     "text": [
      " Progress: 100.0                                                                                                                                                                                                                                                                                                                                                                                                                                                                                                                                                                                                                                                                                                                                                                                                                                                                                                                                                                                                                                                                                                                                                                                                                                                                                                                                    \n"
     ]
    }
   ],
   "source": [
    "train_losses = []\n",
    "test_losses = []\n",
    "\n",
    "for i in range(len(train_padded)):\n",
    "    print '\\r Progress: ' + str(round(float(i+1)/len(train_padded)*100, 2)) + \"%\",\n",
    "    loss, _ = model.evaluate(np.array([train_padded[i]]), np.array([train_labels[i]]), verbose=0)\n",
    "    train_losses.append([i, loss])\n",
    "\n",
    "train_losses = sorted(train_losses, key=lambda el: -el[1])\n",
    "\n",
    "for i in range(len(test_padded)):\n",
    "    print '\\r Progress: ' + str(round(float(i+1)/len(test_padded)*100, 2)),\n",
    "    loss, _ = model.evaluate(np.array([test_padded[i]]), np.array([test_labels[i]]), verbose=0)\n",
    "    test_losses.append([i, loss])\n",
    "\n",
    "test_losses = sorted(test_losses, key=lambda el: -el[1])"
   ]
  },
  {
   "cell_type": "code",
   "execution_count": 506,
   "metadata": {},
   "outputs": [
    {
     "data": {
      "image/png": "[encoded data removed]",
      "text/plain": [
       "<Figure size 432x288 with 1 Axes>"
      ]
     },
     "metadata": {
      "needs_background": "light"
     },
     "output_type": "display_data"
    },
    {
     "data": {
      "image/png": "[encoded data removed]",
      "text/plain": [
       "<Figure size 432x288 with 1 Axes>"
      ]
     },
     "metadata": {
      "needs_background": "light"
     },
     "output_type": "display_data"
    }
   ],
   "source": [
    "plt.plot([el[1] for el in train_losses])\n",
    "plt.show()\n",
    "plt.plot([el[1] for el in test_losses])\n",
    "plt.show()"
   ]
  },
  {
   "cell_type": "code",
   "execution_count": 507,
   "metadata": {},
   "outputs": [
    {
     "name": "stdout",
     "output_type": "stream",
     "text": [
      "((7028,), (7028, 5))\n",
      "((1341,), (1341, 5))\n"
     ]
    }
   ],
   "source": [
    "remove_indices = list([el[0] for el in filter(lambda el: el[1] > 1, train_losses)])\n",
    "remove_indices = sorted(remove_indices, reverse=True)\n",
    "\n",
    "train_sentences = [el for i, el in enumerate(train_sentences) if i not in remove_indices]\n",
    "train_labels = np.array([el for i, el in enumerate(train_labels) if i not in remove_indices])\n",
    "\n",
    "remove_indices = list([el[0] for el in filter(lambda el: el[1] > 1, test_losses)])\n",
    "remove_indices = sorted(remove_indices, reverse=True)\n",
    "\n",
    "test_sentences = [el for i, el in enumerate(test_sentences) if i not in remove_indices]\n",
    "test_labels = np.array([el for i, el in enumerate(test_labels) if i not in remove_indices])\n",
    "    \n",
    "print(np.shape(train_sentences), np.shape(train_labels))\n",
    "print(np.shape(test_sentences), np.shape(test_labels))"
   ]
  },
  {
   "cell_type": "code",
   "execution_count": null,
   "metadata": {},
   "outputs": [],
   "source": [
    "sequences_p = tokenizer.texts_to_sequences(train_sentences)\n",
    "padded_p = pad_sequences(sequences_p, maxlen=max_length, padding='post')\n",
    "result = model.predict(padded_p)\n",
    "\n",
    "correct = 0\n",
    "error1 = 0\n",
    "error2 = 0\n",
    "for i in range(len(result)):\n",
    "    pred = round(result[i]*5)\n",
    "    real = round(train_labels[i]*5)\n",
    "    if pred == real:\n",
    "        correct = correct + 1\n",
    "    elif abs(pred-real) == 1:\n",
    "        error1 = error1 + 1\n",
    "    elif abs(pred-real) == 2:\n",
    "        error2 = error2 + 1\n",
    "\n",
    "print('Accuracy on train data: %f.' % (float(correct)/float(len(train_sentences))*100))\n",
    "print('Error 1 on train data: %f.' % (float(error1)/float(len(train_sentences))*100))\n",
    "print('Error 2 on train data: %f.' % (float(error2)/float(len(train_sentences))*100))\n",
    "\n",
    "\n",
    "sequences_p = tokenizer.texts_to_sequences(test_sentences)\n",
    "padded_p = pad_sequences(sequences_p, maxlen=max_length, padding='post')\n",
    "result = model.predict(padded_p)\n",
    "\n",
    "correct = 0\n",
    "error1 = 0\n",
    "error2 = 0\n",
    "error3 = 0\n",
    "for i in range(len(result)):\n",
    "    pred = round(result[i]*5)\n",
    "    real = round(train_labels[i]*5)\n",
    "    if pred == real:\n",
    "        correct = correct + 1\n",
    "    elif abs(pred-real) == 1:\n",
    "        error1 = error1 + 1\n",
    "    elif abs(pred-real) == 2:\n",
    "        error2 = error2 + 1\n",
    "    elif abs(pred-real) == 3:\n",
    "        error3 = error3 + 1\n",
    "\n",
    "print('Accuracy on test data: %f.' % (float(correct)/float(len(test_sentences))*100))\n",
    "print('Error 1 on test data: %f.' % (float(error1)/float(len(test_sentences))*100))\n",
    "print('Error 2 on test data: %f.' % (float(error2)/float(len(test_sentences))*100))\n",
    "print('Error 3 on test data: %f.' % (float(error3)/float(len(test_sentences))*100))"
   ]
  },
  {
   "cell_type": "code",
   "execution_count": null,
   "metadata": {},
   "outputs": [],
   "source": [
    "# try dropout to improve results\n",
    "\n",
    "def dropout(sentence, label):\n",
    "    sequences_p = tokenizer.texts_to_sequences([sentence])\n",
    "    padded_p = pad_sequences(sequences_p, maxlen=max_length, padding='post')\n",
    "    result = model.predict(padded_p)\n",
    "    return round(result[0][0]*5) == label*5\n",
    "\n",
    "print(dropout(train_sentences[0], train_labels[0]))"
   ]
  },
  {
   "cell_type": "code",
   "execution_count": null,
   "metadata": {},
   "outputs": [],
   "source": []
  }
 ],
 "metadata": {
  "kernelspec": {
   "display_name": "Python 2",
   "language": "python",
   "name": "python2"
  },
  "language_info": {
   "codemirror_mode": {
    "name": "ipython",
    "version": 2
   },
   "file_extension": ".py",
   "mimetype": "text/x-python",
   "name": "python",
   "nbconvert_exporter": "python",
   "pygments_lexer": "ipython2",
   "version": "2.7.18rc1"
  }
 },
 "nbformat": 4,
 "nbformat_minor": 2
}
