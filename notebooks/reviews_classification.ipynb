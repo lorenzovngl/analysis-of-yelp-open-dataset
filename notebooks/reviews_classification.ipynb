{
 "cells": [
  {
   "cell_type": "markdown",
   "metadata": {},
   "source": [
    "# Reviews classification"
   ]
  },
  {
   "cell_type": "markdown",
   "metadata": {},
   "source": [
    "#### Data loading\n",
    "\n",
    "* review.json is 6.3 GB and only first 500.000 records will be loaded."
   ]
  },
  {
   "cell_type": "code",
   "execution_count": 1,
   "metadata": {},
   "outputs": [],
   "source": [
    "import json \n",
    "import numpy as np\n",
    "import pandas as pd"
   ]
  },
  {
   "cell_type": "code",
   "execution_count": 21,
   "metadata": {},
   "outputs": [
    {
     "name": "stdout",
     "output_type": "stream",
     "text": [
      "100000 records loaded from review.json, each composed by 9 columns.\n"
     ]
    }
   ],
   "source": [
    "data_size_review = 100000\n",
    "\n",
    "with open(\"../yelp_dataset/yelp_academic_dataset_review.json\", 'r') as f:\n",
    "    review_head = [next(f) for x in range(data_size_review)]\n",
    "f.close()\n",
    "\n",
    "review_data = []\n",
    "for line in review_head:\n",
    "    review_data.append(json.loads(line))\n",
    "\n",
    "df = pd.DataFrame(review_data)\n",
    "\n",
    "print(\"%i records loaded from review.json, each composed by %i columns.\" % (df.shape[0], df.shape[1]))"
   ]
  },
  {
   "cell_type": "markdown",
   "metadata": {},
   "source": [
    "#### Data preview"
   ]
  },
  {
   "cell_type": "code",
   "execution_count": 4,
   "metadata": {
    "scrolled": false
   },
   "outputs": [
    {
     "data": {
      "text/html": [
       "<div>\n",
       "<style scoped>\n",
       "    .dataframe tbody tr th:only-of-type {\n",
       "        vertical-align: middle;\n",
       "    }\n",
       "\n",
       "    .dataframe tbody tr th {\n",
       "        vertical-align: top;\n",
       "    }\n",
       "\n",
       "    .dataframe thead th {\n",
       "        text-align: right;\n",
       "    }\n",
       "</style>\n",
       "<table border=\"1\" class=\"dataframe\">\n",
       "  <thead>\n",
       "    <tr style=\"text-align: right;\">\n",
       "      <th></th>\n",
       "      <th>business_id</th>\n",
       "      <th>cool</th>\n",
       "      <th>date</th>\n",
       "      <th>funny</th>\n",
       "      <th>review_id</th>\n",
       "      <th>stars</th>\n",
       "      <th>text</th>\n",
       "      <th>useful</th>\n",
       "      <th>user_id</th>\n",
       "    </tr>\n",
       "  </thead>\n",
       "  <tbody>\n",
       "    <tr>\n",
       "      <th>0</th>\n",
       "      <td>-MhfebM0QIsKt87iDN-FNw</td>\n",
       "      <td>0</td>\n",
       "      <td>2015-04-15 05:21:16</td>\n",
       "      <td>0</td>\n",
       "      <td>xQY8N_XvtGbearJ5X4QryQ</td>\n",
       "      <td>2.0</td>\n",
       "      <td>As someone who has worked with many museums, I...</td>\n",
       "      <td>5</td>\n",
       "      <td>OwjRMXRC0KyPrIlcjaXeFQ</td>\n",
       "    </tr>\n",
       "    <tr>\n",
       "      <th>1</th>\n",
       "      <td>lbrU8StCq3yDfr-QMnGrmQ</td>\n",
       "      <td>0</td>\n",
       "      <td>2013-12-07 03:16:52</td>\n",
       "      <td>1</td>\n",
       "      <td>UmFMZ8PyXZTY2QcwzsfQYA</td>\n",
       "      <td>1.0</td>\n",
       "      <td>I am actually horrified this place is still in...</td>\n",
       "      <td>1</td>\n",
       "      <td>nIJD_7ZXHq-FX8byPMOkMQ</td>\n",
       "    </tr>\n",
       "    <tr>\n",
       "      <th>2</th>\n",
       "      <td>HQl28KMwrEKHqhFrrDqVNQ</td>\n",
       "      <td>0</td>\n",
       "      <td>2015-12-05 03:18:11</td>\n",
       "      <td>0</td>\n",
       "      <td>LG2ZaYiOgpr2DK_90pYjNw</td>\n",
       "      <td>5.0</td>\n",
       "      <td>I love Deagan's. I do. I really do. The atmosp...</td>\n",
       "      <td>1</td>\n",
       "      <td>V34qejxNsCbcgD8C0HVk-Q</td>\n",
       "    </tr>\n",
       "    <tr>\n",
       "      <th>3</th>\n",
       "      <td>5JxlZaqCnk1MnbgRirs40Q</td>\n",
       "      <td>0</td>\n",
       "      <td>2011-05-27 05:30:52</td>\n",
       "      <td>0</td>\n",
       "      <td>i6g_oA9Yf9Y31qt0wibXpw</td>\n",
       "      <td>1.0</td>\n",
       "      <td>Dismal, lukewarm, defrosted-tasting \"TexMex\" g...</td>\n",
       "      <td>0</td>\n",
       "      <td>ofKDkJKXSKZXu5xJNGiiBQ</td>\n",
       "    </tr>\n",
       "    <tr>\n",
       "      <th>4</th>\n",
       "      <td>IS4cv902ykd8wj1TR0N3-A</td>\n",
       "      <td>0</td>\n",
       "      <td>2017-01-14 21:56:57</td>\n",
       "      <td>0</td>\n",
       "      <td>6TdNDKywdbjoTkizeMce8A</td>\n",
       "      <td>4.0</td>\n",
       "      <td>Oh happy day, finally have a Canes near my cas...</td>\n",
       "      <td>0</td>\n",
       "      <td>UgMW8bLE0QMJDCkQ1Ax5Mg</td>\n",
       "    </tr>\n",
       "  </tbody>\n",
       "</table>\n",
       "</div>"
      ],
      "text/plain": [
       "              business_id  cool                 date  funny  \\\n",
       "0  -MhfebM0QIsKt87iDN-FNw     0  2015-04-15 05:21:16      0   \n",
       "1  lbrU8StCq3yDfr-QMnGrmQ     0  2013-12-07 03:16:52      1   \n",
       "2  HQl28KMwrEKHqhFrrDqVNQ     0  2015-12-05 03:18:11      0   \n",
       "3  5JxlZaqCnk1MnbgRirs40Q     0  2011-05-27 05:30:52      0   \n",
       "4  IS4cv902ykd8wj1TR0N3-A     0  2017-01-14 21:56:57      0   \n",
       "\n",
       "                review_id  stars  \\\n",
       "0  xQY8N_XvtGbearJ5X4QryQ    2.0   \n",
       "1  UmFMZ8PyXZTY2QcwzsfQYA    1.0   \n",
       "2  LG2ZaYiOgpr2DK_90pYjNw    5.0   \n",
       "3  i6g_oA9Yf9Y31qt0wibXpw    1.0   \n",
       "4  6TdNDKywdbjoTkizeMce8A    4.0   \n",
       "\n",
       "                                                text  useful  \\\n",
       "0  As someone who has worked with many museums, I...       5   \n",
       "1  I am actually horrified this place is still in...       1   \n",
       "2  I love Deagan's. I do. I really do. The atmosp...       1   \n",
       "3  Dismal, lukewarm, defrosted-tasting \"TexMex\" g...       0   \n",
       "4  Oh happy day, finally have a Canes near my cas...       0   \n",
       "\n",
       "                  user_id  \n",
       "0  OwjRMXRC0KyPrIlcjaXeFQ  \n",
       "1  nIJD_7ZXHq-FX8byPMOkMQ  \n",
       "2  V34qejxNsCbcgD8C0HVk-Q  \n",
       "3  ofKDkJKXSKZXu5xJNGiiBQ  \n",
       "4  UgMW8bLE0QMJDCkQ1Ax5Mg  "
      ]
     },
     "execution_count": 4,
     "metadata": {},
     "output_type": "execute_result"
    }
   ],
   "source": [
    "df.head()"
   ]
  },
  {
   "cell_type": "code",
   "execution_count": 254,
   "metadata": {},
   "outputs": [
    {
     "name": "stdout",
     "output_type": "stream",
     "text": [
      "(100000, 80000)\n"
     ]
    }
   ],
   "source": [
    "size = 100000\n",
    "train_size = int(size*0.8)\n",
    "print(size, train_size)"
   ]
  },
  {
   "cell_type": "code",
   "execution_count": 255,
   "metadata": {},
   "outputs": [
    {
     "data": {
      "text/plain": [
       "<matplotlib.axes._subplots.AxesSubplot at 0x7fa6f1ced690>"
      ]
     },
     "execution_count": 255,
     "metadata": {},
     "output_type": "execute_result"
    },
    {
     "data": {
      "image/png": "[encoded data removed]",
      "text/plain": [
       "<Figure size 432x288 with 1 Axes>"
      ]
     },
     "metadata": {
      "needs_background": "light"
     },
     "output_type": "display_data"
    }
   ],
   "source": [
    "df_count = df[:size].groupby('stars')['stars'].agg(['count'])\n",
    "df_count.plot.bar()"
   ]
  },
  {
   "cell_type": "code",
   "execution_count": 256,
   "metadata": {},
   "outputs": [
    {
     "data": {
      "text/plain": [
       "{0: 3.208266627856207,\n",
       " 1: 5.385780601026142,\n",
       " 2: 3.943823240003578,\n",
       " 3: 1.9332602499451874,\n",
       " 4: 1.0}"
      ]
     },
     "execution_count": 256,
     "metadata": {},
     "output_type": "execute_result"
    }
   ],
   "source": [
    "val_max = max(df_count.values)[0]\n",
    "class_weights = {0: val_max/float(df_count.values[0][0]), \n",
    "                 1: val_max/float(df_count.values[1][0]), \n",
    "                 2: val_max/float(df_count.values[2][0]), \n",
    "                 3: val_max/float(df_count.values[3][0]), \n",
    "                 4: val_max/float(df_count.values[4][0])}\n",
    "class_weights"
   ]
  },
  {
   "cell_type": "markdown",
   "metadata": {},
   "source": [
    "#### Building the prediction model\n",
    "\n",
    "We want to build a deep neural network that can rate from 1 to 5 a review given in input. The model will be trained on the review data from Yelp Dataset, in which each review is associated to a star rank from 1 (bad) to 5 (good)."
   ]
  },
  {
   "cell_type": "code",
   "execution_count": 257,
   "metadata": {},
   "outputs": [],
   "source": [
    "import math\n",
    "import tensorflow as tf\n",
    "from tensorflow import keras\n",
    "from tensorflow.keras.preprocessing.text import Tokenizer\n",
    "from tensorflow.keras.preprocessing.sequence import pad_sequences"
   ]
  },
  {
   "cell_type": "code",
   "execution_count": 258,
   "metadata": {},
   "outputs": [
    {
     "name": "stdout",
     "output_type": "stream",
     "text": [
      "(100000, 100000)\n"
     ]
    }
   ],
   "source": [
    "# to train the model we need (input, output) pairs: \n",
    "# sentences is the array of inputs and labels is the array of outputs.\n",
    "sentences = []\n",
    "for text in df.text:\n",
    "    sentences.append(text)\n",
    "    \n",
    "labels = []\n",
    "for star in df.stars:\n",
    "    array = [0 for i in range(5)]\n",
    "    array[int(star)-1] = 1\n",
    "    labels.append(array)\n",
    "    \n",
    "print(len(sentences), len(labels))"
   ]
  },
  {
   "cell_type": "code",
   "execution_count": 259,
   "metadata": {},
   "outputs": [
    {
     "name": "stdout",
     "output_type": "stream",
     "text": [
      "(100000, 100000)\n",
      "((80000,), (20000,))\n",
      "((80000, 5), (20000, 5))\n"
     ]
    }
   ],
   "source": [
    "sentences = sentences[:size]\n",
    "labels = labels[:size]\n",
    "\n",
    "print(len(sentences), len(labels))\n",
    "\n",
    "# split the data in (train_data, test_data)\n",
    "train_sentences = sentences[:train_size]\n",
    "test_sentences = sentences[train_size:]\n",
    "\n",
    "train_labels = np.array(labels[:train_size])\n",
    "test_labels = np.array(labels[train_size:])\n",
    "\n",
    "print(np.shape(train_sentences), np.shape(test_sentences))\n",
    "print(np.shape(train_labels), np.shape(test_labels))"
   ]
  },
  {
   "cell_type": "code",
   "execution_count": 260,
   "metadata": {},
   "outputs": [],
   "source": [
    "vocab_size = 10000\n",
    "embedding_dim = 64\n",
    "max_length = 1000"
   ]
  },
  {
   "cell_type": "code",
   "execution_count": 261,
   "metadata": {},
   "outputs": [
    {
     "name": "stdout",
     "output_type": "stream",
     "text": [
      "(80000, 1000)\n",
      "(20000, 1000)\n"
     ]
    }
   ],
   "source": [
    "# tokenization phase, may takes few minutes\n",
    "\n",
    "tokenizer = Tokenizer(num_words=vocab_size, oov_token=\"OOV\")\n",
    "tokenizer.fit_on_texts(train_sentences)\n",
    "    \n",
    "train_sequences = tokenizer.texts_to_sequences(train_sentences)\n",
    "train_padded = pad_sequences(train_sequences, maxlen=max_length,\n",
    "                             padding='post')\n",
    "\n",
    "test_sequences = tokenizer.texts_to_sequences(test_sentences)\n",
    "test_padded = pad_sequences(test_sequences, maxlen=max_length,\n",
    "                            padding='post')\n",
    "\n",
    "print(np.shape(train_padded))\n",
    "print(np.shape(test_padded))"
   ]
  },
  {
   "cell_type": "code",
   "execution_count": 274,
   "metadata": {},
   "outputs": [
    {
     "name": "stdout",
     "output_type": "stream",
     "text": [
      "Model: \"sequential_33\"\n",
      "_________________________________________________________________\n",
      "Layer (type)                 Output Shape              Param #   \n",
      "=================================================================\n",
      "embedding_33 (Embedding)     (None, 1000, 64)          640000    \n",
      "_________________________________________________________________\n",
      "global_average_pooling1d_32  (None, 64)                0         \n",
      "_________________________________________________________________\n",
      "dense_77 (Dense)             (None, 64)                4160      \n",
      "_________________________________________________________________\n",
      "dense_78 (Dense)             (None, 16)                1040      \n",
      "_________________________________________________________________\n",
      "dense_79 (Dense)             (None, 5)                 85        \n",
      "=================================================================\n",
      "Total params: 645,285\n",
      "Trainable params: 645,285\n",
      "Non-trainable params: 0\n",
      "_________________________________________________________________\n"
     ]
    }
   ],
   "source": [
    "# compose the model\n",
    "\n",
    "model = tf.keras.Sequential([\n",
    "    tf.keras.layers.Embedding(vocab_size, embedding_dim, input_length=max_length),\n",
    "    tf.keras.layers.GlobalAveragePooling1D(),\n",
    "    tf.keras.layers.Dense(64, activation='sigmoid'),\n",
    "    #tf.keras.layers.Dense(32, activation='sigmoid'),\n",
    "    tf.keras.layers.Dense(16, activation='sigmoid'),\n",
    "    tf.keras.layers.Dense(5, activation='softmax')\n",
    "])\n",
    "\n",
    "model.compile(loss='categorical_crossentropy', optimizer='adam', metrics=['accuracy'])\n",
    "\n",
    "model.summary()"
   ]
  },
  {
   "cell_type": "code",
   "execution_count": 275,
   "metadata": {
    "scrolled": false
   },
   "outputs": [
    {
     "name": "stdout",
     "output_type": "stream",
     "text": [
      "Train on 80000 samples, validate on 20000 samples\n",
      "Epoch 1/100\n",
      "80000/80000 - 67s - loss: 1.2592 - accuracy: 0.4899 - val_loss: 0.9840 - val_accuracy: 0.6000\n",
      "Epoch 2/100\n",
      "80000/80000 - 63s - loss: 0.8838 - accuracy: 0.6268 - val_loss: 0.8454 - val_accuracy: 0.6476\n",
      "Epoch 3/100\n",
      "80000/80000 - 66s - loss: 0.8100 - accuracy: 0.6571 - val_loss: 0.8285 - val_accuracy: 0.6514\n",
      "Epoch 4/100\n",
      "80000/80000 - 59s - loss: 0.7785 - accuracy: 0.6706 - val_loss: 0.7976 - val_accuracy: 0.6665\n",
      "Epoch 5/100\n",
      "80000/80000 - 60s - loss: 0.7572 - accuracy: 0.6787 - val_loss: 0.8019 - val_accuracy: 0.6643\n",
      "Epoch 6/100\n",
      "80000/80000 - 56s - loss: 0.7421 - accuracy: 0.6844 - val_loss: 0.7891 - val_accuracy: 0.6706\n",
      "Epoch 7/100\n",
      "80000/80000 - 53s - loss: 0.7298 - accuracy: 0.6901 - val_loss: 0.8107 - val_accuracy: 0.6640\n",
      "Epoch 8/100\n",
      "80000/80000 - 56s - loss: 0.7199 - accuracy: 0.6947 - val_loss: 0.7983 - val_accuracy: 0.6708\n",
      "Epoch 9/100\n",
      "80000/80000 - 60s - loss: 0.7123 - accuracy: 0.6982 - val_loss: 0.7946 - val_accuracy: 0.6696\n",
      "Epoch 10/100\n",
      "80000/80000 - 63s - loss: 0.7038 - accuracy: 0.7013 - val_loss: 0.8119 - val_accuracy: 0.6690\n",
      "Epoch 11/100\n",
      "80000/80000 - 56s - loss: 0.6975 - accuracy: 0.7051 - val_loss: 0.8068 - val_accuracy: 0.6672\n",
      "Epoch 12/100\n",
      "80000/80000 - 56s - loss: 0.6927 - accuracy: 0.7051 - val_loss: 0.8061 - val_accuracy: 0.6683\n",
      "Epoch 13/100\n",
      "80000/80000 - 59s - loss: 0.6871 - accuracy: 0.7081 - val_loss: 0.8147 - val_accuracy: 0.6676\n",
      "Epoch 14/100\n",
      "80000/80000 - 54s - loss: 0.6830 - accuracy: 0.7110 - val_loss: 0.8226 - val_accuracy: 0.6666\n",
      "Epoch 15/100\n",
      "80000/80000 - 72s - loss: 0.6777 - accuracy: 0.7123 - val_loss: 0.8240 - val_accuracy: 0.6650\n",
      "Epoch 16/100\n",
      "80000/80000 - 83s - loss: 0.6726 - accuracy: 0.7153 - val_loss: 0.8296 - val_accuracy: 0.6641\n",
      "Epoch 00016: early stopping\n"
     ]
    }
   ],
   "source": [
    "# train the model\n",
    "\n",
    "from tensorflow.keras.callbacks import EarlyStopping\n",
    "\n",
    "epochs = 100\n",
    "history = []\n",
    "\n",
    "es = EarlyStopping(monitor='val_loss', mode='min', verbose=1, patience=epochs/10)\n",
    "history.append(model.fit(np.array(train_padded), np.array(train_labels), epochs=epochs,\n",
    "                       validation_data=(test_padded, test_labels), verbose=2, callbacks=[es]))\n",
    "model.save_weights('my_model_weights.h5')"
   ]
  },
  {
   "cell_type": "code",
   "execution_count": 276,
   "metadata": {},
   "outputs": [
    {
     "name": "stdout",
     "output_type": "stream",
     "text": [
      "Train: 72.5%, Test: 66.4%\n"
     ]
    }
   ],
   "source": [
    "# evaluate the model\n",
    "\n",
    "_, train_acc = model.evaluate(np.array(train_padded), np.array(train_labels), verbose=0)\n",
    "_, test_acc = model.evaluate(test_padded, test_labels, verbose=0)\n",
    "print('Train: %.1f%%, Test: %.1f%%' % (train_acc*100, test_acc*100))"
   ]
  },
  {
   "cell_type": "code",
   "execution_count": 277,
   "metadata": {
    "scrolled": false
   },
   "outputs": [
    {
     "data": {
      "image/png": "[encoded data removed]",
      "text/plain": [
       "<Figure size 1152x360 with 2 Axes>"
      ]
     },
     "metadata": {
      "needs_background": "light"
     },
     "output_type": "display_data"
    }
   ],
   "source": [
    "# print results\n",
    "\n",
    "import matplotlib.pyplot as plt\n",
    "from matplotlib.ticker import FuncFormatter\n",
    "\n",
    "\n",
    "for i in range(len(history)):\n",
    "\n",
    "    fig, axes = plt.subplots(1, 2, figsize=(16,5))\n",
    "    fig.suptitle('Results after training on %i samples and testing on %i samples for %i epochs' \n",
    "                 % (train_size, size-train_size, epochs), fontsize=16)\n",
    "\n",
    "    # summarize history for accuracy\n",
    "    axes[0].plot(history[i].history['accuracy'])\n",
    "    axes[0].plot(history[i].history['val_accuracy'])\n",
    "    axes[0].set_title('Model accuracy')\n",
    "    axes[0].set_ylabel('Accuracy')\n",
    "    axes[0].yaxis.set_major_formatter(FuncFormatter(lambda y, _: '{:.2%}'.format(y)))\n",
    "    axes[0].set_xlabel('Epoch')\n",
    "    axes[0].legend(['Train', 'Test'], loc='lower right')\n",
    "\n",
    "    # summarize history for loss\n",
    "    axes[1].plot(history[i].history['loss'])\n",
    "    axes[1].plot(history[i].history['val_loss'])\n",
    "    axes[1].set_title('Model loss')\n",
    "    axes[1].set_ylabel('Loss')\n",
    "    axes[1].set_xlabel('Epoch')\n",
    "    axes[1].legend(['Train', 'Test'], loc='lower left')\n",
    "\n",
    "    plt.show()"
   ]
  },
  {
   "cell_type": "code",
   "execution_count": 278,
   "metadata": {},
   "outputs": [
    {
     "name": "stdout",
     "output_type": "stream",
     "text": [
      "\"Horrible, this is a bad place. Disgusting\" rating prediction is:\n",
      "93% probability 1 star.\n",
      "6% probability 2 star.\n",
      "0% probability 3 star.\n",
      "0% probability 5 star.\n",
      "0% probability 4 star.\n",
      "\"I recommed to all to have a dinner here!\" rating prediction is:\n",
      "50% probability 5 star.\n",
      "22% probability 4 star.\n",
      "13% probability 1 star.\n",
      "9% probability 3 star.\n",
      "7% probability 2 star.\n"
     ]
    }
   ],
   "source": [
    "# make prediction\n",
    "\n",
    "sentences_p = [\n",
    "    \"Horrible, this is a bad place. Disgusting\",\n",
    "    \"I recommed to all to have a dinner here!\"\n",
    "]\n",
    "\n",
    "sequences_p = tokenizer.texts_to_sequences(sentences_p)\n",
    "padded_p = pad_sequences(sequences_p, maxlen=max_length, padding='post')\n",
    "\n",
    "result = model.predict(padded_p)\n",
    "\n",
    "for i in range(len(result)):\n",
    "    print('\"%s\" rating prediction is:' % sentences_p[i])\n",
    "    tmp = []\n",
    "    for j in range(5):\n",
    "        tmp.append((result[i][j], j+1))\n",
    "    tmp = sorted(tmp, key=lambda el: -el[0])\n",
    "    for j in range(5):\n",
    "        print('%.0f%% probability %i star.' % (tmp[j][0]*100, tmp[j][1]))"
   ]
  },
  {
   "cell_type": "code",
   "execution_count": 113,
   "metadata": {},
   "outputs": [
    {
     "name": "stdout",
     "output_type": "stream",
     "text": [
      "Accuracy on train data: 86.968889.\n",
      "Error 1 on train data: 12.742222.\n",
      "Error 2 on train data: 0.271111.\n",
      "Accuracy on test data: 28.060000.\n",
      "Error 1 on test data: 28.840000.\n",
      "Error 2 on test data: 17.360000.\n",
      "Error 3 on test data: 14.700000.\n"
     ]
    }
   ],
   "source": [
    "sequences_p = tokenizer.texts_to_sequences(train_sentences)\n",
    "padded_p = pad_sequences(sequences_p, maxlen=max_length, padding='post')\n",
    "result = model.predict(padded_p)\n",
    "\n",
    "correct = 0\n",
    "error1 = 0\n",
    "error2 = 0\n",
    "for i in range(len(result)):\n",
    "    pred = round(result[i]*5)\n",
    "    real = round(train_labels[i]*5)\n",
    "    if pred == real:\n",
    "        correct = correct + 1\n",
    "    elif abs(pred-real) == 1:\n",
    "        error1 = error1 + 1\n",
    "    elif abs(pred-real) == 2:\n",
    "        error2 = error2 + 1\n",
    "\n",
    "print('Accuracy on train data: %f.' % (float(correct)/float(len(train_sentences))*100))\n",
    "print('Error 1 on train data: %f.' % (float(error1)/float(len(train_sentences))*100))\n",
    "print('Error 2 on train data: %f.' % (float(error2)/float(len(train_sentences))*100))\n",
    "\n",
    "\n",
    "sequences_p = tokenizer.texts_to_sequences(test_sentences)\n",
    "padded_p = pad_sequences(sequences_p, maxlen=max_length, padding='post')\n",
    "result = model.predict(padded_p)\n",
    "\n",
    "correct = 0\n",
    "error1 = 0\n",
    "error2 = 0\n",
    "error3 = 0\n",
    "for i in range(len(result)):\n",
    "    pred = round(result[i]*5)\n",
    "    real = round(train_labels[i]*5)\n",
    "    if pred == real:\n",
    "        correct = correct + 1\n",
    "    elif abs(pred-real) == 1:\n",
    "        error1 = error1 + 1\n",
    "    elif abs(pred-real) == 2:\n",
    "        error2 = error2 + 1\n",
    "    elif abs(pred-real) == 3:\n",
    "        error3 = error3 + 1\n",
    "\n",
    "print('Accuracy on test data: %f.' % (float(correct)/float(len(test_sentences))*100))\n",
    "print('Error 1 on test data: %f.' % (float(error1)/float(len(test_sentences))*100))\n",
    "print('Error 2 on test data: %f.' % (float(error2)/float(len(test_sentences))*100))\n",
    "print('Error 3 on test data: %f.' % (float(error3)/float(len(test_sentences))*100))"
   ]
  },
  {
   "cell_type": "code",
   "execution_count": 127,
   "metadata": {},
   "outputs": [
    {
     "name": "stdout",
     "output_type": "stream",
     "text": [
      "True\n"
     ]
    }
   ],
   "source": [
    "# try dropout to improve results\n",
    "\n",
    "def dropout(sentence, label):\n",
    "    sequences_p = tokenizer.texts_to_sequences([sentence])\n",
    "    padded_p = pad_sequences(sequences_p, maxlen=max_length, padding='post')\n",
    "    result = model.predict(padded_p)\n",
    "    return round(result[0][0]*5) == label*5\n",
    "\n",
    "print(dropout(train_sentences[0], train_labels[0]))"
   ]
  },
  {
   "cell_type": "code",
   "execution_count": null,
   "metadata": {},
   "outputs": [],
   "source": []
  }
 ],
 "metadata": {
  "kernelspec": {
   "display_name": "Python 2",
   "language": "python",
   "name": "python2"
  },
  "language_info": {
   "codemirror_mode": {
    "name": "ipython",
    "version": 2
   },
   "file_extension": ".py",
   "mimetype": "text/x-python",
   "name": "python",
   "nbconvert_exporter": "python",
   "pygments_lexer": "ipython2",
   "version": "2.7.18rc1"
  }
 },
 "nbformat": 4,
 "nbformat_minor": 2
}
