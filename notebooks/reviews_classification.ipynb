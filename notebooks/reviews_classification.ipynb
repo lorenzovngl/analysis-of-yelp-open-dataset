{
 "cells": [
  {
   "cell_type": "markdown",
   "metadata": {},
   "source": [
    "# Reviews classification"
   ]
  },
  {
   "cell_type": "markdown",
   "metadata": {},
   "source": [
    "#### Data loading\n",
    "\n",
    "* business.json is 153 MB and it will be loaded entirely;\n",
    "* review.json is 6.3 GB and only first 500.000 records will be loaded."
   ]
  },
  {
   "cell_type": "code",
   "execution_count": 1,
   "metadata": {},
   "outputs": [],
   "source": [
    "import json \n",
    "import numpy as np\n",
    "import pandas as pd"
   ]
  },
  {
   "cell_type": "code",
   "execution_count": 2,
   "metadata": {},
   "outputs": [
    {
     "name": "stdout",
     "output_type": "stream",
     "text": [
      "209393 records loaded from business.json, each composed by 14 columns.\n",
      "500000 records loaded from review.json, each composed by 9 columns.\n",
      "500000 record produced after joining data, each composed by 23 columns.\n"
     ]
    }
   ],
   "source": [
    "data_size_review = 500000\n",
    "\n",
    "with open('yelp_dataset/yelp_academic_dataset_business.json', 'rb') as f:\n",
    "    data = f.readlines()\n",
    "\n",
    "data = map(lambda x: x.rstrip(), data)\n",
    "data_json_str = \"[\" + ','.join(data) + \"]\"\n",
    "\n",
    "business_df = pd.read_json(data_json_str)\n",
    "\n",
    "with open(\"yelp_dataset/yelp_academic_dataset_review.json\", 'r') as f:\n",
    "    review_head = [next(f) for x in range(data_size_review)]\n",
    "f.close()\n",
    "\n",
    "review_data = []\n",
    "for line in review_head:\n",
    "    review_data.append(json.loads(line))\n",
    "\n",
    "review_df = pd.DataFrame(review_data)\n",
    "\n",
    "df = review_df.join(business_df, lsuffix='_r', rsuffix='_b')\n",
    "\n",
    "print(\"%i records loaded from business.json, each composed by %i columns.\" % (business_df.shape[0], business_df.shape[1]))\n",
    "print(\"%i records loaded from review.json, each composed by %i columns.\" % (review_df.shape[0], review_df.shape[1]))\n",
    "print(\"%i record produced after joining data, each composed by %i columns.\" % (df.shape[0], df.shape[1]))"
   ]
  },
  {
   "cell_type": "markdown",
   "metadata": {},
   "source": [
    "#### Data preview"
   ]
  },
  {
   "cell_type": "code",
   "execution_count": 3,
   "metadata": {
    "scrolled": false
   },
   "outputs": [
    {
     "data": {
      "text/html": [
       "<div>\n",
       "<style scoped>\n",
       "    .dataframe tbody tr th:only-of-type {\n",
       "        vertical-align: middle;\n",
       "    }\n",
       "\n",
       "    .dataframe tbody tr th {\n",
       "        vertical-align: top;\n",
       "    }\n",
       "\n",
       "    .dataframe thead th {\n",
       "        text-align: right;\n",
       "    }\n",
       "</style>\n",
       "<table border=\"1\" class=\"dataframe\">\n",
       "  <thead>\n",
       "    <tr style=\"text-align: right;\">\n",
       "      <th></th>\n",
       "      <th>business_id_r</th>\n",
       "      <th>cool</th>\n",
       "      <th>date</th>\n",
       "      <th>funny</th>\n",
       "      <th>review_id</th>\n",
       "      <th>stars_r</th>\n",
       "      <th>text</th>\n",
       "      <th>useful</th>\n",
       "      <th>user_id</th>\n",
       "      <th>address</th>\n",
       "      <th>...</th>\n",
       "      <th>city</th>\n",
       "      <th>hours</th>\n",
       "      <th>is_open</th>\n",
       "      <th>latitude</th>\n",
       "      <th>longitude</th>\n",
       "      <th>name</th>\n",
       "      <th>postal_code</th>\n",
       "      <th>review_count</th>\n",
       "      <th>stars_b</th>\n",
       "      <th>state</th>\n",
       "    </tr>\n",
       "  </thead>\n",
       "  <tbody>\n",
       "    <tr>\n",
       "      <th>0</th>\n",
       "      <td>-MhfebM0QIsKt87iDN-FNw</td>\n",
       "      <td>0</td>\n",
       "      <td>2015-04-15 05:21:16</td>\n",
       "      <td>0</td>\n",
       "      <td>xQY8N_XvtGbearJ5X4QryQ</td>\n",
       "      <td>2.0</td>\n",
       "      <td>As someone who has worked with many museums, I...</td>\n",
       "      <td>5</td>\n",
       "      <td>OwjRMXRC0KyPrIlcjaXeFQ</td>\n",
       "      <td>10913 Bailey Rd</td>\n",
       "      <td>...</td>\n",
       "      <td>Cornelius</td>\n",
       "      <td>{u'Monday': u'10:0-18:0', u'Tuesday': u'11:0-2...</td>\n",
       "      <td>1.0</td>\n",
       "      <td>35.462724</td>\n",
       "      <td>-80.852612</td>\n",
       "      <td>The Range At Lake Norman</td>\n",
       "      <td>28031</td>\n",
       "      <td>36.0</td>\n",
       "      <td>3.5</td>\n",
       "      <td>NC</td>\n",
       "    </tr>\n",
       "    <tr>\n",
       "      <th>1</th>\n",
       "      <td>lbrU8StCq3yDfr-QMnGrmQ</td>\n",
       "      <td>0</td>\n",
       "      <td>2013-12-07 03:16:52</td>\n",
       "      <td>1</td>\n",
       "      <td>UmFMZ8PyXZTY2QcwzsfQYA</td>\n",
       "      <td>1.0</td>\n",
       "      <td>I am actually horrified this place is still in...</td>\n",
       "      <td>1</td>\n",
       "      <td>nIJD_7ZXHq-FX8byPMOkMQ</td>\n",
       "      <td>8880 E Via Linda, Ste 107</td>\n",
       "      <td>...</td>\n",
       "      <td>Scottsdale</td>\n",
       "      <td>None</td>\n",
       "      <td>1.0</td>\n",
       "      <td>33.569404</td>\n",
       "      <td>-111.890264</td>\n",
       "      <td>Carlos Santo, NMD</td>\n",
       "      <td>85258</td>\n",
       "      <td>4.0</td>\n",
       "      <td>5.0</td>\n",
       "      <td>AZ</td>\n",
       "    </tr>\n",
       "    <tr>\n",
       "      <th>2</th>\n",
       "      <td>HQl28KMwrEKHqhFrrDqVNQ</td>\n",
       "      <td>0</td>\n",
       "      <td>2015-12-05 03:18:11</td>\n",
       "      <td>0</td>\n",
       "      <td>LG2ZaYiOgpr2DK_90pYjNw</td>\n",
       "      <td>5.0</td>\n",
       "      <td>I love Deagan's. I do. I really do. The atmosp...</td>\n",
       "      <td>1</td>\n",
       "      <td>V34qejxNsCbcgD8C0HVk-Q</td>\n",
       "      <td>3554 Rue Notre-Dame O</td>\n",
       "      <td>...</td>\n",
       "      <td>Montreal</td>\n",
       "      <td>None</td>\n",
       "      <td>1.0</td>\n",
       "      <td>45.479984</td>\n",
       "      <td>-73.580070</td>\n",
       "      <td>Felinus</td>\n",
       "      <td>H4C 1P4</td>\n",
       "      <td>5.0</td>\n",
       "      <td>5.0</td>\n",
       "      <td>QC</td>\n",
       "    </tr>\n",
       "    <tr>\n",
       "      <th>3</th>\n",
       "      <td>5JxlZaqCnk1MnbgRirs40Q</td>\n",
       "      <td>0</td>\n",
       "      <td>2011-05-27 05:30:52</td>\n",
       "      <td>0</td>\n",
       "      <td>i6g_oA9Yf9Y31qt0wibXpw</td>\n",
       "      <td>1.0</td>\n",
       "      <td>Dismal, lukewarm, defrosted-tasting \"TexMex\" g...</td>\n",
       "      <td>0</td>\n",
       "      <td>ofKDkJKXSKZXu5xJNGiiBQ</td>\n",
       "      <td>1015 Sharp Cir</td>\n",
       "      <td>...</td>\n",
       "      <td>North Las Vegas</td>\n",
       "      <td>{u'Friday': u'7:0-16:0', u'Tuesday': u'7:0-16:...</td>\n",
       "      <td>0.0</td>\n",
       "      <td>36.219728</td>\n",
       "      <td>-115.127725</td>\n",
       "      <td>Nevada House of Hose</td>\n",
       "      <td>89030</td>\n",
       "      <td>3.0</td>\n",
       "      <td>2.5</td>\n",
       "      <td>NV</td>\n",
       "    </tr>\n",
       "    <tr>\n",
       "      <th>4</th>\n",
       "      <td>IS4cv902ykd8wj1TR0N3-A</td>\n",
       "      <td>0</td>\n",
       "      <td>2017-01-14 21:56:57</td>\n",
       "      <td>0</td>\n",
       "      <td>6TdNDKywdbjoTkizeMce8A</td>\n",
       "      <td>4.0</td>\n",
       "      <td>Oh happy day, finally have a Canes near my cas...</td>\n",
       "      <td>0</td>\n",
       "      <td>UgMW8bLE0QMJDCkQ1Ax5Mg</td>\n",
       "      <td>4827 E Downing Cir</td>\n",
       "      <td>...</td>\n",
       "      <td>Mesa</td>\n",
       "      <td>{u'Friday': u'9:0-16:0', u'Tuesday': u'9:0-16:...</td>\n",
       "      <td>1.0</td>\n",
       "      <td>33.428065</td>\n",
       "      <td>-111.726648</td>\n",
       "      <td>USE MY GUY SERVICES LLC</td>\n",
       "      <td>85205</td>\n",
       "      <td>26.0</td>\n",
       "      <td>4.5</td>\n",
       "      <td>AZ</td>\n",
       "    </tr>\n",
       "  </tbody>\n",
       "</table>\n",
       "<p>5 rows × 23 columns</p>\n",
       "</div>"
      ],
      "text/plain": [
       "            business_id_r  cool                 date  funny  \\\n",
       "0  -MhfebM0QIsKt87iDN-FNw     0  2015-04-15 05:21:16      0   \n",
       "1  lbrU8StCq3yDfr-QMnGrmQ     0  2013-12-07 03:16:52      1   \n",
       "2  HQl28KMwrEKHqhFrrDqVNQ     0  2015-12-05 03:18:11      0   \n",
       "3  5JxlZaqCnk1MnbgRirs40Q     0  2011-05-27 05:30:52      0   \n",
       "4  IS4cv902ykd8wj1TR0N3-A     0  2017-01-14 21:56:57      0   \n",
       "\n",
       "                review_id  stars_r  \\\n",
       "0  xQY8N_XvtGbearJ5X4QryQ      2.0   \n",
       "1  UmFMZ8PyXZTY2QcwzsfQYA      1.0   \n",
       "2  LG2ZaYiOgpr2DK_90pYjNw      5.0   \n",
       "3  i6g_oA9Yf9Y31qt0wibXpw      1.0   \n",
       "4  6TdNDKywdbjoTkizeMce8A      4.0   \n",
       "\n",
       "                                                text  useful  \\\n",
       "0  As someone who has worked with many museums, I...       5   \n",
       "1  I am actually horrified this place is still in...       1   \n",
       "2  I love Deagan's. I do. I really do. The atmosp...       1   \n",
       "3  Dismal, lukewarm, defrosted-tasting \"TexMex\" g...       0   \n",
       "4  Oh happy day, finally have a Canes near my cas...       0   \n",
       "\n",
       "                  user_id                    address  ...              city  \\\n",
       "0  OwjRMXRC0KyPrIlcjaXeFQ            10913 Bailey Rd  ...         Cornelius   \n",
       "1  nIJD_7ZXHq-FX8byPMOkMQ  8880 E Via Linda, Ste 107  ...        Scottsdale   \n",
       "2  V34qejxNsCbcgD8C0HVk-Q      3554 Rue Notre-Dame O  ...          Montreal   \n",
       "3  ofKDkJKXSKZXu5xJNGiiBQ             1015 Sharp Cir  ...   North Las Vegas   \n",
       "4  UgMW8bLE0QMJDCkQ1Ax5Mg         4827 E Downing Cir  ...              Mesa   \n",
       "\n",
       "                                               hours is_open   latitude  \\\n",
       "0  {u'Monday': u'10:0-18:0', u'Tuesday': u'11:0-2...     1.0  35.462724   \n",
       "1                                               None     1.0  33.569404   \n",
       "2                                               None     1.0  45.479984   \n",
       "3  {u'Friday': u'7:0-16:0', u'Tuesday': u'7:0-16:...     0.0  36.219728   \n",
       "4  {u'Friday': u'9:0-16:0', u'Tuesday': u'9:0-16:...     1.0  33.428065   \n",
       "\n",
       "    longitude                      name  postal_code  review_count stars_b  \\\n",
       "0  -80.852612  The Range At Lake Norman        28031          36.0     3.5   \n",
       "1 -111.890264         Carlos Santo, NMD        85258           4.0     5.0   \n",
       "2  -73.580070                   Felinus      H4C 1P4           5.0     5.0   \n",
       "3 -115.127725      Nevada House of Hose        89030           3.0     2.5   \n",
       "4 -111.726648   USE MY GUY SERVICES LLC        85205          26.0     4.5   \n",
       "\n",
       "  state  \n",
       "0    NC  \n",
       "1    AZ  \n",
       "2    QC  \n",
       "3    NV  \n",
       "4    AZ  \n",
       "\n",
       "[5 rows x 23 columns]"
      ]
     },
     "execution_count": 3,
     "metadata": {},
     "output_type": "execute_result"
    }
   ],
   "source": [
    "df.head()"
   ]
  },
  {
   "cell_type": "markdown",
   "metadata": {},
   "source": [
    "#### Building the prediction model\n",
    "\n",
    "We want to build a deep neural network that can rate from 1 to 5 a review given in input. The model will be trained on the review data from Yelp Dataset, in which each review is associated to a star rank from 1 (bad) to 5 (good)."
   ]
  },
  {
   "cell_type": "code",
   "execution_count": 4,
   "metadata": {},
   "outputs": [],
   "source": [
    "import math\n",
    "import tensorflow as tf\n",
    "from tensorflow import keras\n",
    "from tensorflow.keras.preprocessing.text import Tokenizer\n",
    "from tensorflow.keras.preprocessing.sequence import pad_sequences"
   ]
  },
  {
   "cell_type": "code",
   "execution_count": 125,
   "metadata": {},
   "outputs": [
    {
     "name": "stdout",
     "output_type": "stream",
     "text": [
      "(500000, 500000)\n"
     ]
    }
   ],
   "source": [
    "# to train the model we need (input, output) pairs: \n",
    "# sentences is the array of inputs and labels is the array of outputs.\n",
    "sentences = []\n",
    "for text in df.text:\n",
    "    sentences.append(text)\n",
    "    \n",
    "labels = []\n",
    "for star in df.stars_r:\n",
    "    labels.append(star)\n",
    "    \n",
    "print(len(sentences), len(labels))"
   ]
  },
  {
   "cell_type": "code",
   "execution_count": 126,
   "metadata": {},
   "outputs": [
    {
     "name": "stdout",
     "output_type": "stream",
     "text": [
      "(50000, 45000)\n"
     ]
    }
   ],
   "source": [
    "size = 50000\n",
    "train_size = int(size*0.9)\n",
    "print(size, train_size)"
   ]
  },
  {
   "cell_type": "code",
   "execution_count": 127,
   "metadata": {},
   "outputs": [
    {
     "name": "stdout",
     "output_type": "stream",
     "text": [
      "(50000, 50000)\n",
      "((45000,), (5000,))\n",
      "((45000,), (5000,))\n"
     ]
    }
   ],
   "source": [
    "sentences = sentences[:size]\n",
    "labels = labels[:size]\n",
    "\n",
    "print(len(sentences), len(labels))\n",
    "\n",
    "# split the data in (train_data, test_data)\n",
    "train_sentences = sentences[:train_size]\n",
    "test_sentences = sentences[train_size:]\n",
    "\n",
    "# it's better to normalize output values to have them between 0 and 1\n",
    "train_labels = np.array(labels[:train_size])/5\n",
    "test_labels = np.array(labels[train_size:])/5\n",
    "\n",
    "print(np.shape(train_sentences), np.shape(test_sentences))\n",
    "print(np.shape(train_labels), np.shape(test_labels))"
   ]
  },
  {
   "cell_type": "code",
   "execution_count": 128,
   "metadata": {},
   "outputs": [],
   "source": [
    "vocab_size = 10000\n",
    "embedding_dim = 64\n",
    "max_length = 500"
   ]
  },
  {
   "cell_type": "code",
   "execution_count": 129,
   "metadata": {},
   "outputs": [
    {
     "name": "stdout",
     "output_type": "stream",
     "text": [
      "(45000, 500)\n",
      "(5000, 500)\n"
     ]
    }
   ],
   "source": [
    "# tokenization phase, may takes few minutes\n",
    "\n",
    "tokenizer = Tokenizer(num_words=vocab_size, oov_token=\"OOV\")\n",
    "tokenizer.fit_on_texts(train_sentences)\n",
    "    \n",
    "train_sequences = tokenizer.texts_to_sequences(train_sentences)\n",
    "train_padded = pad_sequences(train_sequences, maxlen=max_length,\n",
    "                             padding='post')\n",
    "\n",
    "test_sequences = tokenizer.texts_to_sequences(test_sentences)\n",
    "test_padded = pad_sequences(test_sequences, maxlen=max_length,\n",
    "                            padding='post')\n",
    "\n",
    "print(np.shape(train_padded))\n",
    "print(np.shape(test_padded))"
   ]
  },
  {
   "cell_type": "code",
   "execution_count": 130,
   "metadata": {},
   "outputs": [
    {
     "name": "stdout",
     "output_type": "stream",
     "text": [
      "Model: \"sequential_7\"\n",
      "_________________________________________________________________\n",
      "Layer (type)                 Output Shape              Param #   \n",
      "=================================================================\n",
      "embedding_7 (Embedding)      (None, 500, 64)           640000    \n",
      "_________________________________________________________________\n",
      "global_average_pooling1d_7 ( (None, 64)                0         \n",
      "_________________________________________________________________\n",
      "dense_27 (Dense)             (None, 24)                1560      \n",
      "_________________________________________________________________\n",
      "dense_28 (Dense)             (None, 12)                300       \n",
      "_________________________________________________________________\n",
      "dense_29 (Dense)             (None, 6)                 78        \n",
      "_________________________________________________________________\n",
      "dense_30 (Dense)             (None, 3)                 21        \n",
      "_________________________________________________________________\n",
      "dense_31 (Dense)             (None, 1)                 4         \n",
      "=================================================================\n",
      "Total params: 641,963\n",
      "Trainable params: 641,963\n",
      "Non-trainable params: 0\n",
      "_________________________________________________________________\n"
     ]
    }
   ],
   "source": [
    "# compose the model\n",
    "\n",
    "model = tf.keras.Sequential([\n",
    "    tf.keras.layers.Embedding(vocab_size, embedding_dim, input_length=max_length),\n",
    "    tf.keras.layers.GlobalAveragePooling1D(),\n",
    "    tf.keras.layers.Dense(24, activation='relu'),\n",
    "    tf.keras.layers.Dense(12, activation='relu'),\n",
    "    tf.keras.layers.Dense(6, activation='relu'),\n",
    "    tf.keras.layers.Dense(3, activation='relu'),\n",
    "    tf.keras.layers.Dense(1, activation='sigmoid')\n",
    "])\n",
    "\n",
    "model.compile(loss='binary_crossentropy', optimizer='adam', metrics=['accuracy'])\n",
    "\n",
    "model.save_weights('my_model_weights.h5')\n",
    "\n",
    "model.summary()"
   ]
  },
  {
   "cell_type": "code",
   "execution_count": 131,
   "metadata": {},
   "outputs": [
    {
     "name": "stdout",
     "output_type": "stream",
     "text": [
      "Train on 45000 samples, validate on 5000 samples\n",
      "Epoch 1/10\n",
      "45000/45000 - 21s - loss: 0.6032 - accuracy: 0.4382 - val_loss: 0.5618 - val_accuracy: 0.4448\n",
      "Epoch 2/10\n",
      "45000/45000 - 18s - loss: 0.5634 - accuracy: 0.4385 - val_loss: 0.5571 - val_accuracy: 0.4448\n",
      "Epoch 3/10\n",
      "45000/45000 - 18s - loss: 0.5627 - accuracy: 0.4385 - val_loss: 0.5571 - val_accuracy: 0.4448\n",
      "Epoch 4/10\n",
      "45000/45000 - 18s - loss: 0.5627 - accuracy: 0.4385 - val_loss: 0.5571 - val_accuracy: 0.4448\n",
      "Epoch 5/10\n",
      "45000/45000 - 18s - loss: 0.5627 - accuracy: 0.4385 - val_loss: 0.5571 - val_accuracy: 0.4448\n",
      "Epoch 6/10\n",
      "45000/45000 - 18s - loss: 0.5627 - accuracy: 0.4385 - val_loss: 0.5571 - val_accuracy: 0.4448\n",
      "Epoch 7/10\n",
      "45000/45000 - 18s - loss: 0.5627 - accuracy: 0.4385 - val_loss: 0.5571 - val_accuracy: 0.4448\n",
      "Epoch 8/10\n",
      "45000/45000 - 18s - loss: 0.5627 - accuracy: 0.4385 - val_loss: 0.5571 - val_accuracy: 0.4448\n",
      "Epoch 9/10\n",
      "45000/45000 - 18s - loss: 0.5627 - accuracy: 0.4385 - val_loss: 0.5570 - val_accuracy: 0.4448\n",
      "Epoch 10/10\n",
      "45000/45000 - 18s - loss: 0.5627 - accuracy: 0.4385 - val_loss: 0.5571 - val_accuracy: 0.4448\n",
      "Train on 45000 samples, validate on 5000 samples\n",
      "Epoch 1/20\n",
      "45000/45000 - 18s - loss: 0.5801 - accuracy: 0.4382 - val_loss: 0.5574 - val_accuracy: 0.4448\n",
      "Epoch 2/20\n",
      "45000/45000 - 18s - loss: 0.5627 - accuracy: 0.4385 - val_loss: 0.5573 - val_accuracy: 0.4448\n",
      "Epoch 3/20\n",
      "45000/45000 - 18s - loss: 0.5627 - accuracy: 0.4385 - val_loss: 0.5572 - val_accuracy: 0.4448\n",
      "Epoch 4/20\n",
      "45000/45000 - 18s - loss: 0.5627 - accuracy: 0.4385 - val_loss: 0.5573 - val_accuracy: 0.4448\n",
      "Epoch 5/20\n",
      "45000/45000 - 18s - loss: 0.5627 - accuracy: 0.4385 - val_loss: 0.5571 - val_accuracy: 0.4448\n",
      "Epoch 6/20\n",
      "45000/45000 - 18s - loss: 0.5627 - accuracy: 0.4385 - val_loss: 0.5571 - val_accuracy: 0.4448\n",
      "Epoch 7/20\n",
      "45000/45000 - 20s - loss: 0.5627 - accuracy: 0.4385 - val_loss: 0.5571 - val_accuracy: 0.4448\n",
      "Epoch 8/20\n",
      "45000/45000 - 18s - loss: 0.5627 - accuracy: 0.4385 - val_loss: 0.5571 - val_accuracy: 0.4448\n",
      "Epoch 9/20\n",
      "45000/45000 - 18s - loss: 0.5627 - accuracy: 0.4385 - val_loss: 0.5571 - val_accuracy: 0.4448\n",
      "Epoch 10/20\n",
      "45000/45000 - 18s - loss: 0.5627 - accuracy: 0.4385 - val_loss: 0.5572 - val_accuracy: 0.4448\n",
      "Epoch 11/20\n",
      "45000/45000 - 18s - loss: 0.5627 - accuracy: 0.4385 - val_loss: 0.5572 - val_accuracy: 0.4448\n",
      "Epoch 12/20\n",
      "45000/45000 - 26s - loss: 0.5627 - accuracy: 0.4385 - val_loss: 0.5571 - val_accuracy: 0.4448\n",
      "Epoch 13/20\n",
      "45000/45000 - 19s - loss: 0.5627 - accuracy: 0.4385 - val_loss: 0.5571 - val_accuracy: 0.4448\n",
      "Epoch 14/20\n",
      "45000/45000 - 24s - loss: 0.5627 - accuracy: 0.4385 - val_loss: 0.5571 - val_accuracy: 0.4448\n",
      "Epoch 15/20\n",
      "45000/45000 - 21s - loss: 0.5627 - accuracy: 0.4385 - val_loss: 0.5571 - val_accuracy: 0.4448\n",
      "Epoch 16/20\n",
      "45000/45000 - 22s - loss: 0.5627 - accuracy: 0.4385 - val_loss: 0.5571 - val_accuracy: 0.4448\n",
      "Epoch 17/20\n",
      "45000/45000 - 17s - loss: 0.5627 - accuracy: 0.4385 - val_loss: 0.5571 - val_accuracy: 0.4448\n",
      "Epoch 18/20\n",
      "45000/45000 - 20s - loss: 0.5627 - accuracy: 0.4385 - val_loss: 0.5571 - val_accuracy: 0.4448\n",
      "Epoch 19/20\n",
      "45000/45000 - 18s - loss: 0.5627 - accuracy: 0.4385 - val_loss: 0.5571 - val_accuracy: 0.4448\n",
      "Epoch 20/20\n",
      "45000/45000 - 18s - loss: 0.5627 - accuracy: 0.4385 - val_loss: 0.5572 - val_accuracy: 0.4448\n",
      "Train on 45000 samples, validate on 5000 samples\n",
      "Epoch 1/30\n",
      "45000/45000 - 17s - loss: 0.5803 - accuracy: 0.4382 - val_loss: 0.5575 - val_accuracy: 0.4448\n",
      "Epoch 2/30\n",
      "45000/45000 - 17s - loss: 0.5627 - accuracy: 0.4385 - val_loss: 0.5571 - val_accuracy: 0.4448\n",
      "Epoch 3/30\n",
      "45000/45000 - 18s - loss: 0.5627 - accuracy: 0.4385 - val_loss: 0.5572 - val_accuracy: 0.4448\n",
      "Epoch 4/30\n",
      "45000/45000 - 18s - loss: 0.5627 - accuracy: 0.4385 - val_loss: 0.5572 - val_accuracy: 0.4448\n",
      "Epoch 5/30\n",
      "45000/45000 - 17s - loss: 0.5627 - accuracy: 0.4385 - val_loss: 0.5572 - val_accuracy: 0.4448\n",
      "Epoch 6/30\n",
      "45000/45000 - 18s - loss: 0.5627 - accuracy: 0.4385 - val_loss: 0.5571 - val_accuracy: 0.4448\n",
      "Epoch 7/30\n",
      "45000/45000 - 17s - loss: 0.5627 - accuracy: 0.4385 - val_loss: 0.5571 - val_accuracy: 0.4448\n",
      "Epoch 8/30\n",
      "45000/45000 - 17s - loss: 0.5627 - accuracy: 0.4385 - val_loss: 0.5571 - val_accuracy: 0.4448\n",
      "Epoch 9/30\n",
      "45000/45000 - 22s - loss: 0.5627 - accuracy: 0.4385 - val_loss: 0.5572 - val_accuracy: 0.4448\n",
      "Epoch 10/30\n",
      "45000/45000 - 17s - loss: 0.5627 - accuracy: 0.4385 - val_loss: 0.5571 - val_accuracy: 0.4448\n",
      "Epoch 11/30\n",
      "45000/45000 - 20s - loss: 0.5627 - accuracy: 0.4385 - val_loss: 0.5571 - val_accuracy: 0.4448\n",
      "Epoch 12/30\n",
      "45000/45000 - 18s - loss: 0.5627 - accuracy: 0.4385 - val_loss: 0.5571 - val_accuracy: 0.4448\n",
      "Epoch 13/30\n",
      "45000/45000 - 19s - loss: 0.5627 - accuracy: 0.4385 - val_loss: 0.5573 - val_accuracy: 0.4448\n",
      "Epoch 14/30\n",
      "45000/45000 - 19s - loss: 0.5627 - accuracy: 0.4385 - val_loss: 0.5571 - val_accuracy: 0.4448\n",
      "Epoch 15/30\n",
      "45000/45000 - 19s - loss: 0.5627 - accuracy: 0.4385 - val_loss: 0.5571 - val_accuracy: 0.4448\n",
      "Epoch 16/30\n",
      "45000/45000 - 20s - loss: 0.5627 - accuracy: 0.4385 - val_loss: 0.5572 - val_accuracy: 0.4448\n",
      "Epoch 17/30\n",
      "45000/45000 - 19s - loss: 0.5627 - accuracy: 0.4385 - val_loss: 0.5571 - val_accuracy: 0.4448\n",
      "Epoch 18/30\n",
      "45000/45000 - 19s - loss: 0.5627 - accuracy: 0.4385 - val_loss: 0.5571 - val_accuracy: 0.4448\n",
      "Epoch 19/30\n",
      "45000/45000 - 20s - loss: 0.5627 - accuracy: 0.4385 - val_loss: 0.5571 - val_accuracy: 0.4448\n",
      "Epoch 20/30\n",
      "45000/45000 - 21s - loss: 0.5627 - accuracy: 0.4385 - val_loss: 0.5571 - val_accuracy: 0.4448\n",
      "Epoch 21/30\n",
      "45000/45000 - 18s - loss: 0.5627 - accuracy: 0.4385 - val_loss: 0.5571 - val_accuracy: 0.4448\n",
      "Epoch 22/30\n",
      "45000/45000 - 18s - loss: 0.5627 - accuracy: 0.4385 - val_loss: 0.5572 - val_accuracy: 0.4448\n",
      "Epoch 23/30\n",
      "45000/45000 - 18s - loss: 0.5627 - accuracy: 0.4385 - val_loss: 0.5571 - val_accuracy: 0.4448\n",
      "Epoch 24/30\n",
      "45000/45000 - 18s - loss: 0.5627 - accuracy: 0.4385 - val_loss: 0.5571 - val_accuracy: 0.4448\n",
      "Epoch 25/30\n",
      "45000/45000 - 19s - loss: 0.5627 - accuracy: 0.4385 - val_loss: 0.5571 - val_accuracy: 0.4448\n",
      "Epoch 26/30\n",
      "45000/45000 - 19s - loss: 0.5627 - accuracy: 0.4385 - val_loss: 0.5571 - val_accuracy: 0.4448\n",
      "Epoch 27/30\n",
      "45000/45000 - 22s - loss: 0.5627 - accuracy: 0.4385 - val_loss: 0.5572 - val_accuracy: 0.4448\n",
      "Epoch 28/30\n",
      "45000/45000 - 18s - loss: 0.5627 - accuracy: 0.4385 - val_loss: 0.5571 - val_accuracy: 0.4448\n",
      "Epoch 29/30\n",
      "45000/45000 - 18s - loss: 0.5627 - accuracy: 0.4385 - val_loss: 0.5571 - val_accuracy: 0.4448\n",
      "Epoch 30/30\n",
      "45000/45000 - 18s - loss: 0.5627 - accuracy: 0.4385 - val_loss: 0.5571 - val_accuracy: 0.4448\n"
     ]
    }
   ],
   "source": [
    "# train the model\n",
    "\n",
    "epochs = [10,20,30]\n",
    "history = []\n",
    "\n",
    "for ep in epochs:\n",
    "    model.load_weights('my_model_weights.h5')\n",
    "    history.append(model.fit(np.array(train_padded), np.array(train_labels), epochs=ep,\n",
    "                       validation_data=(test_padded, test_labels), verbose=2))"
   ]
  },
  {
   "cell_type": "code",
   "execution_count": 132,
   "metadata": {
    "scrolled": false
   },
   "outputs": [
    {
     "data": {
      "image/png": "[encoded data removed]",
      "text/plain": [
       "<Figure size 1152x360 with 2 Axes>"
      ]
     },
     "metadata": {
      "needs_background": "light"
     },
     "output_type": "display_data"
    },
    {
     "data": {
      "image/png": "[encoded data removed]",
      "text/plain": [
       "<Figure size 1152x360 with 2 Axes>"
      ]
     },
     "metadata": {
      "needs_background": "light"
     },
     "output_type": "display_data"
    },
    {
     "data": {
      "image/png": "[encoded data removed]",
      "text/plain": [
       "<Figure size 1152x360 with 2 Axes>"
      ]
     },
     "metadata": {
      "needs_background": "light"
     },
     "output_type": "display_data"
    }
   ],
   "source": [
    "# print results\n",
    "\n",
    "import matplotlib.pyplot as plt\n",
    "\n",
    "min_accuracy = min([el for el in hist.history['accuracy'] for hist in history] + \n",
    "                  [el for el in hist.history['val_accuracy'] for hist in history])\n",
    "max_accuracy = max([el for el in hist.history['accuracy'] for hist in history] + \n",
    "                  [el for el in hist.history['val_accuracy'] for hist in history])\n",
    "padding_accuracy = (max_accuracy-min_accuracy)*0.05\n",
    "min_loss = min([el for el in hist.history['loss'] for hist in history] + \n",
    "                  [el for el in hist.history['val_loss'] for hist in history])\n",
    "max_loss = max([el for el in hist.history['loss'] for hist in history] + \n",
    "                  [el for el in hist.history['val_loss'] for hist in history])\n",
    "padding_loss = (max_loss-min_loss)*0.05\n",
    "\n",
    "\n",
    "for i in range(len(history)):\n",
    "\n",
    "    fig, axes = plt.subplots(1, 2, figsize=(16,5))\n",
    "    fig.suptitle('Results after training on %i samples and validating on %i samples for %i epochs' \n",
    "                 % (train_size, size-train_size, epochs[i]), fontsize=16)\n",
    "\n",
    "    # summarize history for accuracy\n",
    "    axes[0].plot(history[i].history['accuracy'])\n",
    "    axes[0].plot(history[i].history['val_accuracy'])\n",
    "    axes[0].set_title('Model accuracy')\n",
    "    axes[0].set_ylabel('Accuracy')\n",
    "    axes[0].set_ylim([min_accuracy-padding_accuracy, max_accuracy+padding_accuracy])\n",
    "    axes[0].set_xlabel('Epoch')\n",
    "    axes[0].legend(['Train', 'Test'], loc='upper left')\n",
    "\n",
    "    # summarize history for loss\n",
    "    axes[1].plot(history[i].history['loss'])\n",
    "    axes[1].plot(history[i].history['val_loss'])\n",
    "    axes[1].set_title('Model loss')\n",
    "    axes[1].set_ylabel('Loss')\n",
    "    axes[1].set_ylim([min_loss-padding_loss, max_loss+padding_loss])\n",
    "    axes[1].set_xlabel('Epoch')\n",
    "    axes[1].legend(['Train', 'Test'], loc='upper left')\n",
    "\n",
    "    plt.show()"
   ]
  },
  {
   "cell_type": "code",
   "execution_count": 124,
   "metadata": {},
   "outputs": [
    {
     "name": "stdout",
     "output_type": "stream",
     "text": [
      "\"Horrible, this is a bad place. Disgusting\" rating prediction is 1 stars.\n",
      "\"I recommed to all to have a dinner here!\" rating prediction is 3 stars.\n"
     ]
    }
   ],
   "source": [
    "# make prediction\n",
    "\n",
    "sentences = [\n",
    "    \"Horrible, this is a bad place. Disgusting\",\n",
    "    \"I recommed to all to have a dinner here!\"\n",
    "]\n",
    "\n",
    "sequences = tokenizer.texts_to_sequences(sentences)\n",
    "padded = pad_sequences(sequences, maxlen=max_length, padding='post')\n",
    "\n",
    "result = model.predict(padded)\n",
    "\n",
    "for i in range(len(result)):\n",
    "    print('\"%s\" rating prediction is %i stars.' % (sentences[i], round(result[i]*5)))"
   ]
  }
 ],
 "metadata": {
  "kernelspec": {
   "display_name": "Python 2",
   "language": "python",
   "name": "python2"
  },
  "language_info": {
   "codemirror_mode": {
    "name": "ipython",
    "version": 2
   },
   "file_extension": ".py",
   "mimetype": "text/x-python",
   "name": "python",
   "nbconvert_exporter": "python",
   "pygments_lexer": "ipython2",
   "version": "2.7.17"
  }
 },
 "nbformat": 4,
 "nbformat_minor": 2
}
