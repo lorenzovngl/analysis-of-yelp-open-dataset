{
 "cells": [
  {
   "cell_type": "markdown",
   "metadata": {},
   "source": [
    "## Analysis of review.json"
   ]
  },
  {
   "cell_type": "code",
   "execution_count": 6,
   "metadata": {},
   "outputs": [
    {
     "data": {
      "text/plain": [
       "(500000, 9)"
      ]
     },
     "execution_count": 6,
     "metadata": {},
     "output_type": "execute_result"
    }
   ],
   "source": [
    "import json\n",
    "import pandas as pd\n",
    "\n",
    "# review.json is too large (6.3 gb)\n",
    "data_size = 500000\n",
    "\n",
    "with open(\"yelp_dataset/yelp_academic_dataset_review.json\", 'r') as f:\n",
    "    review_head = [next(f) for x in range(data_size)]\n",
    "f.close()\n",
    "\n",
    "review_data = []\n",
    "for line in review_head:\n",
    "    review_data.append(json.loads(line))\n",
    "\n",
    "df = pd.DataFrame(review_data)\n",
    "df.shape"
   ]
  },
  {
   "cell_type": "code",
   "execution_count": 7,
   "metadata": {},
   "outputs": [
    {
     "data": {
      "text/html": [
       "<div>\n",
       "<style scoped>\n",
       "    .dataframe tbody tr th:only-of-type {\n",
       "        vertical-align: middle;\n",
       "    }\n",
       "\n",
       "    .dataframe tbody tr th {\n",
       "        vertical-align: top;\n",
       "    }\n",
       "\n",
       "    .dataframe thead th {\n",
       "        text-align: right;\n",
       "    }\n",
       "</style>\n",
       "<table border=\"1\" class=\"dataframe\">\n",
       "  <thead>\n",
       "    <tr style=\"text-align: right;\">\n",
       "      <th></th>\n",
       "      <th>business_id</th>\n",
       "      <th>cool</th>\n",
       "      <th>date</th>\n",
       "      <th>funny</th>\n",
       "      <th>review_id</th>\n",
       "      <th>stars</th>\n",
       "      <th>text</th>\n",
       "      <th>useful</th>\n",
       "      <th>user_id</th>\n",
       "    </tr>\n",
       "  </thead>\n",
       "  <tbody>\n",
       "    <tr>\n",
       "      <th>0</th>\n",
       "      <td>-MhfebM0QIsKt87iDN-FNw</td>\n",
       "      <td>0</td>\n",
       "      <td>2015-04-15 05:21:16</td>\n",
       "      <td>0</td>\n",
       "      <td>xQY8N_XvtGbearJ5X4QryQ</td>\n",
       "      <td>2.0</td>\n",
       "      <td>As someone who has worked with many museums, I...</td>\n",
       "      <td>5</td>\n",
       "      <td>OwjRMXRC0KyPrIlcjaXeFQ</td>\n",
       "    </tr>\n",
       "    <tr>\n",
       "      <th>1</th>\n",
       "      <td>lbrU8StCq3yDfr-QMnGrmQ</td>\n",
       "      <td>0</td>\n",
       "      <td>2013-12-07 03:16:52</td>\n",
       "      <td>1</td>\n",
       "      <td>UmFMZ8PyXZTY2QcwzsfQYA</td>\n",
       "      <td>1.0</td>\n",
       "      <td>I am actually horrified this place is still in...</td>\n",
       "      <td>1</td>\n",
       "      <td>nIJD_7ZXHq-FX8byPMOkMQ</td>\n",
       "    </tr>\n",
       "    <tr>\n",
       "      <th>2</th>\n",
       "      <td>HQl28KMwrEKHqhFrrDqVNQ</td>\n",
       "      <td>0</td>\n",
       "      <td>2015-12-05 03:18:11</td>\n",
       "      <td>0</td>\n",
       "      <td>LG2ZaYiOgpr2DK_90pYjNw</td>\n",
       "      <td>5.0</td>\n",
       "      <td>I love Deagan's. I do. I really do. The atmosp...</td>\n",
       "      <td>1</td>\n",
       "      <td>V34qejxNsCbcgD8C0HVk-Q</td>\n",
       "    </tr>\n",
       "    <tr>\n",
       "      <th>3</th>\n",
       "      <td>5JxlZaqCnk1MnbgRirs40Q</td>\n",
       "      <td>0</td>\n",
       "      <td>2011-05-27 05:30:52</td>\n",
       "      <td>0</td>\n",
       "      <td>i6g_oA9Yf9Y31qt0wibXpw</td>\n",
       "      <td>1.0</td>\n",
       "      <td>Dismal, lukewarm, defrosted-tasting \"TexMex\" g...</td>\n",
       "      <td>0</td>\n",
       "      <td>ofKDkJKXSKZXu5xJNGiiBQ</td>\n",
       "    </tr>\n",
       "    <tr>\n",
       "      <th>4</th>\n",
       "      <td>IS4cv902ykd8wj1TR0N3-A</td>\n",
       "      <td>0</td>\n",
       "      <td>2017-01-14 21:56:57</td>\n",
       "      <td>0</td>\n",
       "      <td>6TdNDKywdbjoTkizeMce8A</td>\n",
       "      <td>4.0</td>\n",
       "      <td>Oh happy day, finally have a Canes near my cas...</td>\n",
       "      <td>0</td>\n",
       "      <td>UgMW8bLE0QMJDCkQ1Ax5Mg</td>\n",
       "    </tr>\n",
       "  </tbody>\n",
       "</table>\n",
       "</div>"
      ],
      "text/plain": [
       "              business_id  cool                 date  funny  \\\n",
       "0  -MhfebM0QIsKt87iDN-FNw     0  2015-04-15 05:21:16      0   \n",
       "1  lbrU8StCq3yDfr-QMnGrmQ     0  2013-12-07 03:16:52      1   \n",
       "2  HQl28KMwrEKHqhFrrDqVNQ     0  2015-12-05 03:18:11      0   \n",
       "3  5JxlZaqCnk1MnbgRirs40Q     0  2011-05-27 05:30:52      0   \n",
       "4  IS4cv902ykd8wj1TR0N3-A     0  2017-01-14 21:56:57      0   \n",
       "\n",
       "                review_id  stars  \\\n",
       "0  xQY8N_XvtGbearJ5X4QryQ    2.0   \n",
       "1  UmFMZ8PyXZTY2QcwzsfQYA    1.0   \n",
       "2  LG2ZaYiOgpr2DK_90pYjNw    5.0   \n",
       "3  i6g_oA9Yf9Y31qt0wibXpw    1.0   \n",
       "4  6TdNDKywdbjoTkizeMce8A    4.0   \n",
       "\n",
       "                                                text  useful  \\\n",
       "0  As someone who has worked with many museums, I...       5   \n",
       "1  I am actually horrified this place is still in...       1   \n",
       "2  I love Deagan's. I do. I really do. The atmosp...       1   \n",
       "3  Dismal, lukewarm, defrosted-tasting \"TexMex\" g...       0   \n",
       "4  Oh happy day, finally have a Canes near my cas...       0   \n",
       "\n",
       "                  user_id  \n",
       "0  OwjRMXRC0KyPrIlcjaXeFQ  \n",
       "1  nIJD_7ZXHq-FX8byPMOkMQ  \n",
       "2  V34qejxNsCbcgD8C0HVk-Q  \n",
       "3  ofKDkJKXSKZXu5xJNGiiBQ  \n",
       "4  UgMW8bLE0QMJDCkQ1Ax5Mg  "
      ]
     },
     "execution_count": 7,
     "metadata": {},
     "output_type": "execute_result"
    }
   ],
   "source": [
    "df.head()"
   ]
  },
  {
   "cell_type": "markdown",
   "metadata": {
    "scrolled": true
   },
   "source": [
    "### Top Rated"
   ]
  },
  {
   "cell_type": "code",
   "execution_count": 8,
   "metadata": {},
   "outputs": [
    {
     "data": {
      "text/html": [
       "<div>\n",
       "<style scoped>\n",
       "    .dataframe tbody tr th:only-of-type {\n",
       "        vertical-align: middle;\n",
       "    }\n",
       "\n",
       "    .dataframe tbody tr th {\n",
       "        vertical-align: top;\n",
       "    }\n",
       "\n",
       "    .dataframe thead th {\n",
       "        text-align: right;\n",
       "    }\n",
       "</style>\n",
       "<table border=\"1\" class=\"dataframe\">\n",
       "  <thead>\n",
       "    <tr style=\"text-align: right;\">\n",
       "      <th></th>\n",
       "      <th>business_id</th>\n",
       "      <th>cool</th>\n",
       "      <th>date</th>\n",
       "      <th>funny</th>\n",
       "      <th>review_id</th>\n",
       "      <th>stars</th>\n",
       "      <th>text</th>\n",
       "      <th>useful</th>\n",
       "      <th>user_id</th>\n",
       "    </tr>\n",
       "  </thead>\n",
       "  <tbody>\n",
       "    <tr>\n",
       "      <th>488039</th>\n",
       "      <td>M82c96ICluambjx0wWg6Bg</td>\n",
       "      <td>99</td>\n",
       "      <td>2015-11-06 21:55:52</td>\n",
       "      <td>39</td>\n",
       "      <td>NKzbBQXO3c3LMzNoEVS10g</td>\n",
       "      <td>5.0</td>\n",
       "      <td>I went here to get a smog and I was literally ...</td>\n",
       "      <td>99</td>\n",
       "      <td>3twN5O2Ku64i5S7DjR7Faw</td>\n",
       "    </tr>\n",
       "    <tr>\n",
       "      <th>1482</th>\n",
       "      <td>SZEFE5hL7aN5nM-A44iPwQ</td>\n",
       "      <td>93</td>\n",
       "      <td>2013-10-24 06:28:58</td>\n",
       "      <td>75</td>\n",
       "      <td>-5pP4o7XUpFWL2Kb9u5B_A</td>\n",
       "      <td>5.0</td>\n",
       "      <td>I stopped by at Prime tonight after a grueling...</td>\n",
       "      <td>98</td>\n",
       "      <td>SIpBqzGhRM7T5cDFiuIryg</td>\n",
       "    </tr>\n",
       "    <tr>\n",
       "      <th>186791</th>\n",
       "      <td>mrQqy-xU6nanRoPabNw-jA</td>\n",
       "      <td>89</td>\n",
       "      <td>2012-12-12 15:53:33</td>\n",
       "      <td>88</td>\n",
       "      <td>2VizOiazC4XYQ3xuQugHkw</td>\n",
       "      <td>5.0</td>\n",
       "      <td>A timeless show about the difference between M...</td>\n",
       "      <td>96</td>\n",
       "      <td>DfmtZlDE8JJv-boorp1PAg</td>\n",
       "    </tr>\n",
       "    <tr>\n",
       "      <th>465129</th>\n",
       "      <td>M82c96ICluambjx0wWg6Bg</td>\n",
       "      <td>91</td>\n",
       "      <td>2016-01-25 23:04:42</td>\n",
       "      <td>35</td>\n",
       "      <td>X0gKoQuOy3Bga8sjCFRIsA</td>\n",
       "      <td>5.0</td>\n",
       "      <td>Super fast service. I walked in and they were ...</td>\n",
       "      <td>91</td>\n",
       "      <td>d7URo_srMmROIODPeiIBgw</td>\n",
       "    </tr>\n",
       "    <tr>\n",
       "      <th>385534</th>\n",
       "      <td>3nf-a84p8LC41_WAIvJPjg</td>\n",
       "      <td>85</td>\n",
       "      <td>2013-02-20 05:15:37</td>\n",
       "      <td>80</td>\n",
       "      <td>o_IEbpNmKsS6xfM3DJRluA</td>\n",
       "      <td>5.0</td>\n",
       "      <td>Exceptional pizza, wth crust that's thinner th...</td>\n",
       "      <td>86</td>\n",
       "      <td>DfmtZlDE8JJv-boorp1PAg</td>\n",
       "    </tr>\n",
       "  </tbody>\n",
       "</table>\n",
       "</div>"
      ],
      "text/plain": [
       "                   business_id  cool                 date  funny  \\\n",
       "488039  M82c96ICluambjx0wWg6Bg    99  2015-11-06 21:55:52     39   \n",
       "1482    SZEFE5hL7aN5nM-A44iPwQ    93  2013-10-24 06:28:58     75   \n",
       "186791  mrQqy-xU6nanRoPabNw-jA    89  2012-12-12 15:53:33     88   \n",
       "465129  M82c96ICluambjx0wWg6Bg    91  2016-01-25 23:04:42     35   \n",
       "385534  3nf-a84p8LC41_WAIvJPjg    85  2013-02-20 05:15:37     80   \n",
       "\n",
       "                     review_id  stars  \\\n",
       "488039  NKzbBQXO3c3LMzNoEVS10g    5.0   \n",
       "1482    -5pP4o7XUpFWL2Kb9u5B_A    5.0   \n",
       "186791  2VizOiazC4XYQ3xuQugHkw    5.0   \n",
       "465129  X0gKoQuOy3Bga8sjCFRIsA    5.0   \n",
       "385534  o_IEbpNmKsS6xfM3DJRluA    5.0   \n",
       "\n",
       "                                                     text  useful  \\\n",
       "488039  I went here to get a smog and I was literally ...      99   \n",
       "1482    I stopped by at Prime tonight after a grueling...      98   \n",
       "186791  A timeless show about the difference between M...      96   \n",
       "465129  Super fast service. I walked in and they were ...      91   \n",
       "385534  Exceptional pizza, wth crust that's thinner th...      86   \n",
       "\n",
       "                       user_id  \n",
       "488039  3twN5O2Ku64i5S7DjR7Faw  \n",
       "1482    SIpBqzGhRM7T5cDFiuIryg  \n",
       "186791  DfmtZlDE8JJv-boorp1PAg  \n",
       "465129  d7URo_srMmROIODPeiIBgw  \n",
       "385534  DfmtZlDE8JJv-boorp1PAg  "
      ]
     },
     "execution_count": 8,
     "metadata": {},
     "output_type": "execute_result"
    }
   ],
   "source": [
    "df.sort_values(by=['stars', 'useful'], ascending=False).head()"
   ]
  },
  {
   "cell_type": "code",
   "execution_count": 11,
   "metadata": {},
   "outputs": [
    {
     "data": {
      "image/png": "[encoded data removed]",
      "text/plain": [
       "<Figure size 1080x648 with 1 Axes>"
      ]
     },
     "metadata": {
      "needs_background": "light"
     },
     "output_type": "display_data"
    }
   ],
   "source": [
    "import matplotlib.pyplot as plt\n",
    "\n",
    "df.plot.scatter(x='useful', y='stars', figsize=(15,9))\n",
    "plt.show()"
   ]
  },
  {
   "cell_type": "code",
   "execution_count": 15,
   "metadata": {},
   "outputs": [
    {
     "data": {
      "image/png": "[encoded data removed]",
      "text/plain": [
       "<Figure size 1152x648 with 2 Axes>"
      ]
     },
     "metadata": {
      "needs_background": "light"
     },
     "output_type": "display_data"
    }
   ],
   "source": [
    "f = plt.figure(figsize=(16, 9))\n",
    "plt.matshow(df.corr(), fignum=f.number)\n",
    "plt.xticks(range(df.shape[1]), df.columns, fontsize=14, rotation=45)\n",
    "plt.yticks(range(df.shape[1]), df.columns, fontsize=14)\n",
    "cb = plt.colorbar()\n",
    "cb.ax.tick_params(labelsize=14)\n",
    "plt.title('Correlation Matrix', fontsize=16);"
   ]
  },
  {
   "cell_type": "code",
   "execution_count": null,
   "metadata": {},
   "outputs": [],
   "source": []
  }
 ],
 "metadata": {
  "kernelspec": {
   "display_name": "Python 2",
   "language": "python",
   "name": "python2"
  },
  "language_info": {
   "codemirror_mode": {
    "name": "ipython",
    "version": 2
   },
   "file_extension": ".py",
   "mimetype": "text/x-python",
   "name": "python",
   "nbconvert_exporter": "python",
   "pygments_lexer": "ipython2",
   "version": "2.7.17"
  }
 },
 "nbformat": 4,
 "nbformat_minor": 2
}
