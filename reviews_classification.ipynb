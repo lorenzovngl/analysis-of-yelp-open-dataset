{
 "cells": [
  {
   "cell_type": "markdown",
   "metadata": {},
   "source": [
    "# Reviews classification"
   ]
  },
  {
   "cell_type": "code",
   "execution_count": 199,
   "metadata": {},
   "outputs": [
    {
     "name": "stdout",
     "output_type": "stream",
     "text": [
      "              business_id  cool                 date  funny  \\\n",
      "0  -MhfebM0QIsKt87iDN-FNw     0  2015-04-15 05:21:16      0   \n",
      "1  lbrU8StCq3yDfr-QMnGrmQ     0  2013-12-07 03:16:52      1   \n",
      "2  HQl28KMwrEKHqhFrrDqVNQ     0  2015-12-05 03:18:11      0   \n",
      "3  5JxlZaqCnk1MnbgRirs40Q     0  2011-05-27 05:30:52      0   \n",
      "4  IS4cv902ykd8wj1TR0N3-A     0  2017-01-14 21:56:57      0   \n",
      "5  nlxHRv1zXGT0c0K51q3jDg     0  2013-05-07 07:25:25      0   \n",
      "6  Pthe4qk5xh4n-ef-9bvMSg     0  2015-11-05 23:11:05      0   \n",
      "7  FNCJpSn0tL9iqoY3JC73qw     0  2017-07-18 18:31:54      0   \n",
      "\n",
      "                review_id  stars  \\\n",
      "0  xQY8N_XvtGbearJ5X4QryQ    2.0   \n",
      "1  UmFMZ8PyXZTY2QcwzsfQYA    1.0   \n",
      "2  LG2ZaYiOgpr2DK_90pYjNw    5.0   \n",
      "3  i6g_oA9Yf9Y31qt0wibXpw    1.0   \n",
      "4  6TdNDKywdbjoTkizeMce8A    4.0   \n",
      "5  L2O_INwlrRuoX05KSjc4eg    5.0   \n",
      "6  ZayJ1zWyWgY9S_TRLT_y9Q    5.0   \n",
      "7  lpFIJYpsvDxyph-kPzZ6aA    5.0   \n",
      "\n",
      "                                                text  useful  \\\n",
      "0  As someone who has worked with many museums, I...       5   \n",
      "1  I am actually horrified this place is still in...       1   \n",
      "2  I love Deagan's. I do. I really do. The atmosp...       1   \n",
      "3  Dismal, lukewarm, defrosted-tasting \"TexMex\" g...       0   \n",
      "4  Oh happy day, finally have a Canes near my cas...       0   \n",
      "5  This is definitely my favorite fast food sub s...       2   \n",
      "6  Really good place with simple decor, amazing f...       1   \n",
      "7  Awesome office and staff, very professional an...       0   \n",
      "\n",
      "                  user_id  \n",
      "0  OwjRMXRC0KyPrIlcjaXeFQ  \n",
      "1  nIJD_7ZXHq-FX8byPMOkMQ  \n",
      "2  V34qejxNsCbcgD8C0HVk-Q  \n",
      "3  ofKDkJKXSKZXu5xJNGiiBQ  \n",
      "4  UgMW8bLE0QMJDCkQ1Ax5Mg  \n",
      "5  5vD2kmE25YBrbayKhykNxQ  \n",
      "6  aq_ZxGHiri48TUXJlpRkCQ  \n",
      "7  dsd-KNYKMpx6ma_sRWCSkQ  \n"
     ]
    }
   ],
   "source": [
    "import json \n",
    "import numpy as np\n",
    "import pandas as pd\n",
    "\n",
    "data_size = 10000\n",
    "train_size = int(data_size*0.9)\n",
    "\n",
    "with open(\"yelp_dataset/yelp_academic_dataset_business.json\", 'r') as f:\n",
    "    business_head = [next(f) for x in range(data_size)]\n",
    "f.close()\n",
    "\n",
    "business_data = []\n",
    "for line in business_head:\n",
    "    business_data.append(json.loads(line))\n",
    "\n",
    "business_df = pd.DataFrame(business_data)\n",
    "\n",
    "with open(\"yelp_dataset/yelp_academic_dataset_review.json\", 'r') as f:\n",
    "    review_head = [next(f) for x in range(data_size)]\n",
    "f.close()\n",
    "\n",
    "review_data = []\n",
    "for line in review_head:\n",
    "    review_data.append(json.loads(line))\n",
    "\n",
    "review_df = pd.DataFrame(review_data)\n",
    "\n",
    "df = review_df.join(business_df, lsuffix='_r', rsuffix='_b')\n",
    "\n",
    "print(df_train)"
   ]
  },
  {
   "cell_type": "code",
   "execution_count": 200,
   "metadata": {},
   "outputs": [],
   "source": [
    "import tensorflow as tf\n",
    "from tensorflow import keras\n",
    "from tensorflow.keras.preprocessing.text import Tokenizer\n",
    "from tensorflow.keras.preprocessing.sequence import pad_sequences\n",
    "\n",
    "sentences = []\n",
    "for text in df.text:\n",
    "    sentences.append(text)\n",
    "    \n",
    "labels = []\n",
    "for star in df.stars_r:\n",
    "    labels.append(star)\n",
    "\n",
    "train_sentences = sentences[:train_size]\n",
    "test_sentences = sentences[train_size:]\n",
    "train_labels = np.array(labels[:train_size])/5\n",
    "test_labels = np.array(labels[train_size:])/5"
   ]
  },
  {
   "cell_type": "code",
   "execution_count": 201,
   "metadata": {},
   "outputs": [],
   "source": [
    "vocab_size = 10000\n",
    "embedding_dim = 64\n",
    "max_length = 500"
   ]
  },
  {
   "cell_type": "code",
   "execution_count": 202,
   "metadata": {},
   "outputs": [
    {
     "name": "stdout",
     "output_type": "stream",
     "text": [
      "(9000, 500)\n",
      "(9000,)\n"
     ]
    }
   ],
   "source": [
    "tokenizer = Tokenizer(num_words=vocab_size, oov_token=\"OOV\")\n",
    "tokenizer.fit_on_texts(train_sentences)\n",
    "#print(tokenizer.word_index)\n",
    "\n",
    "train_sequences = tokenizer.texts_to_sequences(train_sentences)\n",
    "train_padded = pad_sequences(train_sequences, maxlen=max_length,\n",
    "                             padding='post')\n",
    "\n",
    "test_sequences = tokenizer.texts_to_sequences(test_sentences)\n",
    "test_padded = pad_sequences(test_sequences, maxlen=max_length,\n",
    "                            padding='post')\n",
    "\n",
    "print(train_padded.shape)\n",
    "print(train_labels.shape)"
   ]
  },
  {
   "cell_type": "code",
   "execution_count": 203,
   "metadata": {},
   "outputs": [
    {
     "name": "stdout",
     "output_type": "stream",
     "text": [
      "Model: \"sequential_19\"\n",
      "_________________________________________________________________\n",
      "Layer (type)                 Output Shape              Param #   \n",
      "=================================================================\n",
      "embedding_19 (Embedding)     (None, 500, 64)           640000    \n",
      "_________________________________________________________________\n",
      "global_average_pooling1d_19  (None, 64)                0         \n",
      "_________________________________________________________________\n",
      "dense_40 (Dense)             (None, 24)                1560      \n",
      "_________________________________________________________________\n",
      "dense_41 (Dense)             (None, 12)                300       \n",
      "_________________________________________________________________\n",
      "dense_42 (Dense)             (None, 1)                 13        \n",
      "=================================================================\n",
      "Total params: 641,873\n",
      "Trainable params: 641,873\n",
      "Non-trainable params: 0\n",
      "_________________________________________________________________\n"
     ]
    }
   ],
   "source": [
    "model = tf.keras.Sequential([\n",
    "    tf.keras.layers.Embedding(vocab_size, embedding_dim, input_length=max_length),\n",
    "    tf.keras.layers.GlobalAveragePooling1D(),\n",
    "    tf.keras.layers.Dense(24, activation='relu'),\n",
    "    tf.keras.layers.Dense(12, activation='relu'),\n",
    "    tf.keras.layers.Dense(1, activation='sigmoid')\n",
    "])\n",
    "\n",
    "model.compile(loss='binary_crossentropy', optimizer='adam', metrics=['accuracy'])\n",
    "\n",
    "model.summary()"
   ]
  },
  {
   "cell_type": "code",
   "execution_count": 204,
   "metadata": {},
   "outputs": [
    {
     "name": "stdout",
     "output_type": "stream",
     "text": [
      "Train on 9000 samples, validate on 1000 samples\n",
      "Epoch 1/40\n",
      "9000/9000 - 5s - loss: 0.5674 - accuracy: 0.4318 - val_loss: 0.5300 - val_accuracy: 0.4500\n",
      "Epoch 2/40\n",
      "9000/9000 - 4s - loss: 0.4953 - accuracy: 0.4298 - val_loss: 0.4393 - val_accuracy: 0.4470\n",
      "Epoch 3/40\n",
      "9000/9000 - 4s - loss: 0.4288 - accuracy: 0.4306 - val_loss: 0.4149 - val_accuracy: 0.4480\n",
      "Epoch 4/40\n",
      "9000/9000 - 4s - loss: 0.4089 - accuracy: 0.4311 - val_loss: 0.4074 - val_accuracy: 0.4460\n",
      "Epoch 5/40\n",
      "9000/9000 - 4s - loss: 0.3993 - accuracy: 0.4313 - val_loss: 0.4056 - val_accuracy: 0.4450\n",
      "Epoch 6/40\n",
      "9000/9000 - 4s - loss: 0.3903 - accuracy: 0.4312 - val_loss: 0.4009 - val_accuracy: 0.4480\n",
      "Epoch 7/40\n",
      "9000/9000 - 4s - loss: 0.3841 - accuracy: 0.4317 - val_loss: 0.3992 - val_accuracy: 0.4470\n",
      "Epoch 8/40\n",
      "9000/9000 - 4s - loss: 0.3788 - accuracy: 0.4314 - val_loss: 0.4003 - val_accuracy: 0.4480\n",
      "Epoch 9/40\n",
      "9000/9000 - 4s - loss: 0.3755 - accuracy: 0.4319 - val_loss: 0.4021 - val_accuracy: 0.4430\n",
      "Epoch 10/40\n",
      "9000/9000 - 4s - loss: 0.3697 - accuracy: 0.4319 - val_loss: 0.4018 - val_accuracy: 0.4440\n",
      "Epoch 11/40\n",
      "9000/9000 - 4s - loss: 0.3664 - accuracy: 0.4320 - val_loss: 0.4005 - val_accuracy: 0.4440\n",
      "Epoch 12/40\n",
      "9000/9000 - 4s - loss: 0.3619 - accuracy: 0.4320 - val_loss: 0.4019 - val_accuracy: 0.4460\n",
      "Epoch 13/40\n",
      "9000/9000 - 4s - loss: 0.3585 - accuracy: 0.4320 - val_loss: 0.4028 - val_accuracy: 0.4430\n",
      "Epoch 14/40\n",
      "9000/9000 - 4s - loss: 0.3552 - accuracy: 0.4320 - val_loss: 0.4032 - val_accuracy: 0.4430\n",
      "Epoch 15/40\n",
      "9000/9000 - 4s - loss: 0.3529 - accuracy: 0.4320 - val_loss: 0.4017 - val_accuracy: 0.4440\n",
      "Epoch 16/40\n",
      "9000/9000 - 4s - loss: 0.3495 - accuracy: 0.4320 - val_loss: 0.4064 - val_accuracy: 0.4440\n",
      "Epoch 17/40\n",
      "9000/9000 - 4s - loss: 0.3477 - accuracy: 0.4320 - val_loss: 0.4086 - val_accuracy: 0.4430\n",
      "Epoch 18/40\n",
      "9000/9000 - 4s - loss: 0.3461 - accuracy: 0.4320 - val_loss: 0.4145 - val_accuracy: 0.4440\n",
      "Epoch 19/40\n",
      "9000/9000 - 4s - loss: 0.3438 - accuracy: 0.4320 - val_loss: 0.4183 - val_accuracy: 0.4470\n",
      "Epoch 20/40\n",
      "9000/9000 - 4s - loss: 0.3413 - accuracy: 0.4320 - val_loss: 0.4175 - val_accuracy: 0.4440\n",
      "Epoch 21/40\n",
      "9000/9000 - 4s - loss: 0.3397 - accuracy: 0.4320 - val_loss: 0.4187 - val_accuracy: 0.4460\n",
      "Epoch 22/40\n",
      "9000/9000 - 4s - loss: 0.3385 - accuracy: 0.4320 - val_loss: 0.4294 - val_accuracy: 0.4450\n",
      "Epoch 23/40\n",
      "9000/9000 - 5s - loss: 0.3368 - accuracy: 0.4320 - val_loss: 0.4252 - val_accuracy: 0.4420\n",
      "Epoch 24/40\n",
      "9000/9000 - 4s - loss: 0.3359 - accuracy: 0.4320 - val_loss: 0.4412 - val_accuracy: 0.4460\n",
      "Epoch 25/40\n",
      "9000/9000 - 4s - loss: 0.3340 - accuracy: 0.4320 - val_loss: 0.4301 - val_accuracy: 0.4450\n",
      "Epoch 26/40\n",
      "9000/9000 - 4s - loss: 0.3329 - accuracy: 0.4320 - val_loss: 0.4373 - val_accuracy: 0.4410\n",
      "Epoch 27/40\n",
      "9000/9000 - 4s - loss: 0.3320 - accuracy: 0.4319 - val_loss: 0.4513 - val_accuracy: 0.4450\n",
      "Epoch 28/40\n",
      "9000/9000 - 4s - loss: 0.3333 - accuracy: 0.4320 - val_loss: 0.4405 - val_accuracy: 0.4390\n",
      "Epoch 29/40\n",
      "9000/9000 - 4s - loss: 0.3307 - accuracy: 0.4320 - val_loss: 0.4505 - val_accuracy: 0.4440\n",
      "Epoch 30/40\n",
      "9000/9000 - 4s - loss: 0.3297 - accuracy: 0.4320 - val_loss: 0.4794 - val_accuracy: 0.4440\n",
      "Epoch 31/40\n",
      "9000/9000 - 4s - loss: 0.3287 - accuracy: 0.4320 - val_loss: 0.4811 - val_accuracy: 0.4440\n",
      "Epoch 32/40\n",
      "9000/9000 - 4s - loss: 0.3287 - accuracy: 0.4320 - val_loss: 0.4640 - val_accuracy: 0.4470\n",
      "Epoch 33/40\n",
      "9000/9000 - 4s - loss: 0.3285 - accuracy: 0.4320 - val_loss: 0.4751 - val_accuracy: 0.4440\n",
      "Epoch 34/40\n",
      "9000/9000 - 4s - loss: 0.3273 - accuracy: 0.4320 - val_loss: 0.4689 - val_accuracy: 0.4430\n",
      "Epoch 35/40\n",
      "9000/9000 - 4s - loss: 0.3266 - accuracy: 0.4320 - val_loss: 0.4855 - val_accuracy: 0.4430\n",
      "Epoch 36/40\n",
      "9000/9000 - 4s - loss: 0.3271 - accuracy: 0.4320 - val_loss: 0.4839 - val_accuracy: 0.4440\n",
      "Epoch 37/40\n",
      "9000/9000 - 4s - loss: 0.3272 - accuracy: 0.4319 - val_loss: 0.4851 - val_accuracy: 0.4440\n",
      "Epoch 38/40\n",
      "9000/9000 - 4s - loss: 0.3250 - accuracy: 0.4320 - val_loss: 0.4806 - val_accuracy: 0.4420\n",
      "Epoch 39/40\n",
      "9000/9000 - 4s - loss: 0.3255 - accuracy: 0.4320 - val_loss: 0.4717 - val_accuracy: 0.4430\n",
      "Epoch 40/40\n",
      "9000/9000 - 5s - loss: 0.3253 - accuracy: 0.4320 - val_loss: 0.4899 - val_accuracy: 0.4450\n"
     ]
    }
   ],
   "source": [
    "history = model.fit(train_padded, train_labels, epochs=40,\n",
    "                   validation_data=(test_padded, test_labels), verbose=2)"
   ]
  },
  {
   "cell_type": "code",
   "execution_count": 205,
   "metadata": {},
   "outputs": [
    {
     "data": {
      "image/png": "[encoded data removed]",
      "text/plain": [
       "<Figure size 432x288 with 1 Axes>"
      ]
     },
     "metadata": {
      "needs_background": "light"
     },
     "output_type": "display_data"
    },
    {
     "data": {
      "image/png": "[encoded data removed]",
      "text/plain": [
       "<Figure size 432x288 with 1 Axes>"
      ]
     },
     "metadata": {
      "needs_background": "light"
     },
     "output_type": "display_data"
    }
   ],
   "source": [
    "import matplotlib.pyplot as plt\n",
    "\n",
    "# summarize history for accuracy\n",
    "plt.plot(history.history['accuracy'])\n",
    "plt.plot(history.history['val_accuracy'])\n",
    "plt.title('model accuracy')\n",
    "plt.ylabel('accuracy')\n",
    "plt.xlabel('epoch')\n",
    "plt.legend(['train', 'test'], loc='upper left')\n",
    "plt.show()\n",
    "# summarize history for loss\n",
    "plt.plot(history.history['loss'])\n",
    "plt.plot(history.history['val_loss'])\n",
    "plt.title('model loss')\n",
    "plt.ylabel('loss')\n",
    "plt.xlabel('epoch')\n",
    "plt.legend(['train', 'test'], loc='upper left')\n",
    "plt.show()"
   ]
  },
  {
   "cell_type": "code",
   "execution_count": 212,
   "metadata": {},
   "outputs": [
    {
     "name": "stdout",
     "output_type": "stream",
     "text": [
      "[[0.27221116]\n",
      " [0.737674  ]]\n",
      "1.0\n",
      "4.0\n"
     ]
    }
   ],
   "source": [
    "sentences = [\n",
    "    \"Horrible, this is a bad place. Disgusting\",\n",
    "    \"I recommed to all to have a dinner here!\"\n",
    "]\n",
    "\n",
    "sequences = tokenizer.texts_to_sequences(sentences)\n",
    "padded = pad_sequences(sequences, maxlen=max_length, padding='post')\n",
    "\n",
    "result = model.predict(padded)\n",
    "\n",
    "print(result)\n",
    "for i in result:\n",
    "    print(round(i*5))"
   ]
  },
  {
   "cell_type": "code",
   "execution_count": null,
   "metadata": {},
   "outputs": [],
   "source": []
  }
 ],
 "metadata": {
  "kernelspec": {
   "display_name": "Python 2",
   "language": "python",
   "name": "python2"
  },
  "language_info": {
   "codemirror_mode": {
    "name": "ipython",
    "version": 2
   },
   "file_extension": ".py",
   "mimetype": "text/x-python",
   "name": "python",
   "nbconvert_exporter": "python",
   "pygments_lexer": "ipython2",
   "version": "2.7.17"
  }
 },
 "nbformat": 4,
 "nbformat_minor": 2
}
