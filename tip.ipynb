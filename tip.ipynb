{
 "cells": [
  {
   "cell_type": "markdown",
   "metadata": {},
   "source": [
    "## Analysis of tip.json"
   ]
  },
  {
   "cell_type": "markdown",
   "metadata": {},
   "source": [
    "#### Data loading"
   ]
  },
  {
   "cell_type": "code",
   "execution_count": 1,
   "metadata": {},
   "outputs": [
    {
     "name": "stdout",
     "output_type": "stream",
     "text": [
      "tip.json contains 1320761 records, each composed by 5 columns.\n"
     ]
    }
   ],
   "source": [
    "import pandas as pd\n",
    "\n",
    "# read the entire file into a python array\n",
    "with open('yelp_dataset/yelp_academic_dataset_tip.json', 'rb') as f:\n",
    "    data = f.readlines()\n",
    "\n",
    "# remove the trailing \"\\n\" from each line\n",
    "data = map(lambda x: x.rstrip(), data)\n",
    "data_json_str = \"[\" + ','.join(data) + \"]\"\n",
    "\n",
    "# now, load it into pandas\n",
    "df = pd.read_json(data_json_str)\n",
    "print(\"tip.json contains %i records, each composed by %i columns.\" % (df.shape[0], df.shape[1]))"
   ]
  },
  {
   "cell_type": "markdown",
   "metadata": {},
   "source": [
    "#### Data preview"
   ]
  },
  {
   "cell_type": "code",
   "execution_count": 2,
   "metadata": {},
   "outputs": [
    {
     "data": {
      "text/html": [
       "<div>\n",
       "<style scoped>\n",
       "    .dataframe tbody tr th:only-of-type {\n",
       "        vertical-align: middle;\n",
       "    }\n",
       "\n",
       "    .dataframe tbody tr th {\n",
       "        vertical-align: top;\n",
       "    }\n",
       "\n",
       "    .dataframe thead th {\n",
       "        text-align: right;\n",
       "    }\n",
       "</style>\n",
       "<table border=\"1\" class=\"dataframe\">\n",
       "  <thead>\n",
       "    <tr style=\"text-align: right;\">\n",
       "      <th></th>\n",
       "      <th>business_id</th>\n",
       "      <th>compliment_count</th>\n",
       "      <th>date</th>\n",
       "      <th>text</th>\n",
       "      <th>user_id</th>\n",
       "    </tr>\n",
       "  </thead>\n",
       "  <tbody>\n",
       "    <tr>\n",
       "      <th>0</th>\n",
       "      <td>UYX5zL_Xj9WEc_Wp-FrqHw</td>\n",
       "      <td>0</td>\n",
       "      <td>2013-11-26 18:20:08</td>\n",
       "      <td>Here for a quick mtg</td>\n",
       "      <td>hf27xTME3EiCp6NL6VtWZQ</td>\n",
       "    </tr>\n",
       "    <tr>\n",
       "      <th>1</th>\n",
       "      <td>Ch3HkwQYv1YKw_FO06vBWA</td>\n",
       "      <td>0</td>\n",
       "      <td>2014-06-15 22:26:45</td>\n",
       "      <td>Cucumber strawberry refresher</td>\n",
       "      <td>uEvusDwoSymbJJ0auR3muQ</td>\n",
       "    </tr>\n",
       "    <tr>\n",
       "      <th>2</th>\n",
       "      <td>rDoT-MgxGRiYqCmi0bG10g</td>\n",
       "      <td>0</td>\n",
       "      <td>2016-07-18 22:03:42</td>\n",
       "      <td>Very nice good service good food</td>\n",
       "      <td>AY-laIws3S7YXNl_f_D6rQ</td>\n",
       "    </tr>\n",
       "    <tr>\n",
       "      <th>3</th>\n",
       "      <td>OHXnDV01gLokiX1ELaQufA</td>\n",
       "      <td>0</td>\n",
       "      <td>2014-06-06 01:10:34</td>\n",
       "      <td>It's a small place. The staff is friendly.</td>\n",
       "      <td>Ue_7yUlkEbX4AhnYdUfL7g</td>\n",
       "    </tr>\n",
       "    <tr>\n",
       "      <th>4</th>\n",
       "      <td>GMrwDXRlAZU2zj5nH6l4vQ</td>\n",
       "      <td>0</td>\n",
       "      <td>2011-04-08 18:12:01</td>\n",
       "      <td>8 sandwiches, $24 total...what a bargain!!! An...</td>\n",
       "      <td>LltbT_fUMqZ-ZJP-vJ84IQ</td>\n",
       "    </tr>\n",
       "  </tbody>\n",
       "</table>\n",
       "</div>"
      ],
      "text/plain": [
       "              business_id  compliment_count                date  \\\n",
       "0  UYX5zL_Xj9WEc_Wp-FrqHw                 0 2013-11-26 18:20:08   \n",
       "1  Ch3HkwQYv1YKw_FO06vBWA                 0 2014-06-15 22:26:45   \n",
       "2  rDoT-MgxGRiYqCmi0bG10g                 0 2016-07-18 22:03:42   \n",
       "3  OHXnDV01gLokiX1ELaQufA                 0 2014-06-06 01:10:34   \n",
       "4  GMrwDXRlAZU2zj5nH6l4vQ                 0 2011-04-08 18:12:01   \n",
       "\n",
       "                                                text                 user_id  \n",
       "0                               Here for a quick mtg  hf27xTME3EiCp6NL6VtWZQ  \n",
       "1                      Cucumber strawberry refresher  uEvusDwoSymbJJ0auR3muQ  \n",
       "2                   Very nice good service good food  AY-laIws3S7YXNl_f_D6rQ  \n",
       "3         It's a small place. The staff is friendly.  Ue_7yUlkEbX4AhnYdUfL7g  \n",
       "4  8 sandwiches, $24 total...what a bargain!!! An...  LltbT_fUMqZ-ZJP-vJ84IQ  "
      ]
     },
     "execution_count": 2,
     "metadata": {},
     "output_type": "execute_result"
    }
   ],
   "source": [
    "df.head()"
   ]
  },
  {
   "cell_type": "markdown",
   "metadata": {
    "scrolled": true
   },
   "source": [
    "#### Top Rated"
   ]
  },
  {
   "cell_type": "code",
   "execution_count": 3,
   "metadata": {},
   "outputs": [
    {
     "data": {
      "text/html": [
       "<div>\n",
       "<style scoped>\n",
       "    .dataframe tbody tr th:only-of-type {\n",
       "        vertical-align: middle;\n",
       "    }\n",
       "\n",
       "    .dataframe tbody tr th {\n",
       "        vertical-align: top;\n",
       "    }\n",
       "\n",
       "    .dataframe thead th {\n",
       "        text-align: right;\n",
       "    }\n",
       "</style>\n",
       "<table border=\"1\" class=\"dataframe\">\n",
       "  <thead>\n",
       "    <tr style=\"text-align: right;\">\n",
       "      <th></th>\n",
       "      <th>business_id</th>\n",
       "      <th>compliment_count</th>\n",
       "      <th>date</th>\n",
       "      <th>text</th>\n",
       "      <th>user_id</th>\n",
       "    </tr>\n",
       "  </thead>\n",
       "  <tbody>\n",
       "    <tr>\n",
       "      <th>787686</th>\n",
       "      <td>gwdQwe1JHLe-vPY9PjKOUg</td>\n",
       "      <td>15</td>\n",
       "      <td>2016-11-15 10:26:49</td>\n",
       "      <td>Ending your pet's life is devastating enough, ...</td>\n",
       "      <td>wTfb2nfzPIyFcYQArdPtuQ</td>\n",
       "    </tr>\n",
       "    <tr>\n",
       "      <th>784151</th>\n",
       "      <td>Rrzm4bQDrrUnDyA5eRY3KQ</td>\n",
       "      <td>12</td>\n",
       "      <td>2016-09-14 19:57:29</td>\n",
       "      <td>1st Pet was very kind in regards to helping wi...</td>\n",
       "      <td>wTfb2nfzPIyFcYQArdPtuQ</td>\n",
       "    </tr>\n",
       "    <tr>\n",
       "      <th>561141</th>\n",
       "      <td>j7zJxmr8BfYJhC3KW9BshA</td>\n",
       "      <td>11</td>\n",
       "      <td>2015-09-17 15:22:35</td>\n",
       "      <td>License photographer assured me her photos alw...</td>\n",
       "      <td>8DEyKVyplnOcSKx39vatbg</td>\n",
       "    </tr>\n",
       "    <tr>\n",
       "      <th>188992</th>\n",
       "      <td>QJ6GXAAMkgCZPF0bZk0xLw</td>\n",
       "      <td>9</td>\n",
       "      <td>2015-06-18 19:04:37</td>\n",
       "      <td>Heads up.... The sweet older couple who owned ...</td>\n",
       "      <td>Fv0e9RIV9jw5TX3ctA1WbA</td>\n",
       "    </tr>\n",
       "    <tr>\n",
       "      <th>208097</th>\n",
       "      <td>D6K3VT6S8FwFm4u5uN8T8g</td>\n",
       "      <td>8</td>\n",
       "      <td>2015-08-16 06:41:22</td>\n",
       "      <td>WARNING, TMI to follow: After multiple therape...</td>\n",
       "      <td>A5A34ixb-yy6nwL42iZsnw</td>\n",
       "    </tr>\n",
       "  </tbody>\n",
       "</table>\n",
       "</div>"
      ],
      "text/plain": [
       "                   business_id  compliment_count                date  \\\n",
       "787686  gwdQwe1JHLe-vPY9PjKOUg                15 2016-11-15 10:26:49   \n",
       "784151  Rrzm4bQDrrUnDyA5eRY3KQ                12 2016-09-14 19:57:29   \n",
       "561141  j7zJxmr8BfYJhC3KW9BshA                11 2015-09-17 15:22:35   \n",
       "188992  QJ6GXAAMkgCZPF0bZk0xLw                 9 2015-06-18 19:04:37   \n",
       "208097  D6K3VT6S8FwFm4u5uN8T8g                 8 2015-08-16 06:41:22   \n",
       "\n",
       "                                                     text  \\\n",
       "787686  Ending your pet's life is devastating enough, ...   \n",
       "784151  1st Pet was very kind in regards to helping wi...   \n",
       "561141  License photographer assured me her photos alw...   \n",
       "188992  Heads up.... The sweet older couple who owned ...   \n",
       "208097  WARNING, TMI to follow: After multiple therape...   \n",
       "\n",
       "                       user_id  \n",
       "787686  wTfb2nfzPIyFcYQArdPtuQ  \n",
       "784151  wTfb2nfzPIyFcYQArdPtuQ  \n",
       "561141  8DEyKVyplnOcSKx39vatbg  \n",
       "188992  Fv0e9RIV9jw5TX3ctA1WbA  \n",
       "208097  A5A34ixb-yy6nwL42iZsnw  "
      ]
     },
     "execution_count": 3,
     "metadata": {},
     "output_type": "execute_result"
    }
   ],
   "source": [
    "df.sort_values(by=['compliment_count'], ascending=False).head()"
   ]
  }
 ],
 "metadata": {
  "kernelspec": {
   "display_name": "Python 2",
   "language": "python",
   "name": "python2"
  },
  "language_info": {
   "codemirror_mode": {
    "name": "ipython",
    "version": 2
   },
   "file_extension": ".py",
   "mimetype": "text/x-python",
   "name": "python",
   "nbconvert_exporter": "python",
   "pygments_lexer": "ipython2",
   "version": "2.7.17"
  }
 },
 "nbformat": 4,
 "nbformat_minor": 2
}
